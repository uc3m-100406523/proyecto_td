{
 "cells": [
  {
   "cell_type": "markdown",
   "metadata": {
    "id": "eU_gqVHcSuHE"
   },
   "source": [
    "# <font color='#2B4865'>**Hugging Face 🤗 Transformers Tutorial I**</font>\n",
    "\n",
    "---\n",
    "### Natural Language Processing\n",
    "Date: Dec 21, 2022\n",
    "\n",
    "Last Update: Nov 25, 2023\n",
    "\n",
    "Author: Lorena Calvo-Bartolomé (lcalvo@pa.uc3m.es)\n",
    "\n",
    "Version 1.1\n",
    "\n",
    "---\n",
    "This notebook is based on the [Hugging Face course](https://huggingface.co/course/chapter1/1), documentation available at the Hugging Face website and  [CS224n](https://web.stanford.edu/class/cs224n/)'s Hugging Face Transformers Tutorial session by Ben Newman.\n",
    "\n",
    "It constitutes the first out of three tutorial notebooks on the usage of Hugging Face libraries as well as its application for solving a series of NLP tasks.\n",
    "\n",
    "This notebook provides an introduction to the Hugging Face 🤗 Python library. In particular, its **goals** are:\n",
    "\n",
    "*  To establish a common pattern for performing inference with Hugging Face Transformer models\n",
    "*  To revise the specific fine-tuning example on the task of Sentiment Analysis\n",
    "\n",
    "---\n",
    "\n",
    "<font color='#E0144C'>**For this notebook's execution, we highly encourage you to use Google Colaboratory. While for the inference part it is not necessary, you will highly speed up the execution if you make use of a GPU. For doing so, follow the following steps:**</font>\n",
    "\n",
    "<font color='#E0144C'>**1. Connect to hosted runtime**</font>\n",
    "\n",
    "<font color='#E0144C'>**2. Enable GPU setting by clicking Edit -> Notebook Settings -> Select GPU in Hardware Acceleration Tab -> Save**</font>"
   ]
  },
  {
   "cell_type": "markdown",
   "metadata": {
    "id": "H_ak68EcROir"
   },
   "source": [
    "## <font color='#2B4865'>Installing necessary packages, imports and auxiliary functions</font>"
   ]
  },
  {
   "cell_type": "code",
   "execution_count": null,
   "metadata": {
    "colab": {
     "base_uri": "https://localhost:8080/"
    },
    "id": "jNmR0A9v3gG7",
    "outputId": "5c90188f-04c0-4bef-d3c2-421271d02cd4"
   },
   "outputs": [],
   "source": [
    "# Install necessary packages\n",
    "import importlib, os\n",
    "\n",
    "necessary_packages = ['transformers[sentencepiece,torch]', 'datasets', 'colored', 'wikipedia', 'evaluate', 'nltk', 'rouge_score', 'bertviz']\n",
    "def import_missing(packages):\n",
    "  for p in packages:\n",
    "    try:\n",
    "      mod = importlib.import_module(p)\n",
    "      print(f\"Package {p} already installed!\")\n",
    "      packages.remove(p)\n",
    "    except ModuleNotFoundError:\n",
    "      print(f\"Installing package {p}\")\n",
    "      with open(\"requirements.txt\", 'w') as f:\n",
    "        f.write(\"\\n\".join(str(i) for i in packages))\n",
    "  if os.path.isfile(\"requirements.txt\"):\n",
    "    %pip install --quiet -r \"requirements.txt\"\n",
    "\n",
    "import_missing(necessary_packages)\n",
    "#%pip install accelerate -U --quiet"
   ]
  },
  {
   "cell_type": "code",
   "execution_count": null,
   "metadata": {
    "colab": {
     "base_uri": "https://localhost:8080/"
    },
    "id": "VszD2tguTJcS",
    "outputId": "c1472f80-3ddd-4752-f2d0-11de38aece68"
   },
   "outputs": [],
   "source": [
    "# Common imports\n",
    "import os\n",
    "import numpy as np\n",
    "import pandas as pd\n",
    "from colored import Fore, Back, Style\n",
    "import seaborn as sns\n",
    "import matplotlib.pyplot as plt\n",
    "import tqdm\n",
    "import scipy\n",
    "from colored import fore, back, style\n",
    "import torch\n",
    "import json\n",
    "import random\n",
    "from collections import defaultdict\n",
    "import nltk\n",
    "nltk.download(\"punkt\")\n",
    "\n",
    "# Figures plotted inside the notebook\n",
    "%matplotlib inline\n",
    "# High quality figures\n",
    "%config InlineBackend.figure_format = 'retina'\n",
    "# Figures style\n",
    "sns.set_style(\"darkgrid\")\n",
    "sns.color_palette(\"deep\")\n",
    "# Figues size\n",
    "plt.rcParams['figure.figsize'] = [8, 6]\n",
    "\n",
    "import warnings\n",
    "warnings.simplefilter(action='ignore', category=FutureWarning)\n",
    "warnings.filterwarnings(action='ignore',module='gradio')"
   ]
  },
  {
   "cell_type": "code",
   "execution_count": null,
   "metadata": {
    "id": "lhwq7n9ETRuL"
   },
   "outputs": [],
   "source": [
    "# To wrap long text lines\n",
    "from IPython.display import HTML, display\n",
    "\n",
    "def set_css():\n",
    "  display(HTML('''\n",
    "  <style>\n",
    "    pre {\n",
    "        white-space: pre-wrap;\n",
    "    }\n",
    "  </style>\n",
    "  '''))\n",
    "get_ipython().events.register('pre_run_cell', set_css)\n",
    "\n",
    "# For fancy table Display\n",
    "%load_ext google.colab.data_table"
   ]
  },
  {
   "cell_type": "code",
   "execution_count": null,
   "metadata": {
    "colab": {
     "base_uri": "https://localhost:8080/",
     "height": 17
    },
    "id": "c2NeGDEO48Bi",
    "outputId": "773f451b-2a4b-4b89-a669-9b104929b0ca"
   },
   "outputs": [],
   "source": [
    "# Auxiliary funcion to print Trasnformer encodings\n",
    "def print_encoding(model_inputs, indent=4):\n",
    "    indent_str = \" \" * indent\n",
    "    print(\"{\")\n",
    "    for k, v in model_inputs.items():\n",
    "        print(indent_str + k + \":\")\n",
    "        print(indent_str + indent_str + str(v))\n",
    "    print(\"}\")"
   ]
  },
  {
   "cell_type": "code",
   "execution_count": null,
   "metadata": {
    "colab": {
     "base_uri": "https://localhost:8080/"
    },
    "id": "hTPdyX5-bb-w",
    "outputId": "9ac09bde-91e8-41ea-c135-e00ead830c14",
    "vscode": {
     "languageId": "plaintext"
    }
   },
   "outputs": [],
   "source": [
    "# Google Drive integration\n",
    "\n",
    "# Libraries to work with Google Drive and the file system\n",
    "from google.colab import drive\n",
    "import os, sys\n",
    "\n",
    "# Drive is mounted\n",
    "drive.mount(\"/content/drive\")\n",
    "\n",
    "# Current directory is shown\n",
    "print(os.getcwd())\n",
    "\n",
    "# We change to work directory\n",
    "directory_path = \"/content/drive/MyDrive/Colab Notebooks/proyecto_td/reference_code/Hugging_Face_Transformers_Tutorial_I/\"  # Define directory_path here\n",
    "if not os.path.exists(directory_path):\n",
    "  os.makedirs(directory_path)\n",
    "  print(f\"Directory created: {directory_path}\")\n",
    "os.chdir(directory_path)"
   ]
  },
  {
   "cell_type": "markdown",
   "metadata": {
    "id": "WS2DntKdviBl"
   },
   "source": [
    "## <font color='#2B4865'>**0. Introduction**\n",
    "---\n",
    "</font>"
   ]
  },
  {
   "cell_type": "markdown",
   "metadata": {
    "id": "yFEh5EWsvshb"
   },
   "source": [
    "### <font color='#2B4865'>*0.1. Hugging Face*</font>"
   ]
  },
  {
   "cell_type": "markdown",
   "metadata": {
    "id": "99ynm_GMvfGW"
   },
   "source": [
    "As we have seen in class, Transformer models have become state-of-the-art for NLP to solve a wide range of tasks. In practice, we will rarely train a Transformer model from scratch, as they tend to be very large, thus requiring time, money, and lots of data to train fully. Instead, we will want to start with a pre-trained model and fine-tune it with our specific dataset if required.\n",
    "\n",
    "[Hugging Face](https://huggingface.co/) (🤗) is the best resource for pre-trained transformers. Among other things, it provides:\n",
    "\n",
    "*   APIs and tools to easily download and train state-of-the-art pretrained models, as well as pipelines for carrying out common NLP tasks, in the [Transformers library](https://huggingface.co/docs/transformers/index).\n",
    "*   State-of-the-art tokenizers, optimized for both research and production are also used in Transformers in the [Tokenizers library](https://huggingface.co/docs/tokenizers/index).\n",
    "*   Datasets and metrics in the [Datasets library](https://huggingface.co/docs/datasets/index).\n",
    "\n",
    "It has implementations in PyTorch, Tensorflow, and Flax (though we'll be using the **PyTorch** versions here)."
   ]
  },
  {
   "cell_type": "markdown",
   "metadata": {
    "id": "bg5_7T1hqXDy"
   },
   "source": [
    "### <font color='#2B4865'>*0.2. NLP tasks overview*</font>"
   ]
  },
  {
   "cell_type": "markdown",
   "metadata": {
    "id": "jkBZjcF-0bsk"
   },
   "source": [
    "In the series of notebooks \"Hugging Face Transformers Tutorial\" I, II & III, we will learn how to approach via Hugging Face the tasks of:\n",
    "\n",
    "*   **Sentiment Analysis**\n",
    "*   **Extractive Question Answering**\n",
    "*   **Summarization**\n",
    "*   **Text Generation**\n",
    "\n",
    "Even when we are just going to cover the above-mentioned tasks, bear in mind that many others can be addressed through Hugging Face.\n",
    "\n",
    "In any case, we will use a different Transformer architecture depending on the task we aim to solve. The following table summarizes the most common tasks that can be approached with either an Encoder, Decoder, or a full Encoder-Decoder architecture:\n",
    "\n",
    "<table><thead><tr><th><font color='#256D85'>Model</font></th><th><font color='#256D85'>Examples</font></th><th><font color='#256D85'>Tasks</font></th></tr></thead><tbody><tr><td><b>ENCODER</b></td><td>ALBERT, BERT, DistilBERT, ELECTRA, RoBERTa</td><td>Sentence classification, named entity recognition, extractive question answering</td></tr><tr><td><b>DECODER</b></td><td>CTRL, GPT, GPT-2, Transformer XL</td><td>Text generation</td></tr><tr><td><b>ENCODER-DECODER</b></td><td>BART, T5, Marian, mBART</td><td>Summarization, translation, generative question answering</td></tr></tbody></table>\n",
    "\n",
    "In the following, we will attempt to solve the aforementioned tasks first through inference, and then, via fine-tuning. We will start by presenting a common usage pattern for Hugging Face Transformers, using the example of Sentiment Analysis, and then we will benefit from such a pattern to work out the other two tasks."
   ]
  },
  {
   "cell_type": "markdown",
   "metadata": {
    "id": "PEE4Jukv0ZWy"
   },
   "source": [
    "## <font color='#2B4865'>**1. Sentiment Analysis**\n",
    "---\n",
    "</font>"
   ]
  },
  {
   "cell_type": "markdown",
   "metadata": {
    "id": "F-4rg_ZJaG5b"
   },
   "source": [
    "As we saw in Block I, **Sentiment analysis** is an NLP technique that identifies the polarity of a given text. There are different forms of sentiment analysis, but one of the most widely used techniques labels data as positive, negative, and neutral."
   ]
  },
  {
   "cell_type": "markdown",
   "metadata": {
    "id": "I_bOeklctm0C"
   },
   "source": [
    "##### <font color='#2B4865'>**Architecture for approaching the task**</font>"
   ]
  },
  {
   "cell_type": "markdown",
   "metadata": {
    "id": "P6UhqQ6dtkIs"
   },
   "source": [
    "**Sentiment Analysis** is not more than a use case of the general task named **Token classification**, that is, any problem that can be formulated as \"*attributing a label to each token in a sentence*\". Other types of Token Classification tasks include **Named entity recognition (NER)** and **Part-of-speech tagging (POS)**, among others. All of them are approached via **BERT-like** models."
   ]
  },
  {
   "cell_type": "markdown",
   "metadata": {
    "id": "twr8jkEWttz6"
   },
   "source": [
    "##### <font color='#2B4865'>**Evaluation metrics**</font>"
   ]
  },
  {
   "cell_type": "markdown",
   "metadata": {
    "id": "w6p5zs64vNhF"
   },
   "source": [
    "Same as we did in the Text Vectorization notebooks, we will be analyzing our Sentiment Analysis task based on the **accuracy**, that is the proportion of correct predictions among the total number of cases processed:\n",
    "\n",
    "$$Accuracy = \\frac{(TP + TN)}{(TP + TN + FP + FN)}$$\n",
    "\n",
    "Even though we will be using accuracy, note that there exist other metrics for token classification tasks such as the **F1-score**."
   ]
  },
  {
   "cell_type": "markdown",
   "metadata": {
    "id": "ts7IfG2GzX0L"
   },
   "source": [
    "### <font color='#2B4865'>*1.1. Inference*</font>"
   ]
  },
  {
   "cell_type": "markdown",
   "metadata": {
    "id": "KjhZvtO57Wc_"
   },
   "source": [
    "#### <font color='#2B4865'>*1.1.1. Transformers pipelines*</font>"
   ]
  },
  {
   "cell_type": "markdown",
   "metadata": {
    "id": "Sou5hO6C6SWo"
   },
   "source": [
    "The 🤗 ``Transformers`` library provides ``pipelines`` to solve specific tasks. A **pipeline** consists of:\n",
    "\n",
    "*   a **tokenizer** in charge of mapping raw textual input to tokens\n",
    "*   a **model** to make predictions from the inputs\n",
    "*   some (optional) **postprocessing** for enhancing model’s output\n",
    "\n",
    "all of them packaged together into an easy-to-use and configurable object.\n",
    "\n",
    "<br><center><img src=\"https://drive.google.com/uc?id=1dTZTRdLRAWWR_8yJf-l7DzKphj7MW9wB\" width=\"60%\"></center><br>\n",
    "\n",
    "Pipelines are an easy way to use models for inference since they are **intended to be used without fine-tuning**. They are objects that abstract most of the complex code from the library, offering a simple API dedicated to several tasks.\n",
    "\n",
    "There are **two categories of pipeline abstractions** to be aware of: the ``pipeline()`` which is the most powerful object encapsulating all other pipelines, and other **task-specific pipelines**. Some examples of the latter include:\n",
    "\n",
    "```python\n",
    "AudioClassificationPipeline\n",
    "AutomaticSpeechRecognitionPipeline\n",
    "ConversationalPipeline\n",
    "FeatureExtractionPipeline\n",
    "...\n",
    "```\n",
    "\n",
    "**NOTE**: You can create a pipeline without specifying any model. In this case, the default checkpoint associated with the pipeline being instantiated will be used.\n",
    "\n",
    "For more information about pipelines, you can check the [Hugging Face Pipelines Docs](https://huggingface.co/docs/transformers/v4.21.2/en/main_classes/pipelines#transformers.pipeline)."
   ]
  },
  {
   "cell_type": "markdown",
   "metadata": {
    "id": "aTpUUhYi1Mjp"
   },
   "source": [
    "Let's see how to exploit these pipelines for our Sentiment Analysis task.\n",
    "\n",
    "The **first step** is to find a model on [the hub](https://huggingface.co/models). Here, we will be using [``siebert/sentiment-roberta-large-english``](https://huggingface.co/siebert/sentiment-roberta-large-english), a fine-tuned checkpoint of [RoBERTa-large](https://arxiv.org/pdf/1907.11692.pdf) for sentiment classification.\n",
    "\n",
    "Once we have the model we are going to use, we can create our Sentiment Analysis pipeline and use it to predict the polarity of any sentence."
   ]
  },
  {
   "cell_type": "code",
   "execution_count": null,
   "metadata": {
    "colab": {
     "base_uri": "https://localhost:8080/",
     "height": 209,
     "referenced_widgets": [
      "4d90df90a8ec417298e63420cadf4dad",
      "80bf4aff054649439d8506bf37153dfc",
      "966e42fa315e41dcb663939d77d8ff6e",
      "4eda2e1a1eb942a6b747ab6320ad176c",
      "5936b91b966a4a8e9907f7c734613468",
      "69845713217e4f00a492169a50f93d17",
      "83937decaecd4b1ea459dcfedf3acb92",
      "edb447561e1c4a049f7da7fe57c08676",
      "647b9e91e69548f1afdd1d75dd4da1b0",
      "aab35f9a078a4c2b99bc0db2c64f7880",
      "ae9d3a0394ed4e9ca9e17abda4f3f7bb",
      "31afedb232cd4b3eb87e5f715b1f8193",
      "17f5f35fb54843088cef376e822e75c7",
      "75ab693a0db5444fa2b0cec561859fc2",
      "2ae1039ce0f94332947a9a635042e636",
      "4286f27ab13646769ce086b0b8773e0d",
      "f72078c423b84ff9a6ef526851e6b329",
      "20db7af81ff040ccb78cd37fd0374572",
      "ab9967ad160843bba1cd90a7a8b610bc",
      "a4f7cfa7f2b94fbd97cb5bd8ccca3c28",
      "ad6ad5859f604d368ed61f4a137e888b",
      "56255322344749f79484a28d7cb36bc4",
      "593c3a7cd3cf4b2097482991aae3c043",
      "0ef855cacadd43d99de02789c27984d3",
      "0adaa73511c74363a73733811c211a4f",
      "97ceeff4d6e54ceb91999d3ca443df5e",
      "873e1fda0e0c4033a6566d0af304f7cd",
      "e7a5218ca2ee48899fc991221e225807",
      "a0b01ff9d9594480a50d387c490f924c",
      "a2de76f6cd3b4cd499a08b4051712c67",
      "63467387aa9840b98a01db643449c589",
      "43227ebe073d4e9e8b5c6ef433676371",
      "5ffe0aec7400423ab65d84d058bdb719",
      "72b5745d4268408c94a3efc2fa2e68c9",
      "091944e7ce1f41a39cb283f0223d8540",
      "44c4d11355414acaa723f5fb7508d4c3",
      "066493c589294d619a61e5ffe4cf81be",
      "0f98b078e44d4cee85380609e58f8631",
      "e2b085f869f04e48a535ade900c2838b",
      "0f1140199f6049a0a11fc42ebbff8056",
      "b3d4fddd949b4d5aac119f1072972545",
      "1e90731472f443a8be006d56fb54deea",
      "c33cf43114e4430bbe411ca5cf5f07fd",
      "7e4cc7c7ad834befbb1f5fb728e19480",
      "e6fd319d13c447f0b983fbb3791b2967",
      "f61e49d1b75141eaaf82f12a4f59b3e3",
      "3dbaaa194a544af5a4ec6d92539aafec",
      "62a6a91483c844e7b16ff49def9ea893",
      "771fe2c037f24e2286788e68296eccd6",
      "89441c396da540bcbaf89ba978c9092d",
      "e6afd7c1f2944bf7a2f30476203161c5",
      "000320bdec4c4fec9e8daae446402936",
      "60dcc26576dc417089f56fa5ddb48619",
      "35412e4fe65d4096b251fac159778a6d",
      "615b46f141514ebc96be43bb9132f9bf",
      "47cf20d39c61420e93c972f0bb096784",
      "73656ef7bd6e44bebcd89dd5ab74d8db",
      "f22b5c2292f5437daa13251da0dab9ec",
      "435d51f1b3a846fbaca61f2870a78093",
      "c752eefa359f4d91a2f2508667698b42",
      "d953baf213324bd6a731cdc8a9e0d4df",
      "96a59d6d27af46c99ea487b4bda641c4",
      "bf86ecb8744147e79d31f368ad9800d9",
      "ae07d59c574949e3a401e82f7d8302c8",
      "a4da2f64e2e84842ad18e20d77fdf45a",
      "da8db023bcb44269a349e4dde96b156d"
     ]
    },
    "id": "TgxDiyQ52SB9",
    "outputId": "05e585ae-33f3-4757-cb3c-c93c356c5ea9"
   },
   "outputs": [],
   "source": [
    "checkpoint_name = \"siebert/sentiment-roberta-large-english\"\n",
    "\n",
    "from transformers import pipeline\n",
    "\n",
    "# Create a TextClassificationPipeline object\n",
    "sentiment_analysis = pipeline(\"sentiment-analysis\", model=checkpoint_name)"
   ]
  },
  {
   "cell_type": "code",
   "execution_count": null,
   "metadata": {
    "colab": {
     "base_uri": "https://localhost:8080/",
     "height": 52
    },
    "id": "1RNTv2xE181K",
    "outputId": "0dc5abc0-418b-4d3b-e5aa-a7c1c8476ae1"
   },
   "outputs": [],
   "source": [
    "# Predict the sentiment of any sentence\n",
    "sentences = [\"I'm excited to keep learning about Transformers!\",\n",
    "             \"I hate this so much!\"]\n",
    "sentiment_analysis(sentences)"
   ]
  },
  {
   "cell_type": "markdown",
   "metadata": {
    "id": "z41tHeSy2s1C"
   },
   "source": [
    "Within the pipeline, there are two objects that are initialized, a **tokenizer** and a **model**. We can mimic step by step the process carried out by the pipeline for the classification of the sentiment:"
   ]
  },
  {
   "cell_type": "code",
   "execution_count": null,
   "metadata": {
    "colab": {
     "base_uri": "https://localhost:8080/",
     "height": 295
    },
    "id": "TFjyu6N2208D",
    "outputId": "201abe20-94f2-4491-ad44-b730d5a8ee9a"
   },
   "outputs": [],
   "source": [
    "from transformers import AutoTokenizer, AutoModelForSequenceClassification\n",
    "\n",
    "# Initialize the tokenizer\n",
    "tokenizer = AutoTokenizer.from_pretrained(checkpoint_name)\n",
    "# Initialize the model\n",
    "model = AutoModelForSequenceClassification.from_pretrained(checkpoint_name)\n",
    "\n",
    "# Tokenize text inputs\n",
    "tokenized_inputs = tokenizer(sentences[0], return_tensors=\"pt\")\n",
    "\n",
    "# Pass tokenized inputs through the Transformer model\n",
    "outputs = model(**tokenized_inputs)\n",
    "\n",
    "# Get predictions\n",
    "labels = ['NEGATIVE', 'POSITIVE']\n",
    "prediction = torch.argmax(outputs.logits)\n",
    "\n",
    "print(Fore.LIGHT_BLUE + Style.BOLD + \"Inputs:\" + Style.RESET)\n",
    "print(sentences[0]+\"\\n\")\n",
    "\n",
    "print(Fore.LIGHT_BLUE + Style.BOLD + \"Tokenized Inputs:\" + Style.RESET)\n",
    "print_encoding(tokenized_inputs)\n",
    "print()\n",
    "\n",
    "print(Fore.LIGHT_BLUE + Style.BOLD + \"Model Outputs:\" + Style.RESET)\n",
    "print(outputs)\n",
    "print()\n",
    "\n",
    "print(f\"The prediction is {labels[prediction]}\")"
   ]
  },
  {
   "cell_type": "markdown",
   "metadata": {
    "id": "7xQji6Ow3dYC"
   },
   "source": [
    "#### <font color='#2B4865'>*1.1.2. Tokenizers*</font>"
   ]
  },
  {
   "cell_type": "markdown",
   "metadata": {
    "id": "Efi9uaPw6AsZ"
   },
   "source": [
    "Pretrained models are implemented along with tokenizers that are used to preprocess their inputs. Tokenizers take raw strings or a list of strings and output what are effectively dictionaries that contain the model inputs.\n",
    "\n",
    "We can access 🤗 Tokenizers either with the Tokenizer class specific to the model (here RoBERTa) or with the ``AutoTokenizer`` class, and its ``from_pretrained()`` method. **Fast Tokenizers** are written in Rust, while their slow versions are written in Python. By doing so, **the tokenizer will preprocess the inputs in exactly the same way as when the model was pretrained**."
   ]
  },
  {
   "cell_type": "code",
   "execution_count": null,
   "metadata": {
    "colab": {
     "base_uri": "https://localhost:8080/",
     "height": 572
    },
    "id": "k4P-bJ3G6FgN",
    "outputId": "64f5fec0-8b34-469f-8365-21322a1f6a40"
   },
   "outputs": [],
   "source": [
    "from transformers import RobertaTokenizer, RobertaTokenizerFast, AutoTokenizer\n",
    "\n",
    "tokenizer = RobertaTokenizer.from_pretrained(checkpoint_name)\n",
    "print(Fore.LIGHT_BLUE + Style.BOLD + \"Model-specific tokenizer class\" + Style.RESET)\n",
    "print(tokenizer)\n",
    "print()\n",
    "\n",
    "print(Fore.LIGHT_BLUE + Style.BOLD + \"Fast Model-specific tokenizer class\" + Style.RESET)\n",
    "tokenizer = RobertaTokenizerFast.from_pretrained(checkpoint_name)\n",
    "print(tokenizer)\n",
    "print()\n",
    "\n",
    "print(Fore.LIGHT_BLUE + Style.BOLD + \"AutoTokenizer class -> defaults to Fast!\" + Style.RESET)\n",
    "tokenizer = AutoTokenizer.from_pretrained(checkpoint_name)\n",
    "print(tokenizer)"
   ]
  },
  {
   "cell_type": "markdown",
   "metadata": {
    "id": "Ad8RrtY0irTw"
   },
   "source": [
    "Once we have the tokenizer, we can directly pass our sentences to it and we will get back a **dictionary** that’s ready to feed to our model. The only thing left to do is to **convert the list of input IDs to tensors**, since Transformer models **only accept tensors as input**.\n",
    "\n",
    "To specify the type of tensors we want to get back (PyTorch, TensorFlow, or plain NumPy), we use the ``return_tensors`` argument:"
   ]
  },
  {
   "cell_type": "code",
   "execution_count": null,
   "metadata": {
    "colab": {
     "base_uri": "https://localhost:8080/",
     "height": 191
    },
    "id": "oKCbo2KAi_YZ",
    "outputId": "21a3d45e-a607-46b9-9a27-5daa165a8c52"
   },
   "outputs": [],
   "source": [
    "tokenized_inputs = tokenizer(sentences, padding=True, truncation=True, return_tensors=\"pt\")\n",
    "print_encoding(tokenized_inputs)"
   ]
  },
  {
   "cell_type": "markdown",
   "metadata": {
    "id": "bDNn2CX-fy7r"
   },
   "source": [
    "**Tokenization** takes place in a **three-step process**:\n",
    "1. Split the input into tokens (words, subwords, or symbols): ``tokenize()``\n",
    "2. Map each token into an integer: ``convert_tokens_to_ids()``\n",
    "3. Add additional inputs that may be useful to the model:\n",
    "  *   **Padding.** Batching allows the model to work when you feed it multiple sentences, but this can lead to problems when we attempt to batch together two (or more) sentences that are of different lengths. Since we are working with tensors, we need them to be of rectangular shape. We solve this issue by padding our sentences so they all have the same length by adding a special word called the **padding token** to the sentences with fewer values.\n",
    "A **tokenizer's padding token ID** can be found in ``tokenizer.pad_token_id``.\n",
    "  *   **Attention masks.** They are tensors with the exact same shape as the input IDs tensor, filled with ``0s`` and ``1s``: ``1s`` indicate the corresponding tokens should **be attended to**, and ``0s`` indicate the corresponding tokens should **not be attended to** (i.e., they should be ignored by the attention layers of the model), e.g., the padding tokens should be ignored.\n",
    "  *  **Special tokens.** When encoding an input string sequence, the tokenizer will add some special tokens. For the case of token classification, for example, it adds additional tokens ``[CLS]`` at the beginning and ``[SEP]`` at the end. This is because the model was pretrained with those, so to get the same results for inference we need to add them as well. Note that some models don’t add special words, or add different ones; models may also add these special words only at the beginning, or only at the end. In any case, the tokenizer knows which ones are expected and will deal with this for you. We can access these tokens as ``tokenizer.cls_token_id`` and ``tokenizer.sep_token_id``, respectively.\n",
    "\n",
    "One last thing that we need to take into account when performing tokenization is the **limit to the lengths of the sequences we can pass the models** that are imposed by the Transformer model in use. Most models handle sequences of up to 512 or 1024 tokens and will crash when asked to process longer sequences. There are two solutions to this problem:\n",
    "\n",
    "* Use a model with a longer supported sequence length.\n",
    "* Truncate the sequences. We can truncate our sequences by specifying the parameter ``truncation=True``. Additionally, we can specify the maximum length after which sentences will be truncated with the ``max_length`` parameter.\n",
    "\n",
    "**Steps 1 and 2** of the Tokenization process above described are normally named together as **encoding**, and its opposite\n",
    "process is referred as **decoding** (``decode()``)."
   ]
  },
  {
   "cell_type": "code",
   "execution_count": null,
   "metadata": {
    "colab": {
     "base_uri": "https://localhost:8080/",
     "height": 173
    },
    "id": "wyJdUt2rTCTx",
    "outputId": "7166899d-b115-417e-a145-83d0bbbb441a"
   },
   "outputs": [],
   "source": [
    "cls = [tokenizer.cls_token_id]\n",
    "sep = [tokenizer.sep_token_id]\n",
    "print(\"cls: \", cls)\n",
    "print(\"sep: \", sep)\n",
    "print()\n",
    "\n",
    "# Tokenization happens in a few steps:\n",
    "input_tokens = tokenizer.tokenize(sentences[0])\n",
    "input_ids = tokenizer.convert_tokens_to_ids(input_tokens)\n",
    "input_ids_special_tokens = cls + input_ids + sep\n",
    "\n",
    "decoded_str = tokenizer.decode(input_ids_special_tokens)\n",
    "\n",
    "print(Fore.LIGHT_BLUE + Style.BOLD + \"Start:                \" + Style.RESET, sentences[0])\n",
    "print(Fore.LIGHT_BLUE + Style.BOLD + \"Tokenize:             \" + Style.RESET, input_tokens)\n",
    "print(Fore.LIGHT_BLUE + Style.BOLD + \"Convert tokens to IDs:\" + Style.RESET, input_ids)\n",
    "print(Fore.LIGHT_BLUE + Style.BOLD + \"Add special tokens:   \" + Style.RESET, input_ids_special_tokens)\n",
    "print(Fore.LIGHT_BLUE + Style.BOLD + \"--------\" + Style.RESET)\n",
    "print(Fore.LIGHT_BLUE + Style.BOLD + \"decode:               \" + Style.RESET, decoded_str)\n",
    "# NOTE that these steps don't create the attention mask nor add the special characters"
   ]
  },
  {
   "cell_type": "code",
   "execution_count": null,
   "metadata": {
    "colab": {
     "base_uri": "https://localhost:8080/",
     "height": 86
    },
    "id": "n9c1IzGETLYc",
    "outputId": "6220386d-0219-4186-ffbf-a1b0f1e0d3eb"
   },
   "outputs": [],
   "source": [
    "# For Fast Tokenizers, there's another option too:\n",
    "inputs = tokenizer._tokenizer.encode(sentences[0])\n",
    "\n",
    "print(Fore.LIGHT_BLUE + Style.BOLD + \"Number of tokens:\" + Style.RESET, len(inputs))\n",
    "print(Fore.LIGHT_BLUE + Style.BOLD + \"Ids:\" + Style.RESET, inputs.ids)\n",
    "print(Fore.LIGHT_BLUE + Style.BOLD + \"Tokens:\" + Style.RESET, inputs.tokens)\n",
    "print(Fore.LIGHT_BLUE + Style.BOLD + \"Special tokens mask:\" + Style.RESET, inputs.special_tokens_mask)"
   ]
  },
  {
   "cell_type": "code",
   "execution_count": null,
   "metadata": {
    "colab": {
     "base_uri": "https://localhost:8080/",
     "height": 347
    },
    "id": "6NmbTyulTQDa",
    "outputId": "4c96026a-238d-4d79-837e-6ade90397aa3"
   },
   "outputs": [],
   "source": [
    "# We can pass multiple strings into the tokenizer and pad them as we need\n",
    "model_inputs = tokenizer([\"Situps are a terrible way to end your day.\",\n",
    "                          \"She lived on Monkey Jungle Road and that seemed to explain all of her strangeness.\" +\\\n",
    "                          \"There is no better feeling than staring at a wall with closed eyes.\",\n",
    "                         ],\n",
    "                         return_tensors=\"pt\",\n",
    "                         padding=True,\n",
    "                         truncation=True)\n",
    "print(Fore.LIGHT_BLUE + Style.BOLD + \"Pad token:\" + Style.RESET, tokenizer.pad_token)\n",
    "print(Fore.LIGHT_BLUE + Style.BOLD + \"Pad token id:\" + Style.RESET, tokenizer.pad_token_id)\n",
    "print(Fore.LIGHT_BLUE + Style.BOLD + \"Padding:\" + Style.RESET)\n",
    "print_encoding(model_inputs)"
   ]
  },
  {
   "cell_type": "code",
   "execution_count": null,
   "metadata": {
    "colab": {
     "base_uri": "https://localhost:8080/",
     "height": 138
    },
    "id": "Xe8eFhrXTR2r",
    "outputId": "9ae13e66-bfaa-4ba5-e0fb-6d96c6be3154"
   },
   "outputs": [],
   "source": [
    "# We can also decode a whole batch at once:\n",
    "print(Fore.LIGHT_BLUE + Style.BOLD + \"Batch Decode:\" + Style.RESET)\n",
    "print(tokenizer.batch_decode(model_inputs.input_ids))\n",
    "print()\n",
    "print(Fore.LIGHT_BLUE + Style.BOLD + \"Batch Decode: (no special characters)\" + Style.RESET)\n",
    "print(tokenizer.batch_decode(model_inputs.input_ids, skip_special_tokens=True))"
   ]
  },
  {
   "cell_type": "markdown",
   "metadata": {
    "id": "uPbO_GMBTW80"
   },
   "source": [
    "For more information about tokenizers, you can look at:\n",
    "[Hugging Face Transformers Docs](https://huggingface.co/docs/transformers/main_classes/tokenizer) and the [Hugging Face Tokenizers Library](https://huggingface.co/docs/tokenizers/python/latest/quicktour.html) (for the Fast Tokenizers)."
   ]
  },
  {
   "cell_type": "markdown",
   "metadata": {
    "id": "GqYp6QAA3esJ"
   },
   "source": [
    "#### <font color='#2B4865'>*1.1.3. Models*</font>"
   ]
  },
  {
   "cell_type": "markdown",
   "metadata": {
    "id": "NlmPN38ksPY4"
   },
   "source": [
    "##### <font color='#2B4865'>**Configuration objects**</font>"
   ]
  },
  {
   "cell_type": "markdown",
   "metadata": {
    "id": "ikcL_lIu06_x"
   },
   "source": [
    "We can check the **configuration of a Transformer model** by loading its associated **configuration object**, which contains many **attributes** that were used to build the model.\n",
    "\n",
    "We could **create a model from the default configuration**, but it gets initialized with random values. While the model can be used in this state, it will output nonsense, as it needs to be trained first."
   ]
  },
  {
   "cell_type": "code",
   "execution_count": null,
   "metadata": {
    "colab": {
     "base_uri": "https://localhost:8080/",
     "height": 416
    },
    "id": "s3HPPwYZspZu",
    "outputId": "e707a122-cc32-4213-ec19-47c532e066c3"
   },
   "outputs": [],
   "source": [
    "from transformers import RobertaConfig, RobertaModel\n",
    "\n",
    "# Building the config\n",
    "config = RobertaConfig()\n",
    "\n",
    "# Building the model from the config\n",
    "model = RobertaModel(config)\n",
    "\n",
    "print(config)"
   ]
  },
  {
   "cell_type": "markdown",
   "metadata": {
    "id": "G8uGfSzTj-BC"
   },
   "source": [
    "##### <font color='#2B4865'>**Loading pretrained models**</font>"
   ]
  },
  {
   "cell_type": "markdown",
   "metadata": {
    "id": "_jJ2EWn90-KY"
   },
   "source": [
    "As an alternative to loading models from their configuration object, we can initialize them in a very similar way as we did with tokenizers. We can either use the model class specific to our model or an ``AutoModel`` class. Both of them also have a ``from_pretrained()`` method."
   ]
  },
  {
   "cell_type": "code",
   "execution_count": null,
   "metadata": {
    "colab": {
     "base_uri": "https://localhost:8080/",
     "height": 69
    },
    "id": "3vf_mBCIkBpF",
    "outputId": "56a307b2-62ec-4d87-87f5-becca7dd257d"
   },
   "outputs": [],
   "source": [
    "from transformers import AutoModel\n",
    "\n",
    "model = AutoModel.from_pretrained(checkpoint_name)"
   ]
  },
  {
   "cell_type": "markdown",
   "metadata": {
    "id": "62to6RT-kTqv"
   },
   "source": [
    "The model object we have instantiated in the former cell contains only the **base Transformer module: given some inputs, it outputs what we will call hidden states, also known as features**. For each model input, we will retrieve a high-dimensional vector representing the contextual understanding of that input by the Transformer model. While these hidden states can be useful on their own, they are usually inputs to another part of the model, known as the **head**. We can **perform different tasks with the same Transformer architecture**, but each of these tasks will have a **different head associated** with it.\n"
   ]
  },
  {
   "cell_type": "markdown",
   "metadata": {
    "id": "rlAy1UbGgd2C"
   },
   "source": [
    "##### <font color='#2B4865'>**Transformer module output**</font>"
   ]
  },
  {
   "cell_type": "markdown",
   "metadata": {
    "id": "cVTgJmgC1BbP"
   },
   "source": [
    "The vector output by the Transformer module is usually large. It generally has **three dimensions:**\n",
    "*  **Batch size:** The number of sequences processed at a time ($2$ in our ``sentences`` example).\n",
    "*  **Sequence length:** The length of the numerical representation of the sequence ($11$ in our ``sentences`` example).\n",
    "*  **Hidden size:** The vector dimension of each model input.\n",
    "\n",
    "It is said to be **\"high dimensional\"** because of the last value. The hidden size can be very large ($768$ is common for smaller models, and in larger models this can reach $3072$ or more)."
   ]
  },
  {
   "cell_type": "code",
   "execution_count": null,
   "metadata": {
    "colab": {
     "base_uri": "https://localhost:8080/",
     "height": 17
    },
    "id": "UBq_fUHshE2b",
    "outputId": "79aa11cb-93a0-4f43-8689-f9e53c69a7ed"
   },
   "outputs": [],
   "source": [
    "outputs = model(**tokenized_inputs)"
   ]
  },
  {
   "cell_type": "markdown",
   "metadata": {
    "id": "o8ffCPoCj6wh"
   },
   "source": [
    "The outputs of Transformers models behave like ``namedtuples`` or ``dictionaries``. We can access the elements **by attributes** or **by key** (``outputs[\"last_hidden_state\"]``), or even **by index** if you know exactly where the thing you are looking for is (``outputs[0]``)."
   ]
  },
  {
   "cell_type": "code",
   "execution_count": null,
   "metadata": {
    "colab": {
     "base_uri": "https://localhost:8080/",
     "height": 69
    },
    "id": "J_3AiI6Nj3ui",
    "outputId": "08d8078b-6f53-45a4-d21f-7a6f4dcb7cd9"
   },
   "outputs": [],
   "source": [
    "print(outputs.last_hidden_state.shape)\n",
    "print(outputs[\"last_hidden_state\"].shape)\n",
    "print(outputs[0].shape)"
   ]
  },
  {
   "cell_type": "markdown",
   "metadata": {
    "id": "JKaGGDcQkSdd"
   },
   "source": [
    "##### <font color='#2B4865'>**Model heads**</font>"
   ]
  },
  {
   "cell_type": "markdown",
   "metadata": {
    "id": "0iugtPw-1GL7"
   },
   "source": [
    "The **model heads** take the high-dimensional vector of hidden states as input and project them onto a different dimension. They are usually composed of one or a few linear layers:\n",
    "\n",
    "<br><center><img src=\"https://drive.google.com/uc?id=1WiBnIPx3Z7QoXJoPVtz11_jylmoseF6y\" width=\"60%\"></center><br>\n",
    "\n",
    "The **output of the Transformer model** is sent directly to the **model head** to be processed. In this diagram, the model is represented by its embeddings layer and the subsequent layers. The **embeddings layer** converts **each input ID** in the tokenized input **into a vector** that represents the associated token. The **subsequent layers** manipulate those vectors using the **attention mechanism to produce the final representation of the sentences**.\n",
    "\n",
    "Hence, we will have **a specific \"head\" depending on the task** we are performing. Hugging Face automatically sets up the architecture we need when we specify the model class. For example, we are doing sentiment analysis, so we are going to use `RobertaForSequenceClassification`. If we were going to continue training RoBERTa on its masked-language modeling training objective, we would use `RobertaForMaskedLM`, and if we just wanted the model's representations, maybe for our own downstream task, we could just use `RobertaModel`. Some examples of heads are:\n",
    "\n",
    "```\n",
    "*\n",
    "*ForMaskedLM\n",
    "*ForSequenceClassification\n",
    "*ForTokenClassification\n",
    "*ForQuestionAnswering\n",
    "*ForMultipleChoice\n",
    "...\n",
    "```\n",
    "\n",
    "where `*` can be `AutoModel` or a specific pretrained model (e.g. `DistilBert`)\n",
    "\n",
    "A full list of choices is available in the [docs](https://huggingface.co/docs/transformers/model_doc/auto). Note that not all models are compatible with all model architectures, for example, RoBERTa is not compatible with the Seq2Seq models because it only consists of an encoder."
   ]
  },
  {
   "cell_type": "markdown",
   "metadata": {
    "id": "EwEx6JLFmUo3"
   },
   "source": [
    "For our example, **we need a model with a sequence classification head** (to be able to classify the sentences as positive or negative). So, we won’t actually use the ``AutoModel`` class, but ``AutoModelForSequenceClassification``:"
   ]
  },
  {
   "cell_type": "code",
   "execution_count": null,
   "metadata": {
    "colab": {
     "base_uri": "https://localhost:8080/",
     "height": 34
    },
    "id": "-oOIzqL2mXq2",
    "outputId": "06e8f1ad-eff9-4e9b-ef01-02f130256354"
   },
   "outputs": [],
   "source": [
    "from transformers import AutoModelForSequenceClassification\n",
    "\n",
    "model = AutoModelForSequenceClassification.from_pretrained(checkpoint_name)\n",
    "outputs = model(**tokenized_inputs) # model outputs\n",
    "\n",
    "print(outputs.logits.shape) # Since we have just two sentences and two labels, the result we get from our model is of shape 2 x 2."
   ]
  },
  {
   "cell_type": "markdown",
   "metadata": {
    "id": "bZi3-Aabobn7"
   },
   "source": [
    "##### <font color='#2B4865'>**Postprocessing the output**</font>"
   ]
  },
  {
   "cell_type": "markdown",
   "metadata": {
    "id": "EtQT6TQM1Ip-"
   },
   "source": [
    "We refer to the outputs that we get from our model as **logits**, and these don’t necessarily make sense by themselves:"
   ]
  },
  {
   "cell_type": "code",
   "execution_count": null,
   "metadata": {
    "colab": {
     "base_uri": "https://localhost:8080/",
     "height": 52
    },
    "id": "HE49qNwmq7iv",
    "outputId": "842b645d-2ba2-4c15-b3b6-25c513b963a0"
   },
   "outputs": [],
   "source": [
    "print(outputs.logits)"
   ]
  },
  {
   "cell_type": "markdown",
   "metadata": {
    "id": "Z2xbyq1RrNNe"
   },
   "source": [
    "Our model predicted $[-3.7951, 2.9662]$ for the first sentence and $[3.9312, -3.5583]$ for the second one. **Those are not probabilities but logits**, that is, the raw and unnormalized scores that the model's last layer outputs. In order to convert them into probabilites, we pass them through a **SoftMax layer**:"
   ]
  },
  {
   "cell_type": "code",
   "execution_count": null,
   "metadata": {
    "colab": {
     "base_uri": "https://localhost:8080/",
     "height": 52
    },
    "id": "x0zbuPjErMt8",
    "outputId": "d0949c59-af5e-4346-80a0-da2088e48265"
   },
   "outputs": [],
   "source": [
    "import torch\n",
    "\n",
    "predictions = torch.nn.functional.softmax(outputs.logits, dim=-1)\n",
    "print(f\"Distribution over labels: {predictions}\")"
   ]
  },
  {
   "cell_type": "markdown",
   "metadata": {
    "id": "jA12gIOurY0O"
   },
   "source": [
    "Now we can see that the model predicted $[0.0012, 0.9998]$ for the first sentence and $[0.9995, 0.0005]$ for the second one, which are now recognizable probability scores.\n",
    "\n",
    "To get the **labels corresponding to each position**, we can inspect the ``id2label`` attribute of the model config:"
   ]
  },
  {
   "cell_type": "code",
   "execution_count": null,
   "metadata": {
    "colab": {
     "base_uri": "https://localhost:8080/",
     "height": 34
    },
    "id": "1stTZYxzrauU",
    "outputId": "a23b26db-ad98-4f3b-ecfd-495aa2b586d0"
   },
   "outputs": [],
   "source": [
    "model.config.id2label"
   ]
  },
  {
   "cell_type": "markdown",
   "metadata": {
    "id": "L-PNKB3PMaQi"
   },
   "source": [
    "##### <font color='#2B4865'>**Model's hidden states and attention weights**</font>"
   ]
  },
  {
   "cell_type": "markdown",
   "metadata": {
    "id": "Yv_rLhT4y1-3"
   },
   "source": [
    "We can also get the hidden states and attention weights from the models by specifying `output_attentions=True` and `output_hidden_states=True`, respectively, during the model instantiation. Then, we can call the model with our inputs and extract the hidden states and attention weights from the output."
   ]
  },
  {
   "cell_type": "code",
   "execution_count": null,
   "metadata": {
    "colab": {
     "base_uri": "https://localhost:8080/",
     "height": 17
    },
    "id": "rXSn5zU0Maif",
    "outputId": "44d4b81a-decd-41c7-ffe2-8c005edd4a22"
   },
   "outputs": [],
   "source": [
    "from transformers import AutoModel\n",
    "\n",
    "model = AutoModelForSequenceClassification.from_pretrained(checkpoint_name, output_attentions=True, output_hidden_states=True)\n",
    "model.eval()\n",
    "\n",
    "model_inputs = tokenizer(sentences[0], return_tensors=\"pt\")\n",
    "with torch.no_grad():\n",
    "    model_output = model(**model_inputs)"
   ]
  },
  {
   "cell_type": "markdown",
   "metadata": {
    "id": "inrMJBLH0lhR"
   },
   "source": [
    "The `hidden_states` attribute returns a Tuple of torch.FloatTensor with the hidden-states of the model at the output of each layer plus the initial embedding outputs of shape *(batch_size, sequence_length, hidden_size)*:"
   ]
  },
  {
   "cell_type": "code",
   "execution_count": null,
   "metadata": {
    "colab": {
     "base_uri": "https://localhost:8080/",
     "height": 52
    },
    "id": "lxO6q2120kjj",
    "outputId": "26a45bdd-ef57-4d24-a784-e74d009488ac"
   },
   "outputs": [],
   "source": [
    "print(f\"Hidden state size (per layer): {model_output.hidden_states[0].shape}\")\n",
    "print(f\"Hidden state vector of token 0: {model_output.hidden_states[-1][:,0,:]}\")"
   ]
  },
  {
   "cell_type": "markdown",
   "metadata": {
    "id": "K1XSc59h46BB"
   },
   "source": [
    "The `attentions` attribute returns Tuple of torch.FloatTensor (one for each layer) of shape *(batch_size, num_heads, sequence_length, sequence_length)*:"
   ]
  },
  {
   "cell_type": "code",
   "execution_count": null,
   "metadata": {
    "colab": {
     "base_uri": "https://localhost:8080/",
     "height": 34
    },
    "id": "etx0CkDm4_Wb",
    "outputId": "56016fdf-ebdf-46c2-e0a7-8947134240c4"
   },
   "outputs": [],
   "source": [
    "print(f\"Attention head size (per layer): {model_output.attentions[0].shape}\")"
   ]
  },
  {
   "cell_type": "markdown",
   "metadata": {
    "id": "t9yZ6spR5-af"
   },
   "source": [
    "We can visualize the attention weights with the [bertviz](https://github.com/jessevig/bertviz) library. One visualization it provides is the **model view**, which provides a birds-eye view of attention throughout the entire model.\n",
    "\n",
    "Each cell shows the attention weights for a particular head, indexed by layer (row) and head (column). The lines in each cell represent the attention from one token (left) to another (right), with line weight proportional to the attention value (ranges from 0 to 1). For a more detailed explanation, please refer to [this blog](https://towardsdatascience.com/deconstructing-bert-part-2-visualizing-the-inner-workings-of-attention-60a16d86b5c1)."
   ]
  },
  {
   "cell_type": "code",
   "execution_count": null,
   "metadata": {
    "colab": {
     "base_uri": "https://localhost:8080/",
     "height": 1000
    },
    "id": "tEMxQ0ywcvHa",
    "outputId": "b7a618ba-20b1-4b4e-c739-dc4eab2c352d"
   },
   "outputs": [],
   "source": [
    "from bertviz import model_view, head_view\n",
    "\n",
    "# Get the tokens\n",
    "tokens = tokenizer.convert_ids_to_tokens(model_inputs[\"input_ids\"][0])\n",
    "\n",
    "# Plot the attention weights\n",
    "model_view(model_output.attentions, tokens)"
   ]
  },
  {
   "cell_type": "markdown",
   "metadata": {
    "id": "52Bx8608wdGO"
   },
   "source": [
    "### <font color='#2B4865'>*1.2. Fine-tuning*</font>"
   ]
  },
  {
   "cell_type": "markdown",
   "metadata": {
    "id": "c4BuIHUI2_U2"
   },
   "source": [
    "Pipeline objects can be used to benefit from transformer models for\n",
    "solving NLP tasks. Though, they sometimes do not provide us with the desired outputs.\n",
    "\n",
    "To fine-tune a general-purpose transformer model to work for specific\n",
    "tasks, we will leverage three Hugging Face components:\n",
    "1. Tokenizers\n",
    "2. Transformers\n",
    "3. Datasets\n",
    "\n",
    "Here we will be **fine-tuning BERT on the IMDB dataset.**"
   ]
  },
  {
   "cell_type": "code",
   "execution_count": null,
   "metadata": {
    "colab": {
     "base_uri": "https://localhost:8080/",
     "height": 17
    },
    "id": "HCJfyFQyCJE-",
    "outputId": "f13a315a-6e9b-4ebf-f909-d649e37ace8a"
   },
   "outputs": [],
   "source": [
    "checkpoint_name = \"bert-base-uncased\""
   ]
  },
  {
   "cell_type": "markdown",
   "metadata": {
    "id": "cW-AeHlH6BgN"
   },
   "source": [
    "#### <font color='#2B4865'>*1.2.1. Loading in a dataset*</font>"
   ]
  },
  {
   "cell_type": "markdown",
   "metadata": {
    "id": "9b6Y0Anz7lUe"
   },
   "source": [
    "[The Hub ](https://huggingface.co/datasets) contains multiple datasets in many languages. The 🤗 datasets library allows to load local and remote data in several formats, such as CSV, JSON, text files and even parquet (you can check the supported formats in the [documentation](https://huggingface.co/docs/datasets/loading#from-the-huggingface-hub)).\n",
    "\n",
    "The loading of a dataset is carried out through the method ``load_dataset()`` which returns a ``Dataset`` or a ``DatasetDict`` object."
   ]
  },
  {
   "cell_type": "markdown",
   "metadata": {
    "id": "xA5wFuD0TESB"
   },
   "source": [
    "Let's download the IMDB dataset from the Hub:"
   ]
  },
  {
   "cell_type": "code",
   "execution_count": null,
   "metadata": {
    "colab": {
     "base_uri": "https://localhost:8080/",
     "height": 484,
     "referenced_widgets": [
      "026383c9e7d5428eac54aa9b03c91039",
      "65356e17dabd4b83994a96ff5359104d",
      "716094be222a4eecabb63d7f739911d1",
      "a7ca60d17fe5454fa57f73f98ed13f43",
      "8d9ba5631e364abb98022c10c28fe272",
      "0eb3294f127d4374a37955ba443a7f96",
      "733d2a6830554d8e870ce2402ffd8262",
      "22ad7aa0993342c9be66b471b9a8dc9a",
      "a0a3332f6d214063ab6168503c3d3415",
      "b58626301ef2491bac03490151c30869",
      "b49cb5237fc5465ba08cef20c0ddc592",
      "ca0821c092ea4a51ad7ee90e8162e60b",
      "f10191bcfde840fab430b3c7ad6ec035",
      "57fa6a5c95774df2a425e8049a33ecf8",
      "df8f741e976f42aab61565b36119cdcf",
      "9e4ebff63d2b439fa6c6ec00bd560c02",
      "4a874d006e944f75a507e3a0138f2d7c",
      "19c1a067d2924db4afa49a07aa05dd7a",
      "3309720d2c2640e7bd57379999e09dcd",
      "c66a6674be7248c5a12c6df3f712dd88",
      "12938c1d10844468ad836563ae74c916",
      "624b62692e43413bb2ee269133bb10c3",
      "408d0d3c7ce04721904e474e40ebf1b3",
      "f3cf07458fc14b6c8e49c69369c9645a",
      "ff69550d6a1e4efcb036f6814da7296c",
      "94fba9fd5769423ab7f7e494334271e3",
      "1c4ec9086114481484860a02414186e9",
      "b5431481d895482fb9b367659d6f372a",
      "eaf59b568faa45f9b59f61bcfaea6aba",
      "43a8d2bb6c304985b40affbc9882fafd",
      "48ce610b33104015af7ed625e95cfe5e",
      "8887cc26baa34e2094eeddfc632d98f1",
      "cc8f922c4ebe43c398acb72528658059",
      "be2430fcc92a40338c34d8faffc09815",
      "3544a54772c340ceb75741e7ca6959e3",
      "c6839264cc85464297196c1e17e8ea2c",
      "2106137fde3d468da962009ecae3364b",
      "d92d0c09336c4503887bb321dc900241",
      "07e3302eb26043c184a5823b5aa469dc",
      "109d1c22ad6243b4a22d9fd9f4f2a5e7",
      "c3f677da2a8d4c0a965849abcd851df5",
      "8e6558e879ec49ad939ea21cc941aac3",
      "36cb1c1dad494f1488b2d88e23b5824a",
      "8202ad771b92415cb57abdc5159caee9",
      "0278e6f7d8d443cba7d9152143ae4317",
      "60502ffee6824563b1e251585b424e0c",
      "c5c35d8266ac4530a189b66d549843d3",
      "e275b56a379b4179ac3ff5680b41c027",
      "692bb164d8c448db8a2b4b3252f4091e",
      "667bb5a3b5f04021a801b19c43a05f3b",
      "09ec2180b15149d8bd493cf26beeada6",
      "c4c4f84aa78344bdbd3b0246c1613cfa",
      "0a6a4adeb1f54970862a345dd7ecf857",
      "a2108aa85146422d86e1510d7721cd41",
      "c04a55d072d6491d90d39713d025711f",
      "47b437d3082c4d36a5e4a2907f627965",
      "6c089caa658c414aaf5ac3a948d2d39d",
      "df5f77de95234a14a99f19a617e2c494",
      "3e9932201053494a8cd939a5d2f4dea8",
      "ec15bc5952c84e988873669078736ed3",
      "3e2b80b2eea1498199e7de4186d2827b",
      "fd0e1d94557a436fa711b3ab0cd6455b",
      "225eecce28e24905b358445ab42a3977",
      "e9ae47065ae44c7aaad30f03891c6a24",
      "e742b37772064d06ad950792ae338794",
      "5bf3f641646e47abab9da165c899a37b",
      "682ddcbb8b4a4232a98d0df05d909ecd",
      "dfcdc4aadb894ed8adc44da8619c6a6d",
      "3890682c1168404eaf4f8843bbda0c2c",
      "d6eceb3b0e5c43659dbf4515408a85bf",
      "a91997b3040e40dfb681979daa90e4dd",
      "c6b5885e9e0e48578d2085f393e19606",
      "9c87195fd12244d6a6a466f09abf0690",
      "ffcdddc17f7647ef8ddc6ebb4c8afcfe",
      "c6ffe6a4d449420788a2e2a16a7a5821",
      "8f6dd13afce64a7787d585ec90a85fc6",
      "6cc12d3c2eb344c6a80bc21b624b934f"
     ]
    },
    "id": "UNLS7QDNTWcy",
    "outputId": "9ad51964-90ba-459e-be9a-b1a2c2e29062"
   },
   "outputs": [],
   "source": [
    "from datasets import load_dataset, DatasetDict\n",
    "\n",
    "imdb_dataset = load_dataset(\"imdb\")\n",
    "imdb_dataset"
   ]
  },
  {
   "cell_type": "markdown",
   "metadata": {
    "id": "-EoaYwVcTskJ"
   },
   "source": [
    "As you can see, we get a ``DatasetDict`` object with the ``train`` set, the ``test`` set, and a set with both of them included (``unsupervised``). Each of those contains two columns (``text``, ``label``), which are the [**features**](https://huggingface.co/docs/datasets/about_dataset_features) of the dataset (i.e., its internal structure); and a variable number of rows, which are the number of elements in each set.\n",
    "\n",
    "We can **access the data within each feature** in our ``imdb_dataset`` object **by indexing**, like in a dictionary:"
   ]
  },
  {
   "cell_type": "code",
   "execution_count": null,
   "metadata": {
    "colab": {
     "base_uri": "https://localhost:8080/",
     "height": 191
    },
    "id": "aJ-7Dm6kUeoM",
    "outputId": "9e6a7972-c4be-4085-ebcb-bdc918d9562d"
   },
   "outputs": [],
   "source": [
    "imdb_train_dataset = imdb_dataset[\"train\"]\n",
    "imdb_train_dataset[0]"
   ]
  },
  {
   "cell_type": "markdown",
   "metadata": {
    "id": "Nas1R-opUoyI"
   },
   "source": [
    "We can also inspect our dataset's features through the ``features`` attribute.\n",
    "We can see that the labels are already integers, so we do not need any preprocessing here. We can also observe that ``label`` is of type [``ClassLabel``](https://huggingface.co/docs/datasets/v2.7.1/en/package_reference/main_classes#datasets.ClassLabel): 0 corresponds to ``neg``, and 1 to ``pos``."
   ]
  },
  {
   "cell_type": "code",
   "execution_count": null,
   "metadata": {
    "colab": {
     "base_uri": "https://localhost:8080/",
     "height": 52
    },
    "id": "8fw2buP-U6x6",
    "outputId": "e14b58d5-24a2-4adf-ee21-7543fb7c0ce3"
   },
   "outputs": [],
   "source": [
    "imdb_train_dataset.features"
   ]
  },
  {
   "cell_type": "markdown",
   "metadata": {
    "id": "yvKGwR5qNfN6"
   },
   "source": [
    "For our tasks, we will not be using the ``unsupervised`` column. However, it will be of use to have a **validation set** in addition to our train and test sets. Let's generate such a validation set from the test set. For this, we will use the Hugging Face datasets' function ``train_test_split()``, which creates train and test splits if your dataset doesn’t already have them."
   ]
  },
  {
   "cell_type": "code",
   "execution_count": null,
   "metadata": {
    "colab": {
     "base_uri": "https://localhost:8080/",
     "height": 191
    },
    "id": "Rdsfe2b7NfN7",
    "outputId": "704c3a64-3e59-4a6b-dc21-7b8921ec7ed3"
   },
   "outputs": [],
   "source": [
    "from sklearn.model_selection import train_test_split\n",
    "\n",
    "test_valid = imdb_dataset[\"test\"].train_test_split(test_size=0.5, seed=42)\n",
    "test_valid"
   ]
  },
  {
   "cell_type": "markdown",
   "metadata": {
    "id": "QNlxp-PBNfN7"
   },
   "source": [
    "Also, to make the training more straightforward and faster, we will extract a subset of the train, test, and validation datasets. For that purpose, we will use the Hugging Face Dataset object's methods `select()` and ``shuffle()``. The first allows us to take some data points by their index, and the second randomly rearrange the column values. Here we will be selecting $2000$ training rows, and $500$ of test and validation, respectively. You can play with the number of data points but consider that this will increase the training time."
   ]
  },
  {
   "cell_type": "code",
   "execution_count": null,
   "metadata": {
    "colab": {
     "base_uri": "https://localhost:8080/",
     "height": 17
    },
    "id": "Vn5rILJrNfN8",
    "outputId": "f14fe817-4440-401a-97f5-f7960b987f8a"
   },
   "outputs": [],
   "source": [
    "from sklearn.model_selection import train_test_split\n",
    "\n",
    "test_valid = imdb_dataset[\"test\"].train_test_split(test_size=0.5)\n",
    "imdb_dataset = DatasetDict({\n",
    "    \"train\": imdb_dataset[\"train\"].shuffle(seed=42).select(range(2000)),\n",
    "    \"test\": test_valid[\"train\"].shuffle(seed=42).select(range(1000)),\n",
    "    \"val\": test_valid[\"test\"].shuffle(seed=42).select(range(1000)),\n",
    "    })"
   ]
  },
  {
   "cell_type": "markdown",
   "metadata": {
    "id": "rn9vED2grPb_"
   },
   "source": [
    "For future use, we will save the test text and labels separately in two lists:"
   ]
  },
  {
   "cell_type": "code",
   "execution_count": null,
   "metadata": {
    "colab": {
     "base_uri": "https://localhost:8080/",
     "height": 17
    },
    "id": "3_Z6sT7VyYAO",
    "outputId": "a60baf56-7336-4693-bdcf-1ffed2efeba4"
   },
   "outputs": [],
   "source": [
    "test_texts = [imdb_dataset['test'][i]['text'] for i in range(len(imdb_dataset['test']))]\n",
    "test_labels = [imdb_dataset['test'][i]['label'] for i in range(len(imdb_dataset['test']))]"
   ]
  },
  {
   "cell_type": "markdown",
   "metadata": {
    "id": "Rjodv027-I_Q"
   },
   "source": [
    "#### <font color='#2B4865'>*1.2.2. Dataset preprocessing*</font>"
   ]
  },
  {
   "cell_type": "markdown",
   "metadata": {
    "id": "9_2iHJ2XWftB"
   },
   "source": [
    "Same as we did when we were making inference, we need to convert the text of our dataset to numbers the model can make sense of. This preprocessing is also carried out through **Tokenizers**.\n",
    "\n",
    "Some things to take into account when we are approaching this are:\n",
    "* If we are working with **sentence pairs**, we need to handle the two sequences as a pair and apply the appropriate preprocessing. Fortunately, the tokenizer can make this for us in the way our model expects. Yet, for the case we are dealing with right now, we will not be using this.\n",
    "* To keep the data as a dataset, instead of a dictionary (it will only work if we have enough RAM to store the whole dataset during tokenization), we utilize the method ``Dataset.map()``, which works by applying a function on each dataset’s element. This function takes a dictionary (like the items of our dataset) and returns a new dictionary with the keys the tokenizer returns (here, ``input_ids`` and ``attention_mask``).\n",
    "* By using the option ``batched=True`` in the map call allows applying the custom function to multiple elements of the dataset at once, thus greatly speeding up the tokenization."
   ]
  },
  {
   "cell_type": "markdown",
   "metadata": {
    "id": "_96WtMQFr6wa"
   },
   "source": [
    "For the case of the IMDB dataset, we will be tokenizing the ``text`` field of the dataset by allowing truncation. To do so, we can define a custom ``tokenize_function`` and apply it to the whole dataset via the ``Dataset.map()`` function mentioned above:"
   ]
  },
  {
   "cell_type": "code",
   "execution_count": null,
   "metadata": {
    "colab": {
     "base_uri": "https://localhost:8080/",
     "height": 484,
     "referenced_widgets": [
      "0c231a3c6d814bcc9512b29cde7ca94e",
      "26c5df856e5441bb881f4085c3f93981",
      "7519f75ac4c841d38186fe2c555f829c",
      "2c25cadf2abd4a67aec6ad5330ad2ca0",
      "b7a294ab7e224be3b9f646fce65de565",
      "8ae923ecd0b740a79c427f8d2214c872",
      "7189b6a3f1704ae7ba1e32529a44b4a5",
      "539f492a38be44978df135342e5affd4",
      "d9c0f80b1b9a43ef9d5c34fa7f9f74f7",
      "7636e2f2c3a84e3789229fdce6bdfdf5",
      "0785f1d658914922920f21a0399d6dfd",
      "704117dfdaca45fb8d31bd22e895db9f",
      "962ea6eed5874d1dbe14f2a711d5276a",
      "1c698a3bfb234fa5880332036cde89df",
      "c58cb098f5874c6b909aec192b3ee4d0",
      "11048739e8634fb4a39ebf2f5aa7b12f",
      "9b816e3ed49f49268a58b4776992b844",
      "1c79d1a188b94fd7a1c0ff3b94fedd1f",
      "ebed0cbd20f34c0cb9748250c4447505",
      "6f32e31fe01045f2ae823118677b6542",
      "23c104bed0ad4bf98d4ee899f002eb10",
      "7db701826a9745f490fe95aa456e7a5f",
      "0f3f545cca6943e9a23d099edd8d18d2",
      "a75325b318f2421eac20039b24f38eca",
      "8921132b93914b828b166a67464d4a76",
      "8556ddffecbc4fb2ab907c1f101cca92",
      "8fb2e73d875a4e71a82b7e0e8e5a6733",
      "cd76dd807709482f8f04af9da72e5ba6",
      "18284efdbd7848a8b420dc7e16b78d76",
      "361e12c21e7346b5b6d289a3da88352e",
      "2feafb95310a4eabab43d27af9df5b68",
      "0c8593a7530841fb990d97fbb5e92332",
      "102b18b8c1174778b89ac2534f1ecd9d",
      "9cc873b0972347f4b4248fd26d032b3c",
      "e5c567b4a85849f1ad3da01114726c9a",
      "c2559a6de0de47b69aa222aa34750d59",
      "c42ad7b3831d4ba9acf4fbc07d5d99c1",
      "4b5c56fb9d1848b2af3cbe801cce51d9",
      "a7c77ff578b94893a7bceee2a3c891fd",
      "3d2efb76e4b54ab995b6bb7dc6d3e103",
      "142ce17fee694268ab980187edd5c686",
      "f4729ede56d34ac7a44a8e3a85146cc1",
      "9d387038fe4f405d827335542061fdd3",
      "b439db7003734a9aace2d096bafa8e4a",
      "7e2a0e163c85484794db88398a72243a",
      "220cda60fc0d4a3f838a5ebda3fbdd63",
      "6632917ced624f9eb4afe049f545930e",
      "2c169129dd594ac0b5d2c6ee83e7799a",
      "09b391afaddc4c34907efd5f0cdbb91a",
      "c2b368ae063845a3b2b582f693f2d814",
      "e3e4f284bde9498190c83eb69da18f89",
      "d68004b5499c499aaa0c061b6481ef3e",
      "c310635f54b1457d80eb4e1f27350e67",
      "3d4cd9b87cf346f2845baa2b8a02a123",
      "9484543c6d9945db912b85457d470a3a",
      "a316c2dc80eb42c8b55560b237478eda",
      "da153d17247b47a2b83d2a4d3063aaf0",
      "4fac09d7ab0b46d7897ebd80a91d3870",
      "97884e25d6654f56866f84f8d9b304b2",
      "fe1c2b1c773e44b4b7c00cf5881aac9e",
      "0a8b9185fcb8431cb92361ad717af95f",
      "e651b9b7a3ab439cb40b323849ba4a79",
      "e3c315432a2e46c88f52fdd617683504",
      "9a2087314e5d463c90ab3849d63d6ad3",
      "1c5d4e1eccfc43bd85dc091d2bf234f3",
      "28fb4346ed99480d8bcb707e55b82d72",
      "a8634214cf364c57a7749275322fa0fa",
      "c811d65eeb1c4f29bf7e784fe885ef55",
      "6222ec2c088244279e07627c4d5d64eb",
      "a3cb5a0de7af44b4bfd5f51a36ed8ea6",
      "0a1177eef58f4b1297ac6d5ccd4f389d",
      "bfb01b8abd594aad846a2cbe769af530",
      "051656786fee447eb816d548b52c558f",
      "b96ff5f163c74328a6389f772671b3e5",
      "c23207db59de4a79841de513f0a6d504",
      "e651afea30c945ecba49ee07b4bb2499",
      "b1e43e0dccf24ae9be31ee30dc8bed05"
     ]
    },
    "id": "BxHR9yIBZFxd",
    "outputId": "bf1b8907-7cef-410d-f2cb-c596bd5fa06d"
   },
   "outputs": [],
   "source": [
    "from transformers import BertTokenizer\n",
    "\n",
    "tokenizer = BertTokenizer.from_pretrained(checkpoint_name)\n",
    "\n",
    "def tokenize_function(example):\n",
    "  return tokenizer(example[\"text\"], truncation=True)\n",
    "\n",
    "tokenized_imdb_dataset = imdb_dataset.map(tokenize_function, batched=True)\n",
    "tokenized_imdb_dataset"
   ]
  },
  {
   "cell_type": "markdown",
   "metadata": {
    "id": "KGMCkgyNDuOB"
   },
   "source": [
    "Once we have carried out the tokenization, we need to remove all the text features that are in the dataset since from now on we are going to be working with tensors and we can’t create tensors with strings. We can achieve this through the Dataset's function ``remove_columns()``. In addition, the model expected a field named ``labels`` with the true samples' labels; we have these labels but saved within a field named ``label``, so we just need to rename it. We achieve this with the ``rename_column`` function."
   ]
  },
  {
   "cell_type": "code",
   "execution_count": null,
   "metadata": {
    "colab": {
     "base_uri": "https://localhost:8080/",
     "height": 260
    },
    "id": "pU-Ai2M8Dx0N",
    "outputId": "502a1d4a-da37-4db3-91d0-557ac6b90d68"
   },
   "outputs": [],
   "source": [
    "# Remove text features\n",
    "tokenized_imdb_dataset = tokenized_imdb_dataset.remove_columns([\"text\"])\n",
    "# Rename \"label\" to \"labels\" as expected by the model\n",
    "tokenized_imdb_dataset = tokenized_imdb_dataset.rename_column(\"label\", \"labels\")\n",
    "tokenized_imdb_dataset"
   ]
  },
  {
   "cell_type": "markdown",
   "metadata": {
    "id": "YNI-6UCq-PRV"
   },
   "source": [
    "##### <font color='#2B4865'>**Dynamic padding**</font>"
   ]
  },
  {
   "cell_type": "markdown",
   "metadata": {
    "id": "qCbLC3HSaXjK"
   },
   "source": [
    "Padding all the samples to the maximum length as we saw before is not efficient. As an alternative, we can **pad the samples at batch building time**. Hence, we only need to pad to the maximum length in that batch, and not the maximum length in the entire dataset. For doing so:\n",
    "* We define a **collate function** that will apply the correct amount of padding to the items of the dataset we want to batch together\n",
    "* The Transformers library provides us with such a function: ``DataCollatorWithPadding``."
   ]
  },
  {
   "cell_type": "code",
   "execution_count": null,
   "metadata": {
    "colab": {
     "base_uri": "https://localhost:8080/",
     "height": 17
    },
    "id": "I8oBKQDKbHzJ",
    "outputId": "5b522998-ffd8-4499-d0d4-56aa145b4545"
   },
   "outputs": [],
   "source": [
    "from transformers import DataCollatorWithPadding\n",
    "\n",
    "data_collator = DataCollatorWithPadding(tokenizer=tokenizer)"
   ]
  },
  {
   "cell_type": "markdown",
   "metadata": {
    "id": "EedB1GRQDObG"
   },
   "source": [
    "Let's take some samples from the training dataset and check how the data_collator works."
   ]
  },
  {
   "cell_type": "code",
   "execution_count": null,
   "metadata": {
    "colab": {
     "base_uri": "https://localhost:8080/",
     "height": 34
    },
    "id": "HbfYPXzgbwBW",
    "outputId": "910fa948-490c-4b82-9abf-9cc31c0f6c50"
   },
   "outputs": [],
   "source": [
    "samples = tokenized_imdb_dataset[\"train\"][:8]\n",
    "[len(x) for x in samples[\"input_ids\"]]"
   ]
  },
  {
   "cell_type": "code",
   "execution_count": null,
   "metadata": {
    "colab": {
     "base_uri": "https://localhost:8080/",
     "height": 86
    },
    "id": "rAdgP5Upb8aT",
    "outputId": "a08d7b6d-2d2b-4627-fa1f-81ee5c817ddb"
   },
   "outputs": [],
   "source": [
    "batch = data_collator(samples)\n",
    "{k: v.shape for k, v in batch.items()}"
   ]
  },
  {
   "cell_type": "markdown",
   "metadata": {
    "id": "m3_mNcMBcRsP"
   },
   "source": [
    "We can observe how the dynamic padding is working properly: each sample in the batch is padded to a length of $512$, the maximum length inside the batch. Without dynamic padding, all of the samples would have to be padded to the maximum length in the whole dataset, or the maximum length the model can accept."
   ]
  },
  {
   "cell_type": "markdown",
   "metadata": {
    "id": "SuHSF8Yt-p86"
   },
   "source": [
    "#### <font color='#2B4865'>*1.2.3. Fine-tuning*</font>"
   ]
  },
  {
   "cell_type": "markdown",
   "metadata": {
    "id": "31i597dz6P4d"
   },
   "source": [
    "To train a model, we can just use the same kind of training loop that we would use in Pytorch. 🤗 models are also ``torch.nn.Module``s so backpropagation happens the same way and you can even use the same optimizers. However, we will not be covering this functionality in this tutorial, but we will use the Hugging Face ``Trainer`` class with which we can handle most needs."
   ]
  },
  {
   "cell_type": "markdown",
   "metadata": {
    "id": "vnuSKhXXmFOv"
   },
   "source": [
    "##### <font color='#2B4865'>**Training**</font>"
   ]
  },
  {
   "cell_type": "markdown",
   "metadata": {
    "id": "fmKn5h5DoKug"
   },
   "source": [
    "The **first step** before defining our ``Trainer`` is to define a ``TrainerArguments`` class, where we can specify different training parameters like how often to evaluate and save model checkpoints, where to save them, etc.  There are [many aspects](https://huggingface.co/docs/transformers/main_classes/trainer#transformers.TrainingArguments) that you can customize, the most important being:\n",
    "\n",
    "| Parameter | Explanation |\n",
    "|-----------| ------------|\n",
    "| num_train_epochs | total number of training epochs (how many times to pass through the entire dataset; too much can cause overfitting) |\n",
    "| per_device_train_batch_size | batch size per device during training |\n",
    "| per_device_eval_batch_size |  batch size for evaluation |\n",
    "|  warmup_steps |  number of warmup steps for learning rate scheduler |\n",
    "| weight_decay | strength of weight decay (reduces size of weights, like regularization) |\n",
    "| output_dir | output directory for the fine-tuned model and configuration files |\n",
    "| logging_dir | directory for storing logs |\n",
    "| logging_steps | how often to print logging output (so that we can stop training early if the loss isn't going down) |\n",
    "| evaluation_strategy | evaluate while training so that we can see the accuracy going up |\n",
    "\n",
    "Yet, the **only mandatory argument to be provided** is a directory where the trained model will be saved, as well as the checkpoints along the way. For all the rest, you can leave the defaults, which should work pretty well for basic fine-tuning."
   ]
  },
  {
   "cell_type": "code",
   "execution_count": null,
   "metadata": {
    "colab": {
     "base_uri": "https://localhost:8080/",
     "height": 17
    },
    "id": "hXTZGT6EoidS",
    "outputId": "22aaa36c-8446-46ce-c701-2ecaddf76430"
   },
   "outputs": [],
   "source": [
    "from transformers import TrainingArguments\n",
    "\n",
    "training_args = TrainingArguments(output_dir=f\"{checkpoint_name}-finetuned-imdb\")"
   ]
  },
  {
   "cell_type": "markdown",
   "metadata": {
    "id": "AYUAEZ4Hoq07"
   },
   "source": [
    "The **second step** is to define our model. We will be using the same **AutoModelForSequenceClassification** class that we used during inference, with two labels, but now with the BERT checkpoint:"
   ]
  },
  {
   "cell_type": "code",
   "execution_count": null,
   "metadata": {
    "colab": {
     "base_uri": "https://localhost:8080/",
     "height": 84,
     "referenced_widgets": [
      "1ee8413996a64914a9a7c4c119df2cb6",
      "f43c6c64f63a4984b38e71bbdac72cb2",
      "33b94011d69241d18e4c14d138c35636",
      "d3389101e64a4c68b2033355d0c8450b",
      "2ac5e3e4201144fdabcfaea58dc0ee59",
      "98ddb94b43314a5c9cb666958be6a07d",
      "b774f7657d08438187b388085bd0596a",
      "553784dd764b4440a359e730708a8cd5",
      "83f66fe4500846d79f88ea846a5898e7",
      "20bf368c0c154d2ba16d70367d71680f",
      "f5b016aca3fe4231a2af8b82a362239e"
     ]
    },
    "id": "njANZ_DQoycK",
    "outputId": "fdb88f54-7455-4966-9511-2eba21a7e2c6"
   },
   "outputs": [],
   "source": [
    "from transformers import AutoModelForSequenceClassification\n",
    "\n",
    "model = AutoModelForSequenceClassification.from_pretrained(checkpoint_name, num_labels=2)"
   ]
  },
  {
   "cell_type": "markdown",
   "metadata": {
    "id": "zN4MZW7OF8V_"
   },
   "source": [
    "You will notice after executing the former cell that you **get a warning after instantiating the pretrained model**. This is because BERT has not been pretrained on classifying pairs of sentences but on a masked language modeling objective, so the head of the pretrained model has been discarded and a new head suitable for sequence classification has been added instead. The warnings indicate that some weights were not used (the ones corresponding to the dropped pretraining head) and that some others were randomly initialized (the ones for the new head). It concludes by encouraging you to train the model, which is exactly what we are going to do now."
   ]
  },
  {
   "cell_type": "markdown",
   "metadata": {
    "id": "ZSnllE_7oWJP"
   },
   "source": [
    "Once we have our model, we can create a **Trainer** instance by passing it all the objects constructed up to now:\n",
    "\n"
   ]
  },
  {
   "cell_type": "code",
   "execution_count": null,
   "metadata": {
    "colab": {
     "base_uri": "https://localhost:8080/",
     "height": 17
    },
    "id": "BAa8DMZJpafL",
    "outputId": "0fce5e2b-8fe7-43eb-8597-7547d9eb9e4f"
   },
   "outputs": [],
   "source": [
    "from transformers import Trainer\n",
    "\n",
    "trainer = Trainer(\n",
    "    model=model,\n",
    "    args=training_args,\n",
    "    train_dataset=tokenized_imdb_dataset[\"train\"],\n",
    "    eval_dataset=tokenized_imdb_dataset[\"val\"],\n",
    "    data_collator=data_collator,\n",
    "    tokenizer=tokenizer,\n",
    ")"
   ]
  },
  {
   "cell_type": "markdown",
   "metadata": {
    "id": "pVGx4kxhieaO"
   },
   "source": [
    "To start the fine-tuning, we would just need to invoke the ``train()`` method of our Trainer."
   ]
  },
  {
   "cell_type": "code",
   "execution_count": null,
   "metadata": {
    "colab": {
     "base_uri": "https://localhost:8080/",
     "height": 141
    },
    "id": "q8eA_24Vjqeq",
    "outputId": "1616f67e-82fb-4707-a3cc-3419295dc8c4"
   },
   "outputs": [],
   "source": [
    "trainer.train()"
   ]
  },
  {
   "cell_type": "markdown",
   "metadata": {
    "id": "OrY14qmJj-Ox"
   },
   "source": [
    "The former call reports the training loss every 500 steps, but it does not tell us how well our model is performing since we have not specified how the evaluation is going to take place."
   ]
  },
  {
   "cell_type": "markdown",
   "metadata": {
    "id": "oR1_k25kmFYU"
   },
   "source": [
    "##### <font color='#2B4865'>**Evaluation**</font>"
   ]
  },
  {
   "cell_type": "markdown",
   "metadata": {
    "id": "xuKGMZvPgnfC"
   },
   "source": [
    "Regarding the evaluation, there are two last aspects to take care of:\n",
    "\n",
    "1.   The **evaluation strategy during the training**. We can set it through the Trainer's parameter ``evaluation_strategy``to either ``steps`` (evaluate every eval_steps) or ``epoch`` (evaluate at the end of each epoch).\n",
    "2.   The **metric to calculate during said evaluation**. Here, there are two possible actions that we can carry out. If we create the Trainer instance without specifying anything on the ``compute_metrics`` parameter, the evaluation will be based on the loss. Otherwise, we can define a ``compute_metrics()`` and pass it to the trainer, then the evaluation will be based on the metric specified in such a function. For this case, we will be using an ad-hoc ``compute_metrics()`` function."
   ]
  },
  {
   "cell_type": "markdown",
   "metadata": {
    "id": "NM_XlSqBqnuU"
   },
   "source": [
    "The ``compute_metrics()``function must take an ``EvalPrediction`` object, that is, a ``namedtuple`` with two fields:\n",
    "* ``predictions``\n",
    "*``label_ids``\n",
    "\n",
    "and return a **dictionary mapping strings to floats**, where:\n",
    "* The **strings** are the names of the metrics returned\n",
    "* The **floats** are their values\n",
    "\n",
    "To get some predictions from our model, we can use the Trainer's method ``predict()``. The output of this method is another ``namedtuple`` with three fields:\n",
    "* ``predictions``\n",
    "* ``label_ids``\n",
    "* ``metrics``\n",
    "\n",
    "The ``metrics`` field contains the loss on the dataset passed, as well as some time metrics (how long it took to predict, in total and on average). Once we complete our ``compute_metrics()`` function and pass it to the Trainer, that field will also contain the metrics returned by ``compute_metrics()``."
   ]
  },
  {
   "cell_type": "code",
   "execution_count": null,
   "metadata": {
    "colab": {
     "base_uri": "https://localhost:8080/",
     "height": 34
    },
    "id": "vGK2-lct6r3t",
    "outputId": "425964ba-c00f-4b5f-b145-bbe3abd255e3"
   },
   "outputs": [],
   "source": [
    "predictions = trainer.predict(tokenized_imdb_dataset[\"val\"])\n",
    "print(predictions.predictions.shape, predictions.label_ids.shape)"
   ]
  },
  {
   "cell_type": "markdown",
   "metadata": {
    "id": "lD0zpvtoq1ZD"
   },
   "source": [
    "As you can see, ``predictions`` is a **two-dimensional array** with shape $1000 \\times 2$ ($1000$ being the number of elements in the validation dataset we used). Those are the logits for each element of the dataset we passed to ``predict()``. To transform them into predictions that we can compare to our labels, we need to take the **index with the maximum value on the second axis**:"
   ]
  },
  {
   "cell_type": "code",
   "execution_count": null,
   "metadata": {
    "colab": {
     "base_uri": "https://localhost:8080/",
     "height": 17
    },
    "id": "ILzNWYu6q3Cw",
    "outputId": "f0154966-8733-4e46-cf92-b0524f44f58e"
   },
   "outputs": [],
   "source": [
    "import numpy as np\n",
    "\n",
    "preds = np.argmax(predictions.predictions, axis=1)"
   ]
  },
  {
   "cell_type": "markdown",
   "metadata": {
    "id": "4m4twsL6q5Pa"
   },
   "source": [
    "We can now compare those ``preds`` to the ``labels`` that we have available in our dataset. To build our ``compute_metric()`` function, we will rely on the ``accuracy`` metric from Sklearn."
   ]
  },
  {
   "cell_type": "code",
   "execution_count": null,
   "metadata": {
    "colab": {
     "base_uri": "https://localhost:8080/",
     "height": 34
    },
    "id": "AHmZtGsZq7Ud",
    "outputId": "8aaa8da8-2bb3-441f-86ab-7ce47c70134d"
   },
   "outputs": [],
   "source": [
    "from sklearn.metrics import accuracy_score\n",
    "\n",
    "labels = tokenized_imdb_dataset[\"val\"][\"labels\"]\n",
    "\n",
    "accuracy_score(y_true=labels, y_pred=preds)"
   ]
  },
  {
   "cell_type": "markdown",
   "metadata": {
    "id": "3ZDQW5X1mFgY"
   },
   "source": [
    "##### <font color='#2B4865'>**Callbacks**</font>"
   ]
  },
  {
   "cell_type": "markdown",
   "metadata": {
    "id": "hR4PxG0vmGOP"
   },
   "source": [
    "Hugging Face Transformers also allows you to write **Callbacks** if you want certain things to happen at different points during training (e.g. after evaluation or after an epoch has finished). For example, there is a callback for early stopping:"
   ]
  },
  {
   "cell_type": "code",
   "execution_count": null,
   "metadata": {
    "colab": {
     "base_uri": "https://localhost:8080/",
     "height": 17
    },
    "id": "RgLYuq2Nw0P1",
    "outputId": "b7e49f5e-14f5-46a4-dae6-e84d169014fd"
   },
   "outputs": [],
   "source": [
    "from transformers import EarlyStoppingCallback\n",
    "\n",
    "trainer.add_callback(EarlyStoppingCallback(early_stopping_patience=1, early_stopping_threshold=0.0))"
   ]
  },
  {
   "cell_type": "markdown",
   "metadata": {
    "id": "q3jkULelw5pW"
   },
   "source": [
    "We can add the callback after the training has been instantiated, as shown in the cell above, or while creating the Trainer object by passing it to the ``callbacks`` parameter. Take into account that to use a callback, you must set the ``load_best_model_at_end`` argument in the instantiation of the ``TrainingArguments`` object to ``True``.\n",
    "\n",
    "For more information on callbacks see [here](https://huggingface.co/docs/transformers/main_classes/callback#transformers.TrainerCallback)."
   ]
  },
  {
   "cell_type": "markdown",
   "metadata": {
    "id": "SrpOxEIgm1Wp"
   },
   "source": [
    "##### <font color='#2B4865'>**Some practical tips for finetuning**</font>"
   ]
  },
  {
   "cell_type": "markdown",
   "metadata": {
    "id": "kZH6jrb_7UHt"
   },
   "source": [
    "**Good default hyperparameters.** The hyperparameters will depend on your task and dataset. You should do a hyperparameter search to find the best ones. That said, here are some good initial values for fine-tuning.\n",
    "* **Epochs**: {2, 3, 4} (larger amounts of data need fewer epochs)\n",
    "* **Batch size:** bigger is better (as large as you can make it)\n",
    "* **Optimizer:** AdamW\n",
    "* **AdamW learning rate:** {2e-5, 5e-5}\n",
    "* **Learning rate scheduler:** linear warm-up for first {0, 100, 500} steps of training\n",
    "* **weight_decay (l2 regularization):** {0, 0.01, 0.1}\n",
    "\n",
    "You should monitor your validation loss to decide when you've found good hyperparameters.\n",
    "\n",
    "There's a lot more that we can integrate into the Trainer to make it more useful. You can check out [this link](https://huggingface.co/docs/transformers/main_classes/trainer#transformers.Trainer) for more information about it."
   ]
  },
  {
   "cell_type": "markdown",
   "metadata": {
    "id": "y-ozu4lZ_P0X"
   },
   "source": [
    "#### <font color='#2B4865'>*1.2.4. Full training*</font>"
   ]
  },
  {
   "cell_type": "markdown",
   "metadata": {
    "id": "ylVh-FiKoCjH"
   },
   "source": [
    "<font color='#2B4865'><u>**REACP: TRAINER API FINE-TUNING STEPS**</u></font>\n",
    "1. Define ``TrainingArguments`` class to harbor the hyperparameters that\n",
    "the Trainer will use for training and evaluation and specify the\n",
    "evaluation strategy to be used.\n",
    "2. Define the Transformer model to be used.\n",
    "3. Build a ``compute_metrics()`` function to evaluate the performance of\n",
    "the model at training time based on metrics from the ``Evaluate`` library. Otherwise, the evaluation will be based on the loss.\n",
    "4. Define a ``Trainer`` by passing the model, the training arguments,\n",
    "training and validation datasets, the tokenizer, the collator and the\n",
    "``compute_metrics()`` function.\n",
    "5. Add additional callbacks if desired.\n",
    "5. Invoke ``trainer.train()``."
   ]
  },
  {
   "cell_type": "code",
   "execution_count": null,
   "metadata": {
    "colab": {
     "base_uri": "https://localhost:8080/",
     "height": 235
    },
    "id": "RTNh2EQkiCsM",
    "outputId": "fe9376f6-a4f6-4332-83fb-17ff214088d3"
   },
   "outputs": [],
   "source": [
    "from sklearn.metrics import (accuracy_score, f1_score, precision_score,\n",
    "                             recall_score)\n",
    "from transformers import Trainer\n",
    "from transformers import EarlyStoppingCallback\n",
    "\n",
    "\n",
    "training_args = TrainingArguments(\n",
    "    output_dir=f\"{checkpoint_name}-finetuned-imdb2\",\n",
    "    per_device_train_batch_size=16,                                             # The batch size per GPU/TPU core/CPU for training\n",
    "    per_device_eval_batch_size=16,                                              # The batch size per GPU/TPU core/CPU for validation\n",
    "    num_train_epochs=5,                                                         # Total number of training epochs to perform\n",
    "    evaluation_strategy=\"epoch\",                                                # During training evaluation strategy: here, evaluation is done at the end of each epoch\n",
    "    logging_strategy=\"epoch\",                                                   # Logging strategy to adopt during training: here, logging is done at the end of each epoch\n",
    "    save_strategy=\"epoch\",                                                      # Checkpoint save strategy to adopt during training: here, save is done at the end of each epoch\n",
    "    learning_rate=2e-5,                                                         # The initial learning rate for AdamW optimizer\n",
    "    load_best_model_at_end=True,                                                # Whether or not to load the best model found during training at the end of training: here, yes\n",
    "    metric_for_best_model='accuracy',                                           # Metric to use to compare two different models.\n",
    "    seed=42,                                                                    # Random seed that will be set at the beginning of training\n",
    ")\n",
    "\n",
    "def compute_metrics(eval_preds):\n",
    "    '''Evaluation function based on accuracy'''\n",
    "    pred, labels = eval_preds\n",
    "    pred = np.argmax(pred, axis=-1)\n",
    "    accuracy = accuracy_score(y_true=labels, y_pred=pred)\n",
    "\n",
    "    return {\"accuracy\": accuracy}\n",
    "\n",
    "trainer = Trainer(\n",
    "    model=model,\n",
    "    args=training_args,\n",
    "    train_dataset=tokenized_imdb_dataset['train'],\n",
    "    eval_dataset=tokenized_imdb_dataset['val'],\n",
    "    tokenizer=tokenizer,\n",
    "    data_collator=data_collator,\n",
    "    compute_metrics=compute_metrics,\n",
    "    callbacks = [EarlyStoppingCallback(early_stopping_patience=2, early_stopping_threshold=0.0)]\n",
    ")\n",
    "\n",
    "trainer.train()"
   ]
  },
  {
   "cell_type": "markdown",
   "metadata": {
    "id": "dKfy-3qGt3R2"
   },
   "source": [
    "Once trained, evaluating the model is straightgforward:"
   ]
  },
  {
   "cell_type": "code",
   "execution_count": null,
   "metadata": {
    "colab": {
     "base_uri": "https://localhost:8080/",
     "height": 54
    },
    "id": "lravXYVsjNvh",
    "outputId": "9ba27cae-8f77-43ac-cfcb-56769457e4a8"
   },
   "outputs": [],
   "source": [
    "results = trainer.evaluate()   # just gets evaluation metrics\n",
    "print(results)"
   ]
  },
  {
   "cell_type": "markdown",
   "metadata": {
    "id": "jemgILqCuKCK"
   },
   "source": [
    "Now we can make predictions with our model.\n"
   ]
  },
  {
   "cell_type": "markdown",
   "metadata": {
    "id": "ErBXwNdbu1Ab"
   },
   "source": [
    "#### <font color='#2B4865'>*1.2.5. Make predictions with the fine-tuned model*</font>"
   ]
  },
  {
   "cell_type": "code",
   "execution_count": null,
   "metadata": {
    "colab": {
     "base_uri": "https://localhost:8080/",
     "height": 17
    },
    "id": "HtQGleHVm-c6",
    "outputId": "0deafd8c-3569-4db3-dcc1-01a8d7eaeab8"
   },
   "outputs": [],
   "source": [
    "# Load trained model\n",
    "checkpoint = 500\n",
    "model_path = f\"{path_to_folder}/bert-base-uncased-finetuned-imdb/checkpoint-{500}\" ## TODO: Update this path to the last saved checkpoint in the former cell\n",
    "model = AutoModelForSequenceClassification.from_pretrained(model_path)"
   ]
  },
  {
   "cell_type": "code",
   "execution_count": null,
   "metadata": {
    "colab": {
     "base_uri": "https://localhost:8080/",
     "height": 34
    },
    "id": "EP8NwPCuuP69",
    "outputId": "2fbba5f2-1fdd-4427-f815-e519445ac6ad"
   },
   "outputs": [],
   "source": [
    "# Define test trainer\n",
    "test_trainer = Trainer(model, data_collator=data_collator, tokenizer=tokenizer)\n",
    "\n",
    "# Make prediction\n",
    "test_dataset = tokenized_imdb_dataset[\"test\"].select(range(100))\n",
    "predicted_results = test_trainer.predict(test_dataset)\n",
    "\n",
    "# Preprocess raw predictions\n",
    "y_pred = predicted_results.predictions.argmax(-1) # Get the highest probability prediction\n",
    "\n",
    "# Calculate accuracy\n",
    "labels = test_dataset[\"labels\"]\n",
    "print(f\"Accuracy:\\t{accuracy_score(y_true=labels, y_pred=y_pred)}\")"
   ]
  },
  {
   "cell_type": "markdown",
   "metadata": {
    "id": "qFNVRCweubHY"
   },
   "source": [
    "We can also make predictions on new data:"
   ]
  },
  {
   "cell_type": "code",
   "execution_count": null,
   "metadata": {
    "colab": {
     "base_uri": "https://localhost:8080/",
     "height": 34
    },
    "id": "N1y9eiTG7Q_L",
    "outputId": "30bb065e-d2a4-4016-e6e6-6073c6ffd802"
   },
   "outputs": [],
   "source": [
    "test_str = \"The movie was not what I expected\"\n",
    "model_inputs = tokenizer(test_str, return_tensors=\"pt\")\n",
    "\n",
    "device = torch.device('cuda' if torch.cuda.is_available() else 'cpu')\n",
    "model = model.to(device)\n",
    "model_inputs = model_inputs.to(device)\n",
    "\n",
    "prediction = torch.argmax(model(**model_inputs).logits)\n",
    "pos_preds = [\"negative\", \"positive\"]\n",
    "print(f\"The sentiment of the sentence is: {pos_preds[prediction]}\")"
   ]
  },
  {
   "cell_type": "markdown",
   "metadata": {
    "id": "mrEmXe8J1vrf"
   },
   "source": [
    "To finish, we can aslo pull out correct and incorrect classification from the test set for examination. First, let's print out some example predictions that were correct."
   ]
  },
  {
   "cell_type": "code",
   "execution_count": null,
   "metadata": {
    "colab": {
     "base_uri": "https://localhost:8080/",
     "height": 17
    },
    "id": "Pfv2U8b6z_Ec",
    "outputId": "a587cff4-1610-45c1-e4b1-3545ed5147c4"
   },
   "outputs": [],
   "source": [
    "predicted_labels = y_pred.flatten().tolist()                                    # Flatten the predictions into a 1D list\n",
    "\n",
    "unique_labels = set(label for label in [\"negative\", \"positive\"])\n",
    "label2id = {label: id for id, label in enumerate(unique_labels)}\n",
    "id2label = {id: label for label, id in label2id.items()}\n",
    "\n",
    "predicted_labels = [id2label[l] for l in predicted_labels]                      # Convert from integers back to strings for readability\n",
    "test_labels = [id2label[l] for l in test_labels]"
   ]
  },
  {
   "cell_type": "code",
   "execution_count": null,
   "metadata": {
    "colab": {
     "base_uri": "https://localhost:8080/",
     "height": 1000
    },
    "id": "l7KrvGuZkDAV",
    "outputId": "88501fe8-360e-4979-af52-8a8dffc2fdb5"
   },
   "outputs": [],
   "source": [
    "for _true_label, _predicted_label, _text in random.sample(list(zip(test_labels, predicted_labels, test_texts)), 20):\n",
    "  if _true_label == _predicted_label:\n",
    "    print(Fore.GREEN + Style.BOLD + \"LABEL:\" + Style.RESET, _true_label)\n",
    "    print(Fore.LIGHT_BLUE + Style.BOLD + \"REVIEW TEXT:\" + Style.RESET, _text[:100], '...')\n",
    "    print()"
   ]
  },
  {
   "cell_type": "markdown",
   "metadata": {
    "id": "pW30Z6ynkDPI"
   },
   "source": [
    "Now let's print out some misclassifications."
   ]
  },
  {
   "cell_type": "code",
   "execution_count": null,
   "metadata": {
    "colab": {
     "base_uri": "https://localhost:8080/",
     "height": 434
    },
    "id": "Xmx1RSKDkIpG",
    "outputId": "4d81e693-5b33-4120-f973-ebb67f758b57"
   },
   "outputs": [],
   "source": [
    "for _true_label, _predicted_label, _text in random.sample(list(zip(test_labels, predicted_labels, test_texts)), 50):\n",
    "  if _true_label != _predicted_label:\n",
    "    print(Fore.GREEN + Style.BOLD + \"TRUE LABEL:\" + Style.RESET, _true_label)\n",
    "    print(Fore.RED + Style.BOLD + \"PREDICTED LABEL:\" + Style.RESET, _predicted_label)\n",
    "    print(Fore.LIGHT_BLUE + Style.BOLD + \"REVIEW TEXT:\" + Style.RESET, _text[:100], '...')\n",
    "    print()"
   ]
  },
  {
   "cell_type": "markdown",
   "metadata": {
    "id": "3MZqyFrckJBB"
   },
   "source": [
    "Finally, we can some heatmaps to examine misclassification patterns:"
   ]
  },
  {
   "cell_type": "code",
   "execution_count": null,
   "metadata": {
    "colab": {
     "base_uri": "https://localhost:8080/",
     "height": 17
    },
    "id": "v8yJ3-Z7hLXf",
    "outputId": "eae9054d-e1ae-4cf5-8c7a-1bf4e8f1c205"
   },
   "outputs": [],
   "source": [
    "imdb_classifications_dict = defaultdict(int)\n",
    "for _true_label, _predicted_label in zip(test_labels, predicted_labels):\n",
    "  imdb_classifications_dict[(_true_label, _predicted_label)] += 1\n",
    "\n",
    "dicts_to_plot = []\n",
    "for (_true_genre, _predicted_genre), _count in imdb_classifications_dict.items():\n",
    "  dicts_to_plot.append({'True Sentiment': _true_genre,\n",
    "                        'Predicted Sentiment': _predicted_genre,\n",
    "                        'Number of Classifications': _count})\n",
    "\n",
    "df_to_plot = pd.DataFrame(dicts_to_plot)\n",
    "df_wide = df_to_plot.pivot_table(index='True Sentiment',\n",
    "                                 columns='Predicted Sentiment',\n",
    "                                 values='Number of Classifications')"
   ]
  },
  {
   "cell_type": "code",
   "execution_count": null,
   "metadata": {
    "colab": {
     "base_uri": "https://localhost:8080/",
     "height": 495
    },
    "id": "wSAgS6tvivvz",
    "outputId": "f0504718-f01c-401b-cb40-349a75383c15"
   },
   "outputs": [],
   "source": [
    "sns.set(style='ticks', font_scale=1.2)\n",
    "fig, ax = plt.subplots(figsize=(5,5))         # Sample figsize in inches\n",
    "sns.heatmap(df_wide, linewidths=1, cmap='Blues',ax=ax)\n",
    "plt.xticks(rotation=45, ha='right')\n",
    "plt.tight_layout()\n",
    "plt.show()"
   ]
  },
  {
   "cell_type": "markdown",
   "metadata": {
    "id": "eiukJdYRqyjm"
   },
   "source": [
    "Looks good! We can see that overall, our model is assigning the correct sentiment for each review."
   ]
  },
  {
   "cell_type": "markdown",
   "metadata": {
    "id": "CrDuax-YQ1SU"
   },
   "source": [
    "## <font color='#2B4865'>Appendix</font>"
   ]
  },
  {
   "cell_type": "markdown",
   "metadata": {
    "id": "XnupC8PkOI2o"
   },
   "source": [
    "##### <font color='#2B4865'>**Instructions on how to create a custom dataset**</font>"
   ]
  },
  {
   "cell_type": "markdown",
   "metadata": {
    "id": "eg_U2PBxOP44"
   },
   "source": [
    "When fine-tuning a Transformer model, it is not strictly necessary to use one of the Datasets available at the Hub. There are a few ways to go about defining our datasets, by creating and loading them from local or remote datasets.\n",
    "\n",
    "🤗 Datasets support several common data formats to load local datasets, such as **CSV & TSV**, **Text files**, **JSON & JSON Lines** and **Pickled DataFrames**, and they can be loaded with the ``load_dataset`` and the file type identifier. F.e., if we want to load a CSV file, we will make it as follows:\n",
    "\n",
    "```\n",
    "from datasets import load_dataset\n",
    "load_dataset(\"csv\", data_files=\"my_file.csv\")\n",
    "````\n",
    "\n",
    "You may also want to use datasets that are stored in a remote server such as GitHub. It turns out that loading these files is as simple as doing so for local ones: we only need to point the ``data_files`` argument of ``load_dataset()`` to one or more URLs where the remote files are stored. For example, for the SQuAD-explorer dataset hosted on GitHub, we can just point data_files to the SQuAD-explorer-*.json URLs as follows:\n",
    "\n",
    "```\n",
    "base_url = \"https://rajpurkar.github.io/SQuAD-explorer/dataset/\"\n",
    "dataset = load_dataset(\"json\", data_files={\"train\": base_url + \"train-v1.1.json\", \"validation\": base_url + \"dev-v1.1.json\"}, field=\"data\")\n",
    "```\n",
    "\n",
    "You can also create a HF Dataset from a Pandas dataFrame as follows:\n",
    "```\n",
    "from datasets import Dataset\n",
    "import pandas as pd\n",
    "df = pd.DataFrame({\"a\": [1, 2, 3]})\n",
    "dataset = Dataset.from_pandas(df)\n",
    "```\n",
    "\n",
    "You can check more details about these functionalities [here](https://huggingface.co/course/chapter5/2?fw=pt)."
   ]
  },
  {
   "cell_type": "markdown",
   "metadata": {
    "id": "QbI1DC4kOclb"
   },
   "source": [
    "In some scenarios, you may need to build a dataset from scratch, because you need to solve a certain NLP application and it does not exist. [In this link](https://huggingface.co/course/chapter5/5?fw=pt), you have a tutorial on how to create a corpus of GitHub issues, first by getting the data via the GitHub REST APLI, and then constructing the dataset. In this scenario, you will probably need to carry out the cleaning of the data."
   ]
  },
  {
   "cell_type": "markdown",
   "metadata": {
    "id": "DnzDs11rN7OA"
   },
   "source": [
    "## <font color='#2B4865'>Summary</font>"
   ]
  },
  {
   "cell_type": "markdown",
   "metadata": {
    "id": "nWUsIXg5ST8a"
   },
   "source": [
    "In this tutorial, we have covered the basics of 🤗 Transformers. We have learned the basic building blocks of a Transformer model, as well as how to use them to perform inference. We have also learned how to carry out the fine-tuning of a pre-trained model on a Sentiment Analysis task and a specific dataset.\n",
    "\n",
    "In the next notebooks, we will leverage the knowledge gained here to solve two more NLP tasks that are a little more complicated than the one covered here."
   ]
  }
 ],
 "metadata": {
  "accelerator": "GPU",
  "colab": {
   "provenance": []
  },
  "gpuClass": "standard",
  "kernelspec": {
   "display_name": "Python 3 (ipykernel)",
   "language": "python",
   "name": "python3"
  },
  "language_info": {
   "codemirror_mode": {
    "name": "ipython",
    "version": 3
   },
   "file_extension": ".py",
   "mimetype": "text/x-python",
   "name": "python",
   "nbconvert_exporter": "python",
   "pygments_lexer": "ipython3",
   "version": "3.8.12"
  },
  "widgets": {
   "application/vnd.jupyter.widget-state+json": {
    "000320bdec4c4fec9e8daae446402936": {
     "model_module": "@jupyter-widgets/base",
     "model_module_version": "1.2.0",
     "model_name": "LayoutModel",
     "state": {
      "_model_module": "@jupyter-widgets/base",
      "_model_module_version": "1.2.0",
      "_model_name": "LayoutModel",
      "_view_count": null,
      "_view_module": "@jupyter-widgets/base",
      "_view_module_version": "1.2.0",
      "_view_name": "LayoutView",
      "align_content": null,
      "align_items": null,
      "align_self": null,
      "border": null,
      "bottom": null,
      "display": null,
      "flex": null,
      "flex_flow": null,
      "grid_area": null,
      "grid_auto_columns": null,
      "grid_auto_flow": null,
      "grid_auto_rows": null,
      "grid_column": null,
      "grid_gap": null,
      "grid_row": null,
      "grid_template_areas": null,
      "grid_template_columns": null,
      "grid_template_rows": null,
      "height": null,
      "justify_content": null,
      "justify_items": null,
      "left": null,
      "margin": null,
      "max_height": null,
      "max_width": null,
      "min_height": null,
      "min_width": null,
      "object_fit": null,
      "object_position": null,
      "order": null,
      "overflow": null,
      "overflow_x": null,
      "overflow_y": null,
      "padding": null,
      "right": null,
      "top": null,
      "visibility": null,
      "width": null
     }
    },
    "026383c9e7d5428eac54aa9b03c91039": {
     "model_module": "@jupyter-widgets/controls",
     "model_module_version": "1.5.0",
     "model_name": "HBoxModel",
     "state": {
      "_dom_classes": [],
      "_model_module": "@jupyter-widgets/controls",
      "_model_module_version": "1.5.0",
      "_model_name": "HBoxModel",
      "_view_count": null,
      "_view_module": "@jupyter-widgets/controls",
      "_view_module_version": "1.5.0",
      "_view_name": "HBoxView",
      "box_style": "",
      "children": [
       "IPY_MODEL_65356e17dabd4b83994a96ff5359104d",
       "IPY_MODEL_716094be222a4eecabb63d7f739911d1",
       "IPY_MODEL_a7ca60d17fe5454fa57f73f98ed13f43"
      ],
      "layout": "IPY_MODEL_8d9ba5631e364abb98022c10c28fe272"
     }
    },
    "0278e6f7d8d443cba7d9152143ae4317": {
     "model_module": "@jupyter-widgets/controls",
     "model_module_version": "1.5.0",
     "model_name": "HBoxModel",
     "state": {
      "_dom_classes": [],
      "_model_module": "@jupyter-widgets/controls",
      "_model_module_version": "1.5.0",
      "_model_name": "HBoxModel",
      "_view_count": null,
      "_view_module": "@jupyter-widgets/controls",
      "_view_module_version": "1.5.0",
      "_view_name": "HBoxView",
      "box_style": "",
      "children": [
       "IPY_MODEL_60502ffee6824563b1e251585b424e0c",
       "IPY_MODEL_c5c35d8266ac4530a189b66d549843d3",
       "IPY_MODEL_e275b56a379b4179ac3ff5680b41c027"
      ],
      "layout": "IPY_MODEL_692bb164d8c448db8a2b4b3252f4091e"
     }
    },
    "051656786fee447eb816d548b52c558f": {
     "model_module": "@jupyter-widgets/controls",
     "model_module_version": "1.5.0",
     "model_name": "DescriptionStyleModel",
     "state": {
      "_model_module": "@jupyter-widgets/controls",
      "_model_module_version": "1.5.0",
      "_model_name": "DescriptionStyleModel",
      "_view_count": null,
      "_view_module": "@jupyter-widgets/base",
      "_view_module_version": "1.2.0",
      "_view_name": "StyleView",
      "description_width": ""
     }
    },
    "066493c589294d619a61e5ffe4cf81be": {
     "model_module": "@jupyter-widgets/controls",
     "model_module_version": "1.5.0",
     "model_name": "HTMLModel",
     "state": {
      "_dom_classes": [],
      "_model_module": "@jupyter-widgets/controls",
      "_model_module_version": "1.5.0",
      "_model_name": "HTMLModel",
      "_view_count": null,
      "_view_module": "@jupyter-widgets/controls",
      "_view_module_version": "1.5.0",
      "_view_name": "HTMLView",
      "description": "",
      "description_tooltip": null,
      "layout": "IPY_MODEL_c33cf43114e4430bbe411ca5cf5f07fd",
      "placeholder": "​",
      "style": "IPY_MODEL_7e4cc7c7ad834befbb1f5fb728e19480",
      "value": " 798k/798k [00:00&lt;00:00, 11.2MB/s]"
     }
    },
    "0785f1d658914922920f21a0399d6dfd": {
     "model_module": "@jupyter-widgets/controls",
     "model_module_version": "1.5.0",
     "model_name": "DescriptionStyleModel",
     "state": {
      "_model_module": "@jupyter-widgets/controls",
      "_model_module_version": "1.5.0",
      "_model_name": "DescriptionStyleModel",
      "_view_count": null,
      "_view_module": "@jupyter-widgets/base",
      "_view_module_version": "1.2.0",
      "_view_name": "StyleView",
      "description_width": ""
     }
    },
    "07e3302eb26043c184a5823b5aa469dc": {
     "model_module": "@jupyter-widgets/base",
     "model_module_version": "1.2.0",
     "model_name": "LayoutModel",
     "state": {
      "_model_module": "@jupyter-widgets/base",
      "_model_module_version": "1.2.0",
      "_model_name": "LayoutModel",
      "_view_count": null,
      "_view_module": "@jupyter-widgets/base",
      "_view_module_version": "1.2.0",
      "_view_name": "LayoutView",
      "align_content": null,
      "align_items": null,
      "align_self": null,
      "border": null,
      "bottom": null,
      "display": null,
      "flex": null,
      "flex_flow": null,
      "grid_area": null,
      "grid_auto_columns": null,
      "grid_auto_flow": null,
      "grid_auto_rows": null,
      "grid_column": null,
      "grid_gap": null,
      "grid_row": null,
      "grid_template_areas": null,
      "grid_template_columns": null,
      "grid_template_rows": null,
      "height": null,
      "justify_content": null,
      "justify_items": null,
      "left": null,
      "margin": null,
      "max_height": null,
      "max_width": null,
      "min_height": null,
      "min_width": null,
      "object_fit": null,
      "object_position": null,
      "order": null,
      "overflow": null,
      "overflow_x": null,
      "overflow_y": null,
      "padding": null,
      "right": null,
      "top": null,
      "visibility": null,
      "width": null
     }
    },
    "091944e7ce1f41a39cb283f0223d8540": {
     "model_module": "@jupyter-widgets/controls",
     "model_module_version": "1.5.0",
     "model_name": "HTMLModel",
     "state": {
      "_dom_classes": [],
      "_model_module": "@jupyter-widgets/controls",
      "_model_module_version": "1.5.0",
      "_model_name": "HTMLModel",
      "_view_count": null,
      "_view_module": "@jupyter-widgets/controls",
      "_view_module_version": "1.5.0",
      "_view_name": "HTMLView",
      "description": "",
      "description_tooltip": null,
      "layout": "IPY_MODEL_e2b085f869f04e48a535ade900c2838b",
      "placeholder": "​",
      "style": "IPY_MODEL_0f1140199f6049a0a11fc42ebbff8056",
      "value": "vocab.json: 100%"
     }
    },
    "09b391afaddc4c34907efd5f0cdbb91a": {
     "model_module": "@jupyter-widgets/base",
     "model_module_version": "1.2.0",
     "model_name": "LayoutModel",
     "state": {
      "_model_module": "@jupyter-widgets/base",
      "_model_module_version": "1.2.0",
      "_model_name": "LayoutModel",
      "_view_count": null,
      "_view_module": "@jupyter-widgets/base",
      "_view_module_version": "1.2.0",
      "_view_name": "LayoutView",
      "align_content": null,
      "align_items": null,
      "align_self": null,
      "border": null,
      "bottom": null,
      "display": null,
      "flex": null,
      "flex_flow": null,
      "grid_area": null,
      "grid_auto_columns": null,
      "grid_auto_flow": null,
      "grid_auto_rows": null,
      "grid_column": null,
      "grid_gap": null,
      "grid_row": null,
      "grid_template_areas": null,
      "grid_template_columns": null,
      "grid_template_rows": null,
      "height": null,
      "justify_content": null,
      "justify_items": null,
      "left": null,
      "margin": null,
      "max_height": null,
      "max_width": null,
      "min_height": null,
      "min_width": null,
      "object_fit": null,
      "object_position": null,
      "order": null,
      "overflow": null,
      "overflow_x": null,
      "overflow_y": null,
      "padding": null,
      "right": null,
      "top": null,
      "visibility": null,
      "width": null
     }
    },
    "09ec2180b15149d8bd493cf26beeada6": {
     "model_module": "@jupyter-widgets/controls",
     "model_module_version": "1.5.0",
     "model_name": "DescriptionStyleModel",
     "state": {
      "_model_module": "@jupyter-widgets/controls",
      "_model_module_version": "1.5.0",
      "_model_name": "DescriptionStyleModel",
      "_view_count": null,
      "_view_module": "@jupyter-widgets/base",
      "_view_module_version": "1.2.0",
      "_view_name": "StyleView",
      "description_width": ""
     }
    },
    "0a1177eef58f4b1297ac6d5ccd4f389d": {
     "model_module": "@jupyter-widgets/base",
     "model_module_version": "1.2.0",
     "model_name": "LayoutModel",
     "state": {
      "_model_module": "@jupyter-widgets/base",
      "_model_module_version": "1.2.0",
      "_model_name": "LayoutModel",
      "_view_count": null,
      "_view_module": "@jupyter-widgets/base",
      "_view_module_version": "1.2.0",
      "_view_name": "LayoutView",
      "align_content": null,
      "align_items": null,
      "align_self": null,
      "border": null,
      "bottom": null,
      "display": null,
      "flex": null,
      "flex_flow": null,
      "grid_area": null,
      "grid_auto_columns": null,
      "grid_auto_flow": null,
      "grid_auto_rows": null,
      "grid_column": null,
      "grid_gap": null,
      "grid_row": null,
      "grid_template_areas": null,
      "grid_template_columns": null,
      "grid_template_rows": null,
      "height": null,
      "justify_content": null,
      "justify_items": null,
      "left": null,
      "margin": null,
      "max_height": null,
      "max_width": null,
      "min_height": null,
      "min_width": null,
      "object_fit": null,
      "object_position": null,
      "order": null,
      "overflow": null,
      "overflow_x": null,
      "overflow_y": null,
      "padding": null,
      "right": null,
      "top": null,
      "visibility": null,
      "width": null
     }
    },
    "0a6a4adeb1f54970862a345dd7ecf857": {
     "model_module": "@jupyter-widgets/controls",
     "model_module_version": "1.5.0",
     "model_name": "ProgressStyleModel",
     "state": {
      "_model_module": "@jupyter-widgets/controls",
      "_model_module_version": "1.5.0",
      "_model_name": "ProgressStyleModel",
      "_view_count": null,
      "_view_module": "@jupyter-widgets/base",
      "_view_module_version": "1.2.0",
      "_view_name": "StyleView",
      "bar_color": null,
      "description_width": ""
     }
    },
    "0a8b9185fcb8431cb92361ad717af95f": {
     "model_module": "@jupyter-widgets/base",
     "model_module_version": "1.2.0",
     "model_name": "LayoutModel",
     "state": {
      "_model_module": "@jupyter-widgets/base",
      "_model_module_version": "1.2.0",
      "_model_name": "LayoutModel",
      "_view_count": null,
      "_view_module": "@jupyter-widgets/base",
      "_view_module_version": "1.2.0",
      "_view_name": "LayoutView",
      "align_content": null,
      "align_items": null,
      "align_self": null,
      "border": null,
      "bottom": null,
      "display": null,
      "flex": null,
      "flex_flow": null,
      "grid_area": null,
      "grid_auto_columns": null,
      "grid_auto_flow": null,
      "grid_auto_rows": null,
      "grid_column": null,
      "grid_gap": null,
      "grid_row": null,
      "grid_template_areas": null,
      "grid_template_columns": null,
      "grid_template_rows": null,
      "height": null,
      "justify_content": null,
      "justify_items": null,
      "left": null,
      "margin": null,
      "max_height": null,
      "max_width": null,
      "min_height": null,
      "min_width": null,
      "object_fit": null,
      "object_position": null,
      "order": null,
      "overflow": null,
      "overflow_x": null,
      "overflow_y": null,
      "padding": null,
      "right": null,
      "top": null,
      "visibility": null,
      "width": null
     }
    },
    "0adaa73511c74363a73733811c211a4f": {
     "model_module": "@jupyter-widgets/controls",
     "model_module_version": "1.5.0",
     "model_name": "FloatProgressModel",
     "state": {
      "_dom_classes": [],
      "_model_module": "@jupyter-widgets/controls",
      "_model_module_version": "1.5.0",
      "_model_name": "FloatProgressModel",
      "_view_count": null,
      "_view_module": "@jupyter-widgets/controls",
      "_view_module_version": "1.5.0",
      "_view_name": "ProgressView",
      "bar_style": "success",
      "description": "",
      "description_tooltip": null,
      "layout": "IPY_MODEL_a2de76f6cd3b4cd499a08b4051712c67",
      "max": 256,
      "min": 0,
      "orientation": "horizontal",
      "style": "IPY_MODEL_63467387aa9840b98a01db643449c589",
      "value": 256
     }
    },
    "0c231a3c6d814bcc9512b29cde7ca94e": {
     "model_module": "@jupyter-widgets/controls",
     "model_module_version": "1.5.0",
     "model_name": "HBoxModel",
     "state": {
      "_dom_classes": [],
      "_model_module": "@jupyter-widgets/controls",
      "_model_module_version": "1.5.0",
      "_model_name": "HBoxModel",
      "_view_count": null,
      "_view_module": "@jupyter-widgets/controls",
      "_view_module_version": "1.5.0",
      "_view_name": "HBoxView",
      "box_style": "",
      "children": [
       "IPY_MODEL_26c5df856e5441bb881f4085c3f93981",
       "IPY_MODEL_7519f75ac4c841d38186fe2c555f829c",
       "IPY_MODEL_2c25cadf2abd4a67aec6ad5330ad2ca0"
      ],
      "layout": "IPY_MODEL_b7a294ab7e224be3b9f646fce65de565"
     }
    },
    "0c8593a7530841fb990d97fbb5e92332": {
     "model_module": "@jupyter-widgets/base",
     "model_module_version": "1.2.0",
     "model_name": "LayoutModel",
     "state": {
      "_model_module": "@jupyter-widgets/base",
      "_model_module_version": "1.2.0",
      "_model_name": "LayoutModel",
      "_view_count": null,
      "_view_module": "@jupyter-widgets/base",
      "_view_module_version": "1.2.0",
      "_view_name": "LayoutView",
      "align_content": null,
      "align_items": null,
      "align_self": null,
      "border": null,
      "bottom": null,
      "display": null,
      "flex": null,
      "flex_flow": null,
      "grid_area": null,
      "grid_auto_columns": null,
      "grid_auto_flow": null,
      "grid_auto_rows": null,
      "grid_column": null,
      "grid_gap": null,
      "grid_row": null,
      "grid_template_areas": null,
      "grid_template_columns": null,
      "grid_template_rows": null,
      "height": null,
      "justify_content": null,
      "justify_items": null,
      "left": null,
      "margin": null,
      "max_height": null,
      "max_width": null,
      "min_height": null,
      "min_width": null,
      "object_fit": null,
      "object_position": null,
      "order": null,
      "overflow": null,
      "overflow_x": null,
      "overflow_y": null,
      "padding": null,
      "right": null,
      "top": null,
      "visibility": null,
      "width": null
     }
    },
    "0eb3294f127d4374a37955ba443a7f96": {
     "model_module": "@jupyter-widgets/base",
     "model_module_version": "1.2.0",
     "model_name": "LayoutModel",
     "state": {
      "_model_module": "@jupyter-widgets/base",
      "_model_module_version": "1.2.0",
      "_model_name": "LayoutModel",
      "_view_count": null,
      "_view_module": "@jupyter-widgets/base",
      "_view_module_version": "1.2.0",
      "_view_name": "LayoutView",
      "align_content": null,
      "align_items": null,
      "align_self": null,
      "border": null,
      "bottom": null,
      "display": null,
      "flex": null,
      "flex_flow": null,
      "grid_area": null,
      "grid_auto_columns": null,
      "grid_auto_flow": null,
      "grid_auto_rows": null,
      "grid_column": null,
      "grid_gap": null,
      "grid_row": null,
      "grid_template_areas": null,
      "grid_template_columns": null,
      "grid_template_rows": null,
      "height": null,
      "justify_content": null,
      "justify_items": null,
      "left": null,
      "margin": null,
      "max_height": null,
      "max_width": null,
      "min_height": null,
      "min_width": null,
      "object_fit": null,
      "object_position": null,
      "order": null,
      "overflow": null,
      "overflow_x": null,
      "overflow_y": null,
      "padding": null,
      "right": null,
      "top": null,
      "visibility": null,
      "width": null
     }
    },
    "0ef855cacadd43d99de02789c27984d3": {
     "model_module": "@jupyter-widgets/controls",
     "model_module_version": "1.5.0",
     "model_name": "HTMLModel",
     "state": {
      "_dom_classes": [],
      "_model_module": "@jupyter-widgets/controls",
      "_model_module_version": "1.5.0",
      "_model_name": "HTMLModel",
      "_view_count": null,
      "_view_module": "@jupyter-widgets/controls",
      "_view_module_version": "1.5.0",
      "_view_name": "HTMLView",
      "description": "",
      "description_tooltip": null,
      "layout": "IPY_MODEL_e7a5218ca2ee48899fc991221e225807",
      "placeholder": "​",
      "style": "IPY_MODEL_a0b01ff9d9594480a50d387c490f924c",
      "value": "tokenizer_config.json: 100%"
     }
    },
    "0f1140199f6049a0a11fc42ebbff8056": {
     "model_module": "@jupyter-widgets/controls",
     "model_module_version": "1.5.0",
     "model_name": "DescriptionStyleModel",
     "state": {
      "_model_module": "@jupyter-widgets/controls",
      "_model_module_version": "1.5.0",
      "_model_name": "DescriptionStyleModel",
      "_view_count": null,
      "_view_module": "@jupyter-widgets/base",
      "_view_module_version": "1.2.0",
      "_view_name": "StyleView",
      "description_width": ""
     }
    },
    "0f3f545cca6943e9a23d099edd8d18d2": {
     "model_module": "@jupyter-widgets/controls",
     "model_module_version": "1.5.0",
     "model_name": "HBoxModel",
     "state": {
      "_dom_classes": [],
      "_model_module": "@jupyter-widgets/controls",
      "_model_module_version": "1.5.0",
      "_model_name": "HBoxModel",
      "_view_count": null,
      "_view_module": "@jupyter-widgets/controls",
      "_view_module_version": "1.5.0",
      "_view_name": "HBoxView",
      "box_style": "",
      "children": [
       "IPY_MODEL_a75325b318f2421eac20039b24f38eca",
       "IPY_MODEL_8921132b93914b828b166a67464d4a76",
       "IPY_MODEL_8556ddffecbc4fb2ab907c1f101cca92"
      ],
      "layout": "IPY_MODEL_8fb2e73d875a4e71a82b7e0e8e5a6733"
     }
    },
    "0f98b078e44d4cee85380609e58f8631": {
     "model_module": "@jupyter-widgets/base",
     "model_module_version": "1.2.0",
     "model_name": "LayoutModel",
     "state": {
      "_model_module": "@jupyter-widgets/base",
      "_model_module_version": "1.2.0",
      "_model_name": "LayoutModel",
      "_view_count": null,
      "_view_module": "@jupyter-widgets/base",
      "_view_module_version": "1.2.0",
      "_view_name": "LayoutView",
      "align_content": null,
      "align_items": null,
      "align_self": null,
      "border": null,
      "bottom": null,
      "display": null,
      "flex": null,
      "flex_flow": null,
      "grid_area": null,
      "grid_auto_columns": null,
      "grid_auto_flow": null,
      "grid_auto_rows": null,
      "grid_column": null,
      "grid_gap": null,
      "grid_row": null,
      "grid_template_areas": null,
      "grid_template_columns": null,
      "grid_template_rows": null,
      "height": null,
      "justify_content": null,
      "justify_items": null,
      "left": null,
      "margin": null,
      "max_height": null,
      "max_width": null,
      "min_height": null,
      "min_width": null,
      "object_fit": null,
      "object_position": null,
      "order": null,
      "overflow": null,
      "overflow_x": null,
      "overflow_y": null,
      "padding": null,
      "right": null,
      "top": null,
      "visibility": null,
      "width": null
     }
    },
    "102b18b8c1174778b89ac2534f1ecd9d": {
     "model_module": "@jupyter-widgets/controls",
     "model_module_version": "1.5.0",
     "model_name": "DescriptionStyleModel",
     "state": {
      "_model_module": "@jupyter-widgets/controls",
      "_model_module_version": "1.5.0",
      "_model_name": "DescriptionStyleModel",
      "_view_count": null,
      "_view_module": "@jupyter-widgets/base",
      "_view_module_version": "1.2.0",
      "_view_name": "StyleView",
      "description_width": ""
     }
    },
    "109d1c22ad6243b4a22d9fd9f4f2a5e7": {
     "model_module": "@jupyter-widgets/controls",
     "model_module_version": "1.5.0",
     "model_name": "DescriptionStyleModel",
     "state": {
      "_model_module": "@jupyter-widgets/controls",
      "_model_module_version": "1.5.0",
      "_model_name": "DescriptionStyleModel",
      "_view_count": null,
      "_view_module": "@jupyter-widgets/base",
      "_view_module_version": "1.2.0",
      "_view_name": "StyleView",
      "description_width": ""
     }
    },
    "11048739e8634fb4a39ebf2f5aa7b12f": {
     "model_module": "@jupyter-widgets/base",
     "model_module_version": "1.2.0",
     "model_name": "LayoutModel",
     "state": {
      "_model_module": "@jupyter-widgets/base",
      "_model_module_version": "1.2.0",
      "_model_name": "LayoutModel",
      "_view_count": null,
      "_view_module": "@jupyter-widgets/base",
      "_view_module_version": "1.2.0",
      "_view_name": "LayoutView",
      "align_content": null,
      "align_items": null,
      "align_self": null,
      "border": null,
      "bottom": null,
      "display": null,
      "flex": null,
      "flex_flow": null,
      "grid_area": null,
      "grid_auto_columns": null,
      "grid_auto_flow": null,
      "grid_auto_rows": null,
      "grid_column": null,
      "grid_gap": null,
      "grid_row": null,
      "grid_template_areas": null,
      "grid_template_columns": null,
      "grid_template_rows": null,
      "height": null,
      "justify_content": null,
      "justify_items": null,
      "left": null,
      "margin": null,
      "max_height": null,
      "max_width": null,
      "min_height": null,
      "min_width": null,
      "object_fit": null,
      "object_position": null,
      "order": null,
      "overflow": null,
      "overflow_x": null,
      "overflow_y": null,
      "padding": null,
      "right": null,
      "top": null,
      "visibility": null,
      "width": null
     }
    },
    "12938c1d10844468ad836563ae74c916": {
     "model_module": "@jupyter-widgets/base",
     "model_module_version": "1.2.0",
     "model_name": "LayoutModel",
     "state": {
      "_model_module": "@jupyter-widgets/base",
      "_model_module_version": "1.2.0",
      "_model_name": "LayoutModel",
      "_view_count": null,
      "_view_module": "@jupyter-widgets/base",
      "_view_module_version": "1.2.0",
      "_view_name": "LayoutView",
      "align_content": null,
      "align_items": null,
      "align_self": null,
      "border": null,
      "bottom": null,
      "display": null,
      "flex": null,
      "flex_flow": null,
      "grid_area": null,
      "grid_auto_columns": null,
      "grid_auto_flow": null,
      "grid_auto_rows": null,
      "grid_column": null,
      "grid_gap": null,
      "grid_row": null,
      "grid_template_areas": null,
      "grid_template_columns": null,
      "grid_template_rows": null,
      "height": null,
      "justify_content": null,
      "justify_items": null,
      "left": null,
      "margin": null,
      "max_height": null,
      "max_width": null,
      "min_height": null,
      "min_width": null,
      "object_fit": null,
      "object_position": null,
      "order": null,
      "overflow": null,
      "overflow_x": null,
      "overflow_y": null,
      "padding": null,
      "right": null,
      "top": null,
      "visibility": null,
      "width": null
     }
    },
    "142ce17fee694268ab980187edd5c686": {
     "model_module": "@jupyter-widgets/base",
     "model_module_version": "1.2.0",
     "model_name": "LayoutModel",
     "state": {
      "_model_module": "@jupyter-widgets/base",
      "_model_module_version": "1.2.0",
      "_model_name": "LayoutModel",
      "_view_count": null,
      "_view_module": "@jupyter-widgets/base",
      "_view_module_version": "1.2.0",
      "_view_name": "LayoutView",
      "align_content": null,
      "align_items": null,
      "align_self": null,
      "border": null,
      "bottom": null,
      "display": null,
      "flex": null,
      "flex_flow": null,
      "grid_area": null,
      "grid_auto_columns": null,
      "grid_auto_flow": null,
      "grid_auto_rows": null,
      "grid_column": null,
      "grid_gap": null,
      "grid_row": null,
      "grid_template_areas": null,
      "grid_template_columns": null,
      "grid_template_rows": null,
      "height": null,
      "justify_content": null,
      "justify_items": null,
      "left": null,
      "margin": null,
      "max_height": null,
      "max_width": null,
      "min_height": null,
      "min_width": null,
      "object_fit": null,
      "object_position": null,
      "order": null,
      "overflow": null,
      "overflow_x": null,
      "overflow_y": null,
      "padding": null,
      "right": null,
      "top": null,
      "visibility": null,
      "width": null
     }
    },
    "17f5f35fb54843088cef376e822e75c7": {
     "model_module": "@jupyter-widgets/controls",
     "model_module_version": "1.5.0",
     "model_name": "HTMLModel",
     "state": {
      "_dom_classes": [],
      "_model_module": "@jupyter-widgets/controls",
      "_model_module_version": "1.5.0",
      "_model_name": "HTMLModel",
      "_view_count": null,
      "_view_module": "@jupyter-widgets/controls",
      "_view_module_version": "1.5.0",
      "_view_name": "HTMLView",
      "description": "",
      "description_tooltip": null,
      "layout": "IPY_MODEL_f72078c423b84ff9a6ef526851e6b329",
      "placeholder": "​",
      "style": "IPY_MODEL_20db7af81ff040ccb78cd37fd0374572",
      "value": "pytorch_model.bin: 100%"
     }
    },
    "18284efdbd7848a8b420dc7e16b78d76": {
     "model_module": "@jupyter-widgets/controls",
     "model_module_version": "1.5.0",
     "model_name": "DescriptionStyleModel",
     "state": {
      "_model_module": "@jupyter-widgets/controls",
      "_model_module_version": "1.5.0",
      "_model_name": "DescriptionStyleModel",
      "_view_count": null,
      "_view_module": "@jupyter-widgets/base",
      "_view_module_version": "1.2.0",
      "_view_name": "StyleView",
      "description_width": ""
     }
    },
    "19c1a067d2924db4afa49a07aa05dd7a": {
     "model_module": "@jupyter-widgets/controls",
     "model_module_version": "1.5.0",
     "model_name": "DescriptionStyleModel",
     "state": {
      "_model_module": "@jupyter-widgets/controls",
      "_model_module_version": "1.5.0",
      "_model_name": "DescriptionStyleModel",
      "_view_count": null,
      "_view_module": "@jupyter-widgets/base",
      "_view_module_version": "1.2.0",
      "_view_name": "StyleView",
      "description_width": ""
     }
    },
    "1c4ec9086114481484860a02414186e9": {
     "model_module": "@jupyter-widgets/base",
     "model_module_version": "1.2.0",
     "model_name": "LayoutModel",
     "state": {
      "_model_module": "@jupyter-widgets/base",
      "_model_module_version": "1.2.0",
      "_model_name": "LayoutModel",
      "_view_count": null,
      "_view_module": "@jupyter-widgets/base",
      "_view_module_version": "1.2.0",
      "_view_name": "LayoutView",
      "align_content": null,
      "align_items": null,
      "align_self": null,
      "border": null,
      "bottom": null,
      "display": null,
      "flex": null,
      "flex_flow": null,
      "grid_area": null,
      "grid_auto_columns": null,
      "grid_auto_flow": null,
      "grid_auto_rows": null,
      "grid_column": null,
      "grid_gap": null,
      "grid_row": null,
      "grid_template_areas": null,
      "grid_template_columns": null,
      "grid_template_rows": null,
      "height": null,
      "justify_content": null,
      "justify_items": null,
      "left": null,
      "margin": null,
      "max_height": null,
      "max_width": null,
      "min_height": null,
      "min_width": null,
      "object_fit": null,
      "object_position": null,
      "order": null,
      "overflow": null,
      "overflow_x": null,
      "overflow_y": null,
      "padding": null,
      "right": null,
      "top": null,
      "visibility": null,
      "width": null
     }
    },
    "1c5d4e1eccfc43bd85dc091d2bf234f3": {
     "model_module": "@jupyter-widgets/base",
     "model_module_version": "1.2.0",
     "model_name": "LayoutModel",
     "state": {
      "_model_module": "@jupyter-widgets/base",
      "_model_module_version": "1.2.0",
      "_model_name": "LayoutModel",
      "_view_count": null,
      "_view_module": "@jupyter-widgets/base",
      "_view_module_version": "1.2.0",
      "_view_name": "LayoutView",
      "align_content": null,
      "align_items": null,
      "align_self": null,
      "border": null,
      "bottom": null,
      "display": null,
      "flex": null,
      "flex_flow": null,
      "grid_area": null,
      "grid_auto_columns": null,
      "grid_auto_flow": null,
      "grid_auto_rows": null,
      "grid_column": null,
      "grid_gap": null,
      "grid_row": null,
      "grid_template_areas": null,
      "grid_template_columns": null,
      "grid_template_rows": null,
      "height": null,
      "justify_content": null,
      "justify_items": null,
      "left": null,
      "margin": null,
      "max_height": null,
      "max_width": null,
      "min_height": null,
      "min_width": null,
      "object_fit": null,
      "object_position": null,
      "order": null,
      "overflow": null,
      "overflow_x": null,
      "overflow_y": null,
      "padding": null,
      "right": null,
      "top": null,
      "visibility": null,
      "width": null
     }
    },
    "1c698a3bfb234fa5880332036cde89df": {
     "model_module": "@jupyter-widgets/controls",
     "model_module_version": "1.5.0",
     "model_name": "FloatProgressModel",
     "state": {
      "_dom_classes": [],
      "_model_module": "@jupyter-widgets/controls",
      "_model_module_version": "1.5.0",
      "_model_name": "FloatProgressModel",
      "_view_count": null,
      "_view_module": "@jupyter-widgets/controls",
      "_view_module_version": "1.5.0",
      "_view_name": "ProgressView",
      "bar_style": "success",
      "description": "",
      "description_tooltip": null,
      "layout": "IPY_MODEL_ebed0cbd20f34c0cb9748250c4447505",
      "max": 231508,
      "min": 0,
      "orientation": "horizontal",
      "style": "IPY_MODEL_6f32e31fe01045f2ae823118677b6542",
      "value": 231508
     }
    },
    "1c79d1a188b94fd7a1c0ff3b94fedd1f": {
     "model_module": "@jupyter-widgets/controls",
     "model_module_version": "1.5.0",
     "model_name": "DescriptionStyleModel",
     "state": {
      "_model_module": "@jupyter-widgets/controls",
      "_model_module_version": "1.5.0",
      "_model_name": "DescriptionStyleModel",
      "_view_count": null,
      "_view_module": "@jupyter-widgets/base",
      "_view_module_version": "1.2.0",
      "_view_name": "StyleView",
      "description_width": ""
     }
    },
    "1e90731472f443a8be006d56fb54deea": {
     "model_module": "@jupyter-widgets/controls",
     "model_module_version": "1.5.0",
     "model_name": "ProgressStyleModel",
     "state": {
      "_model_module": "@jupyter-widgets/controls",
      "_model_module_version": "1.5.0",
      "_model_name": "ProgressStyleModel",
      "_view_count": null,
      "_view_module": "@jupyter-widgets/base",
      "_view_module_version": "1.2.0",
      "_view_name": "StyleView",
      "bar_color": null,
      "description_width": ""
     }
    },
    "1ee8413996a64914a9a7c4c119df2cb6": {
     "model_module": "@jupyter-widgets/controls",
     "model_module_version": "1.5.0",
     "model_name": "HBoxModel",
     "state": {
      "_dom_classes": [],
      "_model_module": "@jupyter-widgets/controls",
      "_model_module_version": "1.5.0",
      "_model_name": "HBoxModel",
      "_view_count": null,
      "_view_module": "@jupyter-widgets/controls",
      "_view_module_version": "1.5.0",
      "_view_name": "HBoxView",
      "box_style": "",
      "children": [
       "IPY_MODEL_f43c6c64f63a4984b38e71bbdac72cb2",
       "IPY_MODEL_33b94011d69241d18e4c14d138c35636",
       "IPY_MODEL_d3389101e64a4c68b2033355d0c8450b"
      ],
      "layout": "IPY_MODEL_2ac5e3e4201144fdabcfaea58dc0ee59"
     }
    },
    "20bf368c0c154d2ba16d70367d71680f": {
     "model_module": "@jupyter-widgets/base",
     "model_module_version": "1.2.0",
     "model_name": "LayoutModel",
     "state": {
      "_model_module": "@jupyter-widgets/base",
      "_model_module_version": "1.2.0",
      "_model_name": "LayoutModel",
      "_view_count": null,
      "_view_module": "@jupyter-widgets/base",
      "_view_module_version": "1.2.0",
      "_view_name": "LayoutView",
      "align_content": null,
      "align_items": null,
      "align_self": null,
      "border": null,
      "bottom": null,
      "display": null,
      "flex": null,
      "flex_flow": null,
      "grid_area": null,
      "grid_auto_columns": null,
      "grid_auto_flow": null,
      "grid_auto_rows": null,
      "grid_column": null,
      "grid_gap": null,
      "grid_row": null,
      "grid_template_areas": null,
      "grid_template_columns": null,
      "grid_template_rows": null,
      "height": null,
      "justify_content": null,
      "justify_items": null,
      "left": null,
      "margin": null,
      "max_height": null,
      "max_width": null,
      "min_height": null,
      "min_width": null,
      "object_fit": null,
      "object_position": null,
      "order": null,
      "overflow": null,
      "overflow_x": null,
      "overflow_y": null,
      "padding": null,
      "right": null,
      "top": null,
      "visibility": null,
      "width": null
     }
    },
    "20db7af81ff040ccb78cd37fd0374572": {
     "model_module": "@jupyter-widgets/controls",
     "model_module_version": "1.5.0",
     "model_name": "DescriptionStyleModel",
     "state": {
      "_model_module": "@jupyter-widgets/controls",
      "_model_module_version": "1.5.0",
      "_model_name": "DescriptionStyleModel",
      "_view_count": null,
      "_view_module": "@jupyter-widgets/base",
      "_view_module_version": "1.2.0",
      "_view_name": "StyleView",
      "description_width": ""
     }
    },
    "2106137fde3d468da962009ecae3364b": {
     "model_module": "@jupyter-widgets/controls",
     "model_module_version": "1.5.0",
     "model_name": "HTMLModel",
     "state": {
      "_dom_classes": [],
      "_model_module": "@jupyter-widgets/controls",
      "_model_module_version": "1.5.0",
      "_model_name": "HTMLModel",
      "_view_count": null,
      "_view_module": "@jupyter-widgets/controls",
      "_view_module_version": "1.5.0",
      "_view_name": "HTMLView",
      "description": "",
      "description_tooltip": null,
      "layout": "IPY_MODEL_36cb1c1dad494f1488b2d88e23b5824a",
      "placeholder": "​",
      "style": "IPY_MODEL_8202ad771b92415cb57abdc5159caee9",
      "value": " 84.1M/84.1M [00:10&lt;00:00, 8.72MB/s]"
     }
    },
    "220cda60fc0d4a3f838a5ebda3fbdd63": {
     "model_module": "@jupyter-widgets/controls",
     "model_module_version": "1.5.0",
     "model_name": "HTMLModel",
     "state": {
      "_dom_classes": [],
      "_model_module": "@jupyter-widgets/controls",
      "_model_module_version": "1.5.0",
      "_model_name": "HTMLModel",
      "_view_count": null,
      "_view_module": "@jupyter-widgets/controls",
      "_view_module_version": "1.5.0",
      "_view_name": "HTMLView",
      "description": "",
      "description_tooltip": null,
      "layout": "IPY_MODEL_c2b368ae063845a3b2b582f693f2d814",
      "placeholder": "​",
      "style": "IPY_MODEL_e3e4f284bde9498190c83eb69da18f89",
      "value": "Map: 100%"
     }
    },
    "225eecce28e24905b358445ab42a3977": {
     "model_module": "@jupyter-widgets/base",
     "model_module_version": "1.2.0",
     "model_name": "LayoutModel",
     "state": {
      "_model_module": "@jupyter-widgets/base",
      "_model_module_version": "1.2.0",
      "_model_name": "LayoutModel",
      "_view_count": null,
      "_view_module": "@jupyter-widgets/base",
      "_view_module_version": "1.2.0",
      "_view_name": "LayoutView",
      "align_content": null,
      "align_items": null,
      "align_self": null,
      "border": null,
      "bottom": null,
      "display": null,
      "flex": null,
      "flex_flow": null,
      "grid_area": null,
      "grid_auto_columns": null,
      "grid_auto_flow": null,
      "grid_auto_rows": null,
      "grid_column": null,
      "grid_gap": null,
      "grid_row": null,
      "grid_template_areas": null,
      "grid_template_columns": null,
      "grid_template_rows": null,
      "height": null,
      "justify_content": null,
      "justify_items": null,
      "left": null,
      "margin": null,
      "max_height": null,
      "max_width": null,
      "min_height": null,
      "min_width": null,
      "object_fit": null,
      "object_position": null,
      "order": null,
      "overflow": null,
      "overflow_x": null,
      "overflow_y": null,
      "padding": null,
      "right": null,
      "top": null,
      "visibility": null,
      "width": null
     }
    },
    "22ad7aa0993342c9be66b471b9a8dc9a": {
     "model_module": "@jupyter-widgets/base",
     "model_module_version": "1.2.0",
     "model_name": "LayoutModel",
     "state": {
      "_model_module": "@jupyter-widgets/base",
      "_model_module_version": "1.2.0",
      "_model_name": "LayoutModel",
      "_view_count": null,
      "_view_module": "@jupyter-widgets/base",
      "_view_module_version": "1.2.0",
      "_view_name": "LayoutView",
      "align_content": null,
      "align_items": null,
      "align_self": null,
      "border": null,
      "bottom": null,
      "display": null,
      "flex": null,
      "flex_flow": null,
      "grid_area": null,
      "grid_auto_columns": null,
      "grid_auto_flow": null,
      "grid_auto_rows": null,
      "grid_column": null,
      "grid_gap": null,
      "grid_row": null,
      "grid_template_areas": null,
      "grid_template_columns": null,
      "grid_template_rows": null,
      "height": null,
      "justify_content": null,
      "justify_items": null,
      "left": null,
      "margin": null,
      "max_height": null,
      "max_width": null,
      "min_height": null,
      "min_width": null,
      "object_fit": null,
      "object_position": null,
      "order": null,
      "overflow": null,
      "overflow_x": null,
      "overflow_y": null,
      "padding": null,
      "right": null,
      "top": null,
      "visibility": null,
      "width": null
     }
    },
    "23c104bed0ad4bf98d4ee899f002eb10": {
     "model_module": "@jupyter-widgets/base",
     "model_module_version": "1.2.0",
     "model_name": "LayoutModel",
     "state": {
      "_model_module": "@jupyter-widgets/base",
      "_model_module_version": "1.2.0",
      "_model_name": "LayoutModel",
      "_view_count": null,
      "_view_module": "@jupyter-widgets/base",
      "_view_module_version": "1.2.0",
      "_view_name": "LayoutView",
      "align_content": null,
      "align_items": null,
      "align_self": null,
      "border": null,
      "bottom": null,
      "display": null,
      "flex": null,
      "flex_flow": null,
      "grid_area": null,
      "grid_auto_columns": null,
      "grid_auto_flow": null,
      "grid_auto_rows": null,
      "grid_column": null,
      "grid_gap": null,
      "grid_row": null,
      "grid_template_areas": null,
      "grid_template_columns": null,
      "grid_template_rows": null,
      "height": null,
      "justify_content": null,
      "justify_items": null,
      "left": null,
      "margin": null,
      "max_height": null,
      "max_width": null,
      "min_height": null,
      "min_width": null,
      "object_fit": null,
      "object_position": null,
      "order": null,
      "overflow": null,
      "overflow_x": null,
      "overflow_y": null,
      "padding": null,
      "right": null,
      "top": null,
      "visibility": null,
      "width": null
     }
    },
    "26c5df856e5441bb881f4085c3f93981": {
     "model_module": "@jupyter-widgets/controls",
     "model_module_version": "1.5.0",
     "model_name": "HTMLModel",
     "state": {
      "_dom_classes": [],
      "_model_module": "@jupyter-widgets/controls",
      "_model_module_version": "1.5.0",
      "_model_name": "HTMLModel",
      "_view_count": null,
      "_view_module": "@jupyter-widgets/controls",
      "_view_module_version": "1.5.0",
      "_view_name": "HTMLView",
      "description": "",
      "description_tooltip": null,
      "layout": "IPY_MODEL_8ae923ecd0b740a79c427f8d2214c872",
      "placeholder": "​",
      "style": "IPY_MODEL_7189b6a3f1704ae7ba1e32529a44b4a5",
      "value": "tokenizer_config.json: 100%"
     }
    },
    "28fb4346ed99480d8bcb707e55b82d72": {
     "model_module": "@jupyter-widgets/controls",
     "model_module_version": "1.5.0",
     "model_name": "DescriptionStyleModel",
     "state": {
      "_model_module": "@jupyter-widgets/controls",
      "_model_module_version": "1.5.0",
      "_model_name": "DescriptionStyleModel",
      "_view_count": null,
      "_view_module": "@jupyter-widgets/base",
      "_view_module_version": "1.2.0",
      "_view_name": "StyleView",
      "description_width": ""
     }
    },
    "2ac5e3e4201144fdabcfaea58dc0ee59": {
     "model_module": "@jupyter-widgets/base",
     "model_module_version": "1.2.0",
     "model_name": "LayoutModel",
     "state": {
      "_model_module": "@jupyter-widgets/base",
      "_model_module_version": "1.2.0",
      "_model_name": "LayoutModel",
      "_view_count": null,
      "_view_module": "@jupyter-widgets/base",
      "_view_module_version": "1.2.0",
      "_view_name": "LayoutView",
      "align_content": null,
      "align_items": null,
      "align_self": null,
      "border": null,
      "bottom": null,
      "display": null,
      "flex": null,
      "flex_flow": null,
      "grid_area": null,
      "grid_auto_columns": null,
      "grid_auto_flow": null,
      "grid_auto_rows": null,
      "grid_column": null,
      "grid_gap": null,
      "grid_row": null,
      "grid_template_areas": null,
      "grid_template_columns": null,
      "grid_template_rows": null,
      "height": null,
      "justify_content": null,
      "justify_items": null,
      "left": null,
      "margin": null,
      "max_height": null,
      "max_width": null,
      "min_height": null,
      "min_width": null,
      "object_fit": null,
      "object_position": null,
      "order": null,
      "overflow": null,
      "overflow_x": null,
      "overflow_y": null,
      "padding": null,
      "right": null,
      "top": null,
      "visibility": null,
      "width": null
     }
    },
    "2ae1039ce0f94332947a9a635042e636": {
     "model_module": "@jupyter-widgets/controls",
     "model_module_version": "1.5.0",
     "model_name": "HTMLModel",
     "state": {
      "_dom_classes": [],
      "_model_module": "@jupyter-widgets/controls",
      "_model_module_version": "1.5.0",
      "_model_name": "HTMLModel",
      "_view_count": null,
      "_view_module": "@jupyter-widgets/controls",
      "_view_module_version": "1.5.0",
      "_view_name": "HTMLView",
      "description": "",
      "description_tooltip": null,
      "layout": "IPY_MODEL_ad6ad5859f604d368ed61f4a137e888b",
      "placeholder": "​",
      "style": "IPY_MODEL_56255322344749f79484a28d7cb36bc4",
      "value": " 1.42G/1.42G [00:12&lt;00:00, 133MB/s]"
     }
    },
    "2c169129dd594ac0b5d2c6ee83e7799a": {
     "model_module": "@jupyter-widgets/controls",
     "model_module_version": "1.5.0",
     "model_name": "HTMLModel",
     "state": {
      "_dom_classes": [],
      "_model_module": "@jupyter-widgets/controls",
      "_model_module_version": "1.5.0",
      "_model_name": "HTMLModel",
      "_view_count": null,
      "_view_module": "@jupyter-widgets/controls",
      "_view_module_version": "1.5.0",
      "_view_name": "HTMLView",
      "description": "",
      "description_tooltip": null,
      "layout": "IPY_MODEL_3d4cd9b87cf346f2845baa2b8a02a123",
      "placeholder": "​",
      "style": "IPY_MODEL_9484543c6d9945db912b85457d470a3a",
      "value": " 2000/2000 [00:13&lt;00:00, 159.54 examples/s]"
     }
    },
    "2c25cadf2abd4a67aec6ad5330ad2ca0": {
     "model_module": "@jupyter-widgets/controls",
     "model_module_version": "1.5.0",
     "model_name": "HTMLModel",
     "state": {
      "_dom_classes": [],
      "_model_module": "@jupyter-widgets/controls",
      "_model_module_version": "1.5.0",
      "_model_name": "HTMLModel",
      "_view_count": null,
      "_view_module": "@jupyter-widgets/controls",
      "_view_module_version": "1.5.0",
      "_view_name": "HTMLView",
      "description": "",
      "description_tooltip": null,
      "layout": "IPY_MODEL_7636e2f2c3a84e3789229fdce6bdfdf5",
      "placeholder": "​",
      "style": "IPY_MODEL_0785f1d658914922920f21a0399d6dfd",
      "value": " 28.0/28.0 [00:00&lt;00:00, 2.06kB/s]"
     }
    },
    "2feafb95310a4eabab43d27af9df5b68": {
     "model_module": "@jupyter-widgets/controls",
     "model_module_version": "1.5.0",
     "model_name": "ProgressStyleModel",
     "state": {
      "_model_module": "@jupyter-widgets/controls",
      "_model_module_version": "1.5.0",
      "_model_name": "ProgressStyleModel",
      "_view_count": null,
      "_view_module": "@jupyter-widgets/base",
      "_view_module_version": "1.2.0",
      "_view_name": "StyleView",
      "bar_color": null,
      "description_width": ""
     }
    },
    "31afedb232cd4b3eb87e5f715b1f8193": {
     "model_module": "@jupyter-widgets/controls",
     "model_module_version": "1.5.0",
     "model_name": "HBoxModel",
     "state": {
      "_dom_classes": [],
      "_model_module": "@jupyter-widgets/controls",
      "_model_module_version": "1.5.0",
      "_model_name": "HBoxModel",
      "_view_count": null,
      "_view_module": "@jupyter-widgets/controls",
      "_view_module_version": "1.5.0",
      "_view_name": "HBoxView",
      "box_style": "",
      "children": [
       "IPY_MODEL_17f5f35fb54843088cef376e822e75c7",
       "IPY_MODEL_75ab693a0db5444fa2b0cec561859fc2",
       "IPY_MODEL_2ae1039ce0f94332947a9a635042e636"
      ],
      "layout": "IPY_MODEL_4286f27ab13646769ce086b0b8773e0d"
     }
    },
    "3309720d2c2640e7bd57379999e09dcd": {
     "model_module": "@jupyter-widgets/base",
     "model_module_version": "1.2.0",
     "model_name": "LayoutModel",
     "state": {
      "_model_module": "@jupyter-widgets/base",
      "_model_module_version": "1.2.0",
      "_model_name": "LayoutModel",
      "_view_count": null,
      "_view_module": "@jupyter-widgets/base",
      "_view_module_version": "1.2.0",
      "_view_name": "LayoutView",
      "align_content": null,
      "align_items": null,
      "align_self": null,
      "border": null,
      "bottom": null,
      "display": null,
      "flex": null,
      "flex_flow": null,
      "grid_area": null,
      "grid_auto_columns": null,
      "grid_auto_flow": null,
      "grid_auto_rows": null,
      "grid_column": null,
      "grid_gap": null,
      "grid_row": null,
      "grid_template_areas": null,
      "grid_template_columns": null,
      "grid_template_rows": null,
      "height": null,
      "justify_content": null,
      "justify_items": null,
      "left": null,
      "margin": null,
      "max_height": null,
      "max_width": null,
      "min_height": null,
      "min_width": null,
      "object_fit": null,
      "object_position": null,
      "order": null,
      "overflow": null,
      "overflow_x": null,
      "overflow_y": null,
      "padding": null,
      "right": null,
      "top": null,
      "visibility": null,
      "width": null
     }
    },
    "33b94011d69241d18e4c14d138c35636": {
     "model_module": "@jupyter-widgets/controls",
     "model_module_version": "1.5.0",
     "model_name": "FloatProgressModel",
     "state": {
      "_dom_classes": [],
      "_model_module": "@jupyter-widgets/controls",
      "_model_module_version": "1.5.0",
      "_model_name": "FloatProgressModel",
      "_view_count": null,
      "_view_module": "@jupyter-widgets/controls",
      "_view_module_version": "1.5.0",
      "_view_name": "ProgressView",
      "bar_style": "success",
      "description": "",
      "description_tooltip": null,
      "layout": "IPY_MODEL_553784dd764b4440a359e730708a8cd5",
      "max": 440449768,
      "min": 0,
      "orientation": "horizontal",
      "style": "IPY_MODEL_83f66fe4500846d79f88ea846a5898e7",
      "value": 440449768
     }
    },
    "35412e4fe65d4096b251fac159778a6d": {
     "model_module": "@jupyter-widgets/base",
     "model_module_version": "1.2.0",
     "model_name": "LayoutModel",
     "state": {
      "_model_module": "@jupyter-widgets/base",
      "_model_module_version": "1.2.0",
      "_model_name": "LayoutModel",
      "_view_count": null,
      "_view_module": "@jupyter-widgets/base",
      "_view_module_version": "1.2.0",
      "_view_name": "LayoutView",
      "align_content": null,
      "align_items": null,
      "align_self": null,
      "border": null,
      "bottom": null,
      "display": null,
      "flex": null,
      "flex_flow": null,
      "grid_area": null,
      "grid_auto_columns": null,
      "grid_auto_flow": null,
      "grid_auto_rows": null,
      "grid_column": null,
      "grid_gap": null,
      "grid_row": null,
      "grid_template_areas": null,
      "grid_template_columns": null,
      "grid_template_rows": null,
      "height": null,
      "justify_content": null,
      "justify_items": null,
      "left": null,
      "margin": null,
      "max_height": null,
      "max_width": null,
      "min_height": null,
      "min_width": null,
      "object_fit": null,
      "object_position": null,
      "order": null,
      "overflow": null,
      "overflow_x": null,
      "overflow_y": null,
      "padding": null,
      "right": null,
      "top": null,
      "visibility": null,
      "width": null
     }
    },
    "3544a54772c340ceb75741e7ca6959e3": {
     "model_module": "@jupyter-widgets/controls",
     "model_module_version": "1.5.0",
     "model_name": "HTMLModel",
     "state": {
      "_dom_classes": [],
      "_model_module": "@jupyter-widgets/controls",
      "_model_module_version": "1.5.0",
      "_model_name": "HTMLModel",
      "_view_count": null,
      "_view_module": "@jupyter-widgets/controls",
      "_view_module_version": "1.5.0",
      "_view_name": "HTMLView",
      "description": "",
      "description_tooltip": null,
      "layout": "IPY_MODEL_07e3302eb26043c184a5823b5aa469dc",
      "placeholder": "​",
      "style": "IPY_MODEL_109d1c22ad6243b4a22d9fd9f4f2a5e7",
      "value": "Downloading data: 100%"
     }
    },
    "361e12c21e7346b5b6d289a3da88352e": {
     "model_module": "@jupyter-widgets/base",
     "model_module_version": "1.2.0",
     "model_name": "LayoutModel",
     "state": {
      "_model_module": "@jupyter-widgets/base",
      "_model_module_version": "1.2.0",
      "_model_name": "LayoutModel",
      "_view_count": null,
      "_view_module": "@jupyter-widgets/base",
      "_view_module_version": "1.2.0",
      "_view_name": "LayoutView",
      "align_content": null,
      "align_items": null,
      "align_self": null,
      "border": null,
      "bottom": null,
      "display": null,
      "flex": null,
      "flex_flow": null,
      "grid_area": null,
      "grid_auto_columns": null,
      "grid_auto_flow": null,
      "grid_auto_rows": null,
      "grid_column": null,
      "grid_gap": null,
      "grid_row": null,
      "grid_template_areas": null,
      "grid_template_columns": null,
      "grid_template_rows": null,
      "height": null,
      "justify_content": null,
      "justify_items": null,
      "left": null,
      "margin": null,
      "max_height": null,
      "max_width": null,
      "min_height": null,
      "min_width": null,
      "object_fit": null,
      "object_position": null,
      "order": null,
      "overflow": null,
      "overflow_x": null,
      "overflow_y": null,
      "padding": null,
      "right": null,
      "top": null,
      "visibility": null,
      "width": null
     }
    },
    "36cb1c1dad494f1488b2d88e23b5824a": {
     "model_module": "@jupyter-widgets/base",
     "model_module_version": "1.2.0",
     "model_name": "LayoutModel",
     "state": {
      "_model_module": "@jupyter-widgets/base",
      "_model_module_version": "1.2.0",
      "_model_name": "LayoutModel",
      "_view_count": null,
      "_view_module": "@jupyter-widgets/base",
      "_view_module_version": "1.2.0",
      "_view_name": "LayoutView",
      "align_content": null,
      "align_items": null,
      "align_self": null,
      "border": null,
      "bottom": null,
      "display": null,
      "flex": null,
      "flex_flow": null,
      "grid_area": null,
      "grid_auto_columns": null,
      "grid_auto_flow": null,
      "grid_auto_rows": null,
      "grid_column": null,
      "grid_gap": null,
      "grid_row": null,
      "grid_template_areas": null,
      "grid_template_columns": null,
      "grid_template_rows": null,
      "height": null,
      "justify_content": null,
      "justify_items": null,
      "left": null,
      "margin": null,
      "max_height": null,
      "max_width": null,
      "min_height": null,
      "min_width": null,
      "object_fit": null,
      "object_position": null,
      "order": null,
      "overflow": null,
      "overflow_x": null,
      "overflow_y": null,
      "padding": null,
      "right": null,
      "top": null,
      "visibility": null,
      "width": null
     }
    },
    "3890682c1168404eaf4f8843bbda0c2c": {
     "model_module": "@jupyter-widgets/controls",
     "model_module_version": "1.5.0",
     "model_name": "FloatProgressModel",
     "state": {
      "_dom_classes": [],
      "_model_module": "@jupyter-widgets/controls",
      "_model_module_version": "1.5.0",
      "_model_name": "FloatProgressModel",
      "_view_count": null,
      "_view_module": "@jupyter-widgets/controls",
      "_view_module_version": "1.5.0",
      "_view_name": "ProgressView",
      "bar_style": "success",
      "description": "",
      "description_tooltip": null,
      "layout": "IPY_MODEL_ffcdddc17f7647ef8ddc6ebb4c8afcfe",
      "max": 50000,
      "min": 0,
      "orientation": "horizontal",
      "style": "IPY_MODEL_c6ffe6a4d449420788a2e2a16a7a5821",
      "value": 50000
     }
    },
    "3d2efb76e4b54ab995b6bb7dc6d3e103": {
     "model_module": "@jupyter-widgets/controls",
     "model_module_version": "1.5.0",
     "model_name": "DescriptionStyleModel",
     "state": {
      "_model_module": "@jupyter-widgets/controls",
      "_model_module_version": "1.5.0",
      "_model_name": "DescriptionStyleModel",
      "_view_count": null,
      "_view_module": "@jupyter-widgets/base",
      "_view_module_version": "1.2.0",
      "_view_name": "StyleView",
      "description_width": ""
     }
    },
    "3d4cd9b87cf346f2845baa2b8a02a123": {
     "model_module": "@jupyter-widgets/base",
     "model_module_version": "1.2.0",
     "model_name": "LayoutModel",
     "state": {
      "_model_module": "@jupyter-widgets/base",
      "_model_module_version": "1.2.0",
      "_model_name": "LayoutModel",
      "_view_count": null,
      "_view_module": "@jupyter-widgets/base",
      "_view_module_version": "1.2.0",
      "_view_name": "LayoutView",
      "align_content": null,
      "align_items": null,
      "align_self": null,
      "border": null,
      "bottom": null,
      "display": null,
      "flex": null,
      "flex_flow": null,
      "grid_area": null,
      "grid_auto_columns": null,
      "grid_auto_flow": null,
      "grid_auto_rows": null,
      "grid_column": null,
      "grid_gap": null,
      "grid_row": null,
      "grid_template_areas": null,
      "grid_template_columns": null,
      "grid_template_rows": null,
      "height": null,
      "justify_content": null,
      "justify_items": null,
      "left": null,
      "margin": null,
      "max_height": null,
      "max_width": null,
      "min_height": null,
      "min_width": null,
      "object_fit": null,
      "object_position": null,
      "order": null,
      "overflow": null,
      "overflow_x": null,
      "overflow_y": null,
      "padding": null,
      "right": null,
      "top": null,
      "visibility": null,
      "width": null
     }
    },
    "3dbaaa194a544af5a4ec6d92539aafec": {
     "model_module": "@jupyter-widgets/controls",
     "model_module_version": "1.5.0",
     "model_name": "FloatProgressModel",
     "state": {
      "_dom_classes": [],
      "_model_module": "@jupyter-widgets/controls",
      "_model_module_version": "1.5.0",
      "_model_name": "FloatProgressModel",
      "_view_count": null,
      "_view_module": "@jupyter-widgets/controls",
      "_view_module_version": "1.5.0",
      "_view_name": "ProgressView",
      "bar_style": "success",
      "description": "",
      "description_tooltip": null,
      "layout": "IPY_MODEL_000320bdec4c4fec9e8daae446402936",
      "max": 456356,
      "min": 0,
      "orientation": "horizontal",
      "style": "IPY_MODEL_60dcc26576dc417089f56fa5ddb48619",
      "value": 456356
     }
    },
    "3e2b80b2eea1498199e7de4186d2827b": {
     "model_module": "@jupyter-widgets/base",
     "model_module_version": "1.2.0",
     "model_name": "LayoutModel",
     "state": {
      "_model_module": "@jupyter-widgets/base",
      "_model_module_version": "1.2.0",
      "_model_name": "LayoutModel",
      "_view_count": null,
      "_view_module": "@jupyter-widgets/base",
      "_view_module_version": "1.2.0",
      "_view_name": "LayoutView",
      "align_content": null,
      "align_items": null,
      "align_self": null,
      "border": null,
      "bottom": null,
      "display": null,
      "flex": null,
      "flex_flow": null,
      "grid_area": null,
      "grid_auto_columns": null,
      "grid_auto_flow": null,
      "grid_auto_rows": null,
      "grid_column": null,
      "grid_gap": null,
      "grid_row": null,
      "grid_template_areas": null,
      "grid_template_columns": null,
      "grid_template_rows": null,
      "height": null,
      "justify_content": null,
      "justify_items": null,
      "left": null,
      "margin": null,
      "max_height": null,
      "max_width": null,
      "min_height": null,
      "min_width": null,
      "object_fit": null,
      "object_position": null,
      "order": null,
      "overflow": null,
      "overflow_x": null,
      "overflow_y": null,
      "padding": null,
      "right": null,
      "top": null,
      "visibility": null,
      "width": null
     }
    },
    "3e9932201053494a8cd939a5d2f4dea8": {
     "model_module": "@jupyter-widgets/controls",
     "model_module_version": "1.5.0",
     "model_name": "HTMLModel",
     "state": {
      "_dom_classes": [],
      "_model_module": "@jupyter-widgets/controls",
      "_model_module_version": "1.5.0",
      "_model_name": "HTMLModel",
      "_view_count": null,
      "_view_module": "@jupyter-widgets/controls",
      "_view_module_version": "1.5.0",
      "_view_name": "HTMLView",
      "description": "",
      "description_tooltip": null,
      "layout": "IPY_MODEL_e742b37772064d06ad950792ae338794",
      "placeholder": "​",
      "style": "IPY_MODEL_5bf3f641646e47abab9da165c899a37b",
      "value": " 25000/25000 [00:08&lt;00:00, 8733.09 examples/s]"
     }
    },
    "408d0d3c7ce04721904e474e40ebf1b3": {
     "model_module": "@jupyter-widgets/controls",
     "model_module_version": "1.5.0",
     "model_name": "HBoxModel",
     "state": {
      "_dom_classes": [],
      "_model_module": "@jupyter-widgets/controls",
      "_model_module_version": "1.5.0",
      "_model_name": "HBoxModel",
      "_view_count": null,
      "_view_module": "@jupyter-widgets/controls",
      "_view_module_version": "1.5.0",
      "_view_name": "HBoxView",
      "box_style": "",
      "children": [
       "IPY_MODEL_f3cf07458fc14b6c8e49c69369c9645a",
       "IPY_MODEL_ff69550d6a1e4efcb036f6814da7296c",
       "IPY_MODEL_94fba9fd5769423ab7f7e494334271e3"
      ],
      "layout": "IPY_MODEL_1c4ec9086114481484860a02414186e9"
     }
    },
    "4286f27ab13646769ce086b0b8773e0d": {
     "model_module": "@jupyter-widgets/base",
     "model_module_version": "1.2.0",
     "model_name": "LayoutModel",
     "state": {
      "_model_module": "@jupyter-widgets/base",
      "_model_module_version": "1.2.0",
      "_model_name": "LayoutModel",
      "_view_count": null,
      "_view_module": "@jupyter-widgets/base",
      "_view_module_version": "1.2.0",
      "_view_name": "LayoutView",
      "align_content": null,
      "align_items": null,
      "align_self": null,
      "border": null,
      "bottom": null,
      "display": null,
      "flex": null,
      "flex_flow": null,
      "grid_area": null,
      "grid_auto_columns": null,
      "grid_auto_flow": null,
      "grid_auto_rows": null,
      "grid_column": null,
      "grid_gap": null,
      "grid_row": null,
      "grid_template_areas": null,
      "grid_template_columns": null,
      "grid_template_rows": null,
      "height": null,
      "justify_content": null,
      "justify_items": null,
      "left": null,
      "margin": null,
      "max_height": null,
      "max_width": null,
      "min_height": null,
      "min_width": null,
      "object_fit": null,
      "object_position": null,
      "order": null,
      "overflow": null,
      "overflow_x": null,
      "overflow_y": null,
      "padding": null,
      "right": null,
      "top": null,
      "visibility": null,
      "width": null
     }
    },
    "43227ebe073d4e9e8b5c6ef433676371": {
     "model_module": "@jupyter-widgets/base",
     "model_module_version": "1.2.0",
     "model_name": "LayoutModel",
     "state": {
      "_model_module": "@jupyter-widgets/base",
      "_model_module_version": "1.2.0",
      "_model_name": "LayoutModel",
      "_view_count": null,
      "_view_module": "@jupyter-widgets/base",
      "_view_module_version": "1.2.0",
      "_view_name": "LayoutView",
      "align_content": null,
      "align_items": null,
      "align_self": null,
      "border": null,
      "bottom": null,
      "display": null,
      "flex": null,
      "flex_flow": null,
      "grid_area": null,
      "grid_auto_columns": null,
      "grid_auto_flow": null,
      "grid_auto_rows": null,
      "grid_column": null,
      "grid_gap": null,
      "grid_row": null,
      "grid_template_areas": null,
      "grid_template_columns": null,
      "grid_template_rows": null,
      "height": null,
      "justify_content": null,
      "justify_items": null,
      "left": null,
      "margin": null,
      "max_height": null,
      "max_width": null,
      "min_height": null,
      "min_width": null,
      "object_fit": null,
      "object_position": null,
      "order": null,
      "overflow": null,
      "overflow_x": null,
      "overflow_y": null,
      "padding": null,
      "right": null,
      "top": null,
      "visibility": null,
      "width": null
     }
    },
    "435d51f1b3a846fbaca61f2870a78093": {
     "model_module": "@jupyter-widgets/controls",
     "model_module_version": "1.5.0",
     "model_name": "HTMLModel",
     "state": {
      "_dom_classes": [],
      "_model_module": "@jupyter-widgets/controls",
      "_model_module_version": "1.5.0",
      "_model_name": "HTMLModel",
      "_view_count": null,
      "_view_module": "@jupyter-widgets/controls",
      "_view_module_version": "1.5.0",
      "_view_name": "HTMLView",
      "description": "",
      "description_tooltip": null,
      "layout": "IPY_MODEL_a4da2f64e2e84842ad18e20d77fdf45a",
      "placeholder": "​",
      "style": "IPY_MODEL_da8db023bcb44269a349e4dde96b156d",
      "value": " 150/150 [00:00&lt;00:00, 7.80kB/s]"
     }
    },
    "43a8d2bb6c304985b40affbc9882fafd": {
     "model_module": "@jupyter-widgets/base",
     "model_module_version": "1.2.0",
     "model_name": "LayoutModel",
     "state": {
      "_model_module": "@jupyter-widgets/base",
      "_model_module_version": "1.2.0",
      "_model_name": "LayoutModel",
      "_view_count": null,
      "_view_module": "@jupyter-widgets/base",
      "_view_module_version": "1.2.0",
      "_view_name": "LayoutView",
      "align_content": null,
      "align_items": null,
      "align_self": null,
      "border": null,
      "bottom": null,
      "display": null,
      "flex": null,
      "flex_flow": null,
      "grid_area": null,
      "grid_auto_columns": null,
      "grid_auto_flow": null,
      "grid_auto_rows": null,
      "grid_column": null,
      "grid_gap": null,
      "grid_row": null,
      "grid_template_areas": null,
      "grid_template_columns": null,
      "grid_template_rows": null,
      "height": null,
      "justify_content": null,
      "justify_items": null,
      "left": null,
      "margin": null,
      "max_height": null,
      "max_width": null,
      "min_height": null,
      "min_width": null,
      "object_fit": null,
      "object_position": null,
      "order": null,
      "overflow": null,
      "overflow_x": null,
      "overflow_y": null,
      "padding": null,
      "right": null,
      "top": null,
      "visibility": null,
      "width": null
     }
    },
    "44c4d11355414acaa723f5fb7508d4c3": {
     "model_module": "@jupyter-widgets/controls",
     "model_module_version": "1.5.0",
     "model_name": "FloatProgressModel",
     "state": {
      "_dom_classes": [],
      "_model_module": "@jupyter-widgets/controls",
      "_model_module_version": "1.5.0",
      "_model_name": "FloatProgressModel",
      "_view_count": null,
      "_view_module": "@jupyter-widgets/controls",
      "_view_module_version": "1.5.0",
      "_view_name": "ProgressView",
      "bar_style": "success",
      "description": "",
      "description_tooltip": null,
      "layout": "IPY_MODEL_b3d4fddd949b4d5aac119f1072972545",
      "max": 798293,
      "min": 0,
      "orientation": "horizontal",
      "style": "IPY_MODEL_1e90731472f443a8be006d56fb54deea",
      "value": 798293
     }
    },
    "47b437d3082c4d36a5e4a2907f627965": {
     "model_module": "@jupyter-widgets/controls",
     "model_module_version": "1.5.0",
     "model_name": "HBoxModel",
     "state": {
      "_dom_classes": [],
      "_model_module": "@jupyter-widgets/controls",
      "_model_module_version": "1.5.0",
      "_model_name": "HBoxModel",
      "_view_count": null,
      "_view_module": "@jupyter-widgets/controls",
      "_view_module_version": "1.5.0",
      "_view_name": "HBoxView",
      "box_style": "",
      "children": [
       "IPY_MODEL_6c089caa658c414aaf5ac3a948d2d39d",
       "IPY_MODEL_df5f77de95234a14a99f19a617e2c494",
       "IPY_MODEL_3e9932201053494a8cd939a5d2f4dea8"
      ],
      "layout": "IPY_MODEL_ec15bc5952c84e988873669078736ed3"
     }
    },
    "47cf20d39c61420e93c972f0bb096784": {
     "model_module": "@jupyter-widgets/controls",
     "model_module_version": "1.5.0",
     "model_name": "HBoxModel",
     "state": {
      "_dom_classes": [],
      "_model_module": "@jupyter-widgets/controls",
      "_model_module_version": "1.5.0",
      "_model_name": "HBoxModel",
      "_view_count": null,
      "_view_module": "@jupyter-widgets/controls",
      "_view_module_version": "1.5.0",
      "_view_name": "HBoxView",
      "box_style": "",
      "children": [
       "IPY_MODEL_73656ef7bd6e44bebcd89dd5ab74d8db",
       "IPY_MODEL_f22b5c2292f5437daa13251da0dab9ec",
       "IPY_MODEL_435d51f1b3a846fbaca61f2870a78093"
      ],
      "layout": "IPY_MODEL_c752eefa359f4d91a2f2508667698b42"
     }
    },
    "48ce610b33104015af7ed625e95cfe5e": {
     "model_module": "@jupyter-widgets/controls",
     "model_module_version": "1.5.0",
     "model_name": "ProgressStyleModel",
     "state": {
      "_model_module": "@jupyter-widgets/controls",
      "_model_module_version": "1.5.0",
      "_model_name": "ProgressStyleModel",
      "_view_count": null,
      "_view_module": "@jupyter-widgets/base",
      "_view_module_version": "1.2.0",
      "_view_name": "StyleView",
      "bar_color": null,
      "description_width": ""
     }
    },
    "4a874d006e944f75a507e3a0138f2d7c": {
     "model_module": "@jupyter-widgets/base",
     "model_module_version": "1.2.0",
     "model_name": "LayoutModel",
     "state": {
      "_model_module": "@jupyter-widgets/base",
      "_model_module_version": "1.2.0",
      "_model_name": "LayoutModel",
      "_view_count": null,
      "_view_module": "@jupyter-widgets/base",
      "_view_module_version": "1.2.0",
      "_view_name": "LayoutView",
      "align_content": null,
      "align_items": null,
      "align_self": null,
      "border": null,
      "bottom": null,
      "display": null,
      "flex": null,
      "flex_flow": null,
      "grid_area": null,
      "grid_auto_columns": null,
      "grid_auto_flow": null,
      "grid_auto_rows": null,
      "grid_column": null,
      "grid_gap": null,
      "grid_row": null,
      "grid_template_areas": null,
      "grid_template_columns": null,
      "grid_template_rows": null,
      "height": null,
      "justify_content": null,
      "justify_items": null,
      "left": null,
      "margin": null,
      "max_height": null,
      "max_width": null,
      "min_height": null,
      "min_width": null,
      "object_fit": null,
      "object_position": null,
      "order": null,
      "overflow": null,
      "overflow_x": null,
      "overflow_y": null,
      "padding": null,
      "right": null,
      "top": null,
      "visibility": null,
      "width": null
     }
    },
    "4b5c56fb9d1848b2af3cbe801cce51d9": {
     "model_module": "@jupyter-widgets/base",
     "model_module_version": "1.2.0",
     "model_name": "LayoutModel",
     "state": {
      "_model_module": "@jupyter-widgets/base",
      "_model_module_version": "1.2.0",
      "_model_name": "LayoutModel",
      "_view_count": null,
      "_view_module": "@jupyter-widgets/base",
      "_view_module_version": "1.2.0",
      "_view_name": "LayoutView",
      "align_content": null,
      "align_items": null,
      "align_self": null,
      "border": null,
      "bottom": null,
      "display": null,
      "flex": null,
      "flex_flow": null,
      "grid_area": null,
      "grid_auto_columns": null,
      "grid_auto_flow": null,
      "grid_auto_rows": null,
      "grid_column": null,
      "grid_gap": null,
      "grid_row": null,
      "grid_template_areas": null,
      "grid_template_columns": null,
      "grid_template_rows": null,
      "height": null,
      "justify_content": null,
      "justify_items": null,
      "left": null,
      "margin": null,
      "max_height": null,
      "max_width": null,
      "min_height": null,
      "min_width": null,
      "object_fit": null,
      "object_position": null,
      "order": null,
      "overflow": null,
      "overflow_x": null,
      "overflow_y": null,
      "padding": null,
      "right": null,
      "top": null,
      "visibility": null,
      "width": null
     }
    },
    "4d90df90a8ec417298e63420cadf4dad": {
     "model_module": "@jupyter-widgets/controls",
     "model_module_version": "1.5.0",
     "model_name": "HBoxModel",
     "state": {
      "_dom_classes": [],
      "_model_module": "@jupyter-widgets/controls",
      "_model_module_version": "1.5.0",
      "_model_name": "HBoxModel",
      "_view_count": null,
      "_view_module": "@jupyter-widgets/controls",
      "_view_module_version": "1.5.0",
      "_view_name": "HBoxView",
      "box_style": "",
      "children": [
       "IPY_MODEL_80bf4aff054649439d8506bf37153dfc",
       "IPY_MODEL_966e42fa315e41dcb663939d77d8ff6e",
       "IPY_MODEL_4eda2e1a1eb942a6b747ab6320ad176c"
      ],
      "layout": "IPY_MODEL_5936b91b966a4a8e9907f7c734613468"
     }
    },
    "4eda2e1a1eb942a6b747ab6320ad176c": {
     "model_module": "@jupyter-widgets/controls",
     "model_module_version": "1.5.0",
     "model_name": "HTMLModel",
     "state": {
      "_dom_classes": [],
      "_model_module": "@jupyter-widgets/controls",
      "_model_module_version": "1.5.0",
      "_model_name": "HTMLModel",
      "_view_count": null,
      "_view_module": "@jupyter-widgets/controls",
      "_view_module_version": "1.5.0",
      "_view_name": "HTMLView",
      "description": "",
      "description_tooltip": null,
      "layout": "IPY_MODEL_aab35f9a078a4c2b99bc0db2c64f7880",
      "placeholder": "​",
      "style": "IPY_MODEL_ae9d3a0394ed4e9ca9e17abda4f3f7bb",
      "value": " 687/687 [00:00&lt;00:00, 15.3kB/s]"
     }
    },
    "4fac09d7ab0b46d7897ebd80a91d3870": {
     "model_module": "@jupyter-widgets/controls",
     "model_module_version": "1.5.0",
     "model_name": "FloatProgressModel",
     "state": {
      "_dom_classes": [],
      "_model_module": "@jupyter-widgets/controls",
      "_model_module_version": "1.5.0",
      "_model_name": "FloatProgressModel",
      "_view_count": null,
      "_view_module": "@jupyter-widgets/controls",
      "_view_module_version": "1.5.0",
      "_view_name": "ProgressView",
      "bar_style": "success",
      "description": "",
      "description_tooltip": null,
      "layout": "IPY_MODEL_e3c315432a2e46c88f52fdd617683504",
      "max": 1000,
      "min": 0,
      "orientation": "horizontal",
      "style": "IPY_MODEL_9a2087314e5d463c90ab3849d63d6ad3",
      "value": 1000
     }
    },
    "539f492a38be44978df135342e5affd4": {
     "model_module": "@jupyter-widgets/base",
     "model_module_version": "1.2.0",
     "model_name": "LayoutModel",
     "state": {
      "_model_module": "@jupyter-widgets/base",
      "_model_module_version": "1.2.0",
      "_model_name": "LayoutModel",
      "_view_count": null,
      "_view_module": "@jupyter-widgets/base",
      "_view_module_version": "1.2.0",
      "_view_name": "LayoutView",
      "align_content": null,
      "align_items": null,
      "align_self": null,
      "border": null,
      "bottom": null,
      "display": null,
      "flex": null,
      "flex_flow": null,
      "grid_area": null,
      "grid_auto_columns": null,
      "grid_auto_flow": null,
      "grid_auto_rows": null,
      "grid_column": null,
      "grid_gap": null,
      "grid_row": null,
      "grid_template_areas": null,
      "grid_template_columns": null,
      "grid_template_rows": null,
      "height": null,
      "justify_content": null,
      "justify_items": null,
      "left": null,
      "margin": null,
      "max_height": null,
      "max_width": null,
      "min_height": null,
      "min_width": null,
      "object_fit": null,
      "object_position": null,
      "order": null,
      "overflow": null,
      "overflow_x": null,
      "overflow_y": null,
      "padding": null,
      "right": null,
      "top": null,
      "visibility": null,
      "width": null
     }
    },
    "553784dd764b4440a359e730708a8cd5": {
     "model_module": "@jupyter-widgets/base",
     "model_module_version": "1.2.0",
     "model_name": "LayoutModel",
     "state": {
      "_model_module": "@jupyter-widgets/base",
      "_model_module_version": "1.2.0",
      "_model_name": "LayoutModel",
      "_view_count": null,
      "_view_module": "@jupyter-widgets/base",
      "_view_module_version": "1.2.0",
      "_view_name": "LayoutView",
      "align_content": null,
      "align_items": null,
      "align_self": null,
      "border": null,
      "bottom": null,
      "display": null,
      "flex": null,
      "flex_flow": null,
      "grid_area": null,
      "grid_auto_columns": null,
      "grid_auto_flow": null,
      "grid_auto_rows": null,
      "grid_column": null,
      "grid_gap": null,
      "grid_row": null,
      "grid_template_areas": null,
      "grid_template_columns": null,
      "grid_template_rows": null,
      "height": null,
      "justify_content": null,
      "justify_items": null,
      "left": null,
      "margin": null,
      "max_height": null,
      "max_width": null,
      "min_height": null,
      "min_width": null,
      "object_fit": null,
      "object_position": null,
      "order": null,
      "overflow": null,
      "overflow_x": null,
      "overflow_y": null,
      "padding": null,
      "right": null,
      "top": null,
      "visibility": null,
      "width": null
     }
    },
    "56255322344749f79484a28d7cb36bc4": {
     "model_module": "@jupyter-widgets/controls",
     "model_module_version": "1.5.0",
     "model_name": "DescriptionStyleModel",
     "state": {
      "_model_module": "@jupyter-widgets/controls",
      "_model_module_version": "1.5.0",
      "_model_name": "DescriptionStyleModel",
      "_view_count": null,
      "_view_module": "@jupyter-widgets/base",
      "_view_module_version": "1.2.0",
      "_view_name": "StyleView",
      "description_width": ""
     }
    },
    "57fa6a5c95774df2a425e8049a33ecf8": {
     "model_module": "@jupyter-widgets/controls",
     "model_module_version": "1.5.0",
     "model_name": "FloatProgressModel",
     "state": {
      "_dom_classes": [],
      "_model_module": "@jupyter-widgets/controls",
      "_model_module_version": "1.5.0",
      "_model_name": "FloatProgressModel",
      "_view_count": null,
      "_view_module": "@jupyter-widgets/controls",
      "_view_module_version": "1.5.0",
      "_view_name": "ProgressView",
      "bar_style": "success",
      "description": "",
      "description_tooltip": null,
      "layout": "IPY_MODEL_3309720d2c2640e7bd57379999e09dcd",
      "max": 2166,
      "min": 0,
      "orientation": "horizontal",
      "style": "IPY_MODEL_c66a6674be7248c5a12c6df3f712dd88",
      "value": 2166
     }
    },
    "5936b91b966a4a8e9907f7c734613468": {
     "model_module": "@jupyter-widgets/base",
     "model_module_version": "1.2.0",
     "model_name": "LayoutModel",
     "state": {
      "_model_module": "@jupyter-widgets/base",
      "_model_module_version": "1.2.0",
      "_model_name": "LayoutModel",
      "_view_count": null,
      "_view_module": "@jupyter-widgets/base",
      "_view_module_version": "1.2.0",
      "_view_name": "LayoutView",
      "align_content": null,
      "align_items": null,
      "align_self": null,
      "border": null,
      "bottom": null,
      "display": null,
      "flex": null,
      "flex_flow": null,
      "grid_area": null,
      "grid_auto_columns": null,
      "grid_auto_flow": null,
      "grid_auto_rows": null,
      "grid_column": null,
      "grid_gap": null,
      "grid_row": null,
      "grid_template_areas": null,
      "grid_template_columns": null,
      "grid_template_rows": null,
      "height": null,
      "justify_content": null,
      "justify_items": null,
      "left": null,
      "margin": null,
      "max_height": null,
      "max_width": null,
      "min_height": null,
      "min_width": null,
      "object_fit": null,
      "object_position": null,
      "order": null,
      "overflow": null,
      "overflow_x": null,
      "overflow_y": null,
      "padding": null,
      "right": null,
      "top": null,
      "visibility": null,
      "width": null
     }
    },
    "593c3a7cd3cf4b2097482991aae3c043": {
     "model_module": "@jupyter-widgets/controls",
     "model_module_version": "1.5.0",
     "model_name": "HBoxModel",
     "state": {
      "_dom_classes": [],
      "_model_module": "@jupyter-widgets/controls",
      "_model_module_version": "1.5.0",
      "_model_name": "HBoxModel",
      "_view_count": null,
      "_view_module": "@jupyter-widgets/controls",
      "_view_module_version": "1.5.0",
      "_view_name": "HBoxView",
      "box_style": "",
      "children": [
       "IPY_MODEL_0ef855cacadd43d99de02789c27984d3",
       "IPY_MODEL_0adaa73511c74363a73733811c211a4f",
       "IPY_MODEL_97ceeff4d6e54ceb91999d3ca443df5e"
      ],
      "layout": "IPY_MODEL_873e1fda0e0c4033a6566d0af304f7cd"
     }
    },
    "5bf3f641646e47abab9da165c899a37b": {
     "model_module": "@jupyter-widgets/controls",
     "model_module_version": "1.5.0",
     "model_name": "DescriptionStyleModel",
     "state": {
      "_model_module": "@jupyter-widgets/controls",
      "_model_module_version": "1.5.0",
      "_model_name": "DescriptionStyleModel",
      "_view_count": null,
      "_view_module": "@jupyter-widgets/base",
      "_view_module_version": "1.2.0",
      "_view_name": "StyleView",
      "description_width": ""
     }
    },
    "5ffe0aec7400423ab65d84d058bdb719": {
     "model_module": "@jupyter-widgets/controls",
     "model_module_version": "1.5.0",
     "model_name": "DescriptionStyleModel",
     "state": {
      "_model_module": "@jupyter-widgets/controls",
      "_model_module_version": "1.5.0",
      "_model_name": "DescriptionStyleModel",
      "_view_count": null,
      "_view_module": "@jupyter-widgets/base",
      "_view_module_version": "1.2.0",
      "_view_name": "StyleView",
      "description_width": ""
     }
    },
    "60502ffee6824563b1e251585b424e0c": {
     "model_module": "@jupyter-widgets/controls",
     "model_module_version": "1.5.0",
     "model_name": "HTMLModel",
     "state": {
      "_dom_classes": [],
      "_model_module": "@jupyter-widgets/controls",
      "_model_module_version": "1.5.0",
      "_model_name": "HTMLModel",
      "_view_count": null,
      "_view_module": "@jupyter-widgets/controls",
      "_view_module_version": "1.5.0",
      "_view_name": "HTMLView",
      "description": "",
      "description_tooltip": null,
      "layout": "IPY_MODEL_667bb5a3b5f04021a801b19c43a05f3b",
      "placeholder": "​",
      "style": "IPY_MODEL_09ec2180b15149d8bd493cf26beeada6",
      "value": "Generating train split: 100%"
     }
    },
    "60dcc26576dc417089f56fa5ddb48619": {
     "model_module": "@jupyter-widgets/controls",
     "model_module_version": "1.5.0",
     "model_name": "ProgressStyleModel",
     "state": {
      "_model_module": "@jupyter-widgets/controls",
      "_model_module_version": "1.5.0",
      "_model_name": "ProgressStyleModel",
      "_view_count": null,
      "_view_module": "@jupyter-widgets/base",
      "_view_module_version": "1.2.0",
      "_view_name": "StyleView",
      "bar_color": null,
      "description_width": ""
     }
    },
    "615b46f141514ebc96be43bb9132f9bf": {
     "model_module": "@jupyter-widgets/controls",
     "model_module_version": "1.5.0",
     "model_name": "DescriptionStyleModel",
     "state": {
      "_model_module": "@jupyter-widgets/controls",
      "_model_module_version": "1.5.0",
      "_model_name": "DescriptionStyleModel",
      "_view_count": null,
      "_view_module": "@jupyter-widgets/base",
      "_view_module_version": "1.2.0",
      "_view_name": "StyleView",
      "description_width": ""
     }
    },
    "6222ec2c088244279e07627c4d5d64eb": {
     "model_module": "@jupyter-widgets/controls",
     "model_module_version": "1.5.0",
     "model_name": "FloatProgressModel",
     "state": {
      "_dom_classes": [],
      "_model_module": "@jupyter-widgets/controls",
      "_model_module_version": "1.5.0",
      "_model_name": "FloatProgressModel",
      "_view_count": null,
      "_view_module": "@jupyter-widgets/controls",
      "_view_module_version": "1.5.0",
      "_view_name": "ProgressView",
      "bar_style": "success",
      "description": "",
      "description_tooltip": null,
      "layout": "IPY_MODEL_b96ff5f163c74328a6389f772671b3e5",
      "max": 1000,
      "min": 0,
      "orientation": "horizontal",
      "style": "IPY_MODEL_c23207db59de4a79841de513f0a6d504",
      "value": 1000
     }
    },
    "624b62692e43413bb2ee269133bb10c3": {
     "model_module": "@jupyter-widgets/controls",
     "model_module_version": "1.5.0",
     "model_name": "DescriptionStyleModel",
     "state": {
      "_model_module": "@jupyter-widgets/controls",
      "_model_module_version": "1.5.0",
      "_model_name": "DescriptionStyleModel",
      "_view_count": null,
      "_view_module": "@jupyter-widgets/base",
      "_view_module_version": "1.2.0",
      "_view_name": "StyleView",
      "description_width": ""
     }
    },
    "62a6a91483c844e7b16ff49def9ea893": {
     "model_module": "@jupyter-widgets/controls",
     "model_module_version": "1.5.0",
     "model_name": "HTMLModel",
     "state": {
      "_dom_classes": [],
      "_model_module": "@jupyter-widgets/controls",
      "_model_module_version": "1.5.0",
      "_model_name": "HTMLModel",
      "_view_count": null,
      "_view_module": "@jupyter-widgets/controls",
      "_view_module_version": "1.5.0",
      "_view_name": "HTMLView",
      "description": "",
      "description_tooltip": null,
      "layout": "IPY_MODEL_35412e4fe65d4096b251fac159778a6d",
      "placeholder": "​",
      "style": "IPY_MODEL_615b46f141514ebc96be43bb9132f9bf",
      "value": " 456k/456k [00:00&lt;00:00, 7.59MB/s]"
     }
    },
    "63467387aa9840b98a01db643449c589": {
     "model_module": "@jupyter-widgets/controls",
     "model_module_version": "1.5.0",
     "model_name": "ProgressStyleModel",
     "state": {
      "_model_module": "@jupyter-widgets/controls",
      "_model_module_version": "1.5.0",
      "_model_name": "ProgressStyleModel",
      "_view_count": null,
      "_view_module": "@jupyter-widgets/base",
      "_view_module_version": "1.2.0",
      "_view_name": "StyleView",
      "bar_color": null,
      "description_width": ""
     }
    },
    "647b9e91e69548f1afdd1d75dd4da1b0": {
     "model_module": "@jupyter-widgets/controls",
     "model_module_version": "1.5.0",
     "model_name": "ProgressStyleModel",
     "state": {
      "_model_module": "@jupyter-widgets/controls",
      "_model_module_version": "1.5.0",
      "_model_name": "ProgressStyleModel",
      "_view_count": null,
      "_view_module": "@jupyter-widgets/base",
      "_view_module_version": "1.2.0",
      "_view_name": "StyleView",
      "bar_color": null,
      "description_width": ""
     }
    },
    "65356e17dabd4b83994a96ff5359104d": {
     "model_module": "@jupyter-widgets/controls",
     "model_module_version": "1.5.0",
     "model_name": "HTMLModel",
     "state": {
      "_dom_classes": [],
      "_model_module": "@jupyter-widgets/controls",
      "_model_module_version": "1.5.0",
      "_model_name": "HTMLModel",
      "_view_count": null,
      "_view_module": "@jupyter-widgets/controls",
      "_view_module_version": "1.5.0",
      "_view_name": "HTMLView",
      "description": "",
      "description_tooltip": null,
      "layout": "IPY_MODEL_0eb3294f127d4374a37955ba443a7f96",
      "placeholder": "​",
      "style": "IPY_MODEL_733d2a6830554d8e870ce2402ffd8262",
      "value": "Downloading builder script: 100%"
     }
    },
    "6632917ced624f9eb4afe049f545930e": {
     "model_module": "@jupyter-widgets/controls",
     "model_module_version": "1.5.0",
     "model_name": "FloatProgressModel",
     "state": {
      "_dom_classes": [],
      "_model_module": "@jupyter-widgets/controls",
      "_model_module_version": "1.5.0",
      "_model_name": "FloatProgressModel",
      "_view_count": null,
      "_view_module": "@jupyter-widgets/controls",
      "_view_module_version": "1.5.0",
      "_view_name": "ProgressView",
      "bar_style": "success",
      "description": "",
      "description_tooltip": null,
      "layout": "IPY_MODEL_d68004b5499c499aaa0c061b6481ef3e",
      "max": 2000,
      "min": 0,
      "orientation": "horizontal",
      "style": "IPY_MODEL_c310635f54b1457d80eb4e1f27350e67",
      "value": 2000
     }
    },
    "667bb5a3b5f04021a801b19c43a05f3b": {
     "model_module": "@jupyter-widgets/base",
     "model_module_version": "1.2.0",
     "model_name": "LayoutModel",
     "state": {
      "_model_module": "@jupyter-widgets/base",
      "_model_module_version": "1.2.0",
      "_model_name": "LayoutModel",
      "_view_count": null,
      "_view_module": "@jupyter-widgets/base",
      "_view_module_version": "1.2.0",
      "_view_name": "LayoutView",
      "align_content": null,
      "align_items": null,
      "align_self": null,
      "border": null,
      "bottom": null,
      "display": null,
      "flex": null,
      "flex_flow": null,
      "grid_area": null,
      "grid_auto_columns": null,
      "grid_auto_flow": null,
      "grid_auto_rows": null,
      "grid_column": null,
      "grid_gap": null,
      "grid_row": null,
      "grid_template_areas": null,
      "grid_template_columns": null,
      "grid_template_rows": null,
      "height": null,
      "justify_content": null,
      "justify_items": null,
      "left": null,
      "margin": null,
      "max_height": null,
      "max_width": null,
      "min_height": null,
      "min_width": null,
      "object_fit": null,
      "object_position": null,
      "order": null,
      "overflow": null,
      "overflow_x": null,
      "overflow_y": null,
      "padding": null,
      "right": null,
      "top": null,
      "visibility": null,
      "width": null
     }
    },
    "682ddcbb8b4a4232a98d0df05d909ecd": {
     "model_module": "@jupyter-widgets/controls",
     "model_module_version": "1.5.0",
     "model_name": "HBoxModel",
     "state": {
      "_dom_classes": [],
      "_model_module": "@jupyter-widgets/controls",
      "_model_module_version": "1.5.0",
      "_model_name": "HBoxModel",
      "_view_count": null,
      "_view_module": "@jupyter-widgets/controls",
      "_view_module_version": "1.5.0",
      "_view_name": "HBoxView",
      "box_style": "",
      "children": [
       "IPY_MODEL_dfcdc4aadb894ed8adc44da8619c6a6d",
       "IPY_MODEL_3890682c1168404eaf4f8843bbda0c2c",
       "IPY_MODEL_d6eceb3b0e5c43659dbf4515408a85bf"
      ],
      "layout": "IPY_MODEL_a91997b3040e40dfb681979daa90e4dd"
     }
    },
    "692bb164d8c448db8a2b4b3252f4091e": {
     "model_module": "@jupyter-widgets/base",
     "model_module_version": "1.2.0",
     "model_name": "LayoutModel",
     "state": {
      "_model_module": "@jupyter-widgets/base",
      "_model_module_version": "1.2.0",
      "_model_name": "LayoutModel",
      "_view_count": null,
      "_view_module": "@jupyter-widgets/base",
      "_view_module_version": "1.2.0",
      "_view_name": "LayoutView",
      "align_content": null,
      "align_items": null,
      "align_self": null,
      "border": null,
      "bottom": null,
      "display": null,
      "flex": null,
      "flex_flow": null,
      "grid_area": null,
      "grid_auto_columns": null,
      "grid_auto_flow": null,
      "grid_auto_rows": null,
      "grid_column": null,
      "grid_gap": null,
      "grid_row": null,
      "grid_template_areas": null,
      "grid_template_columns": null,
      "grid_template_rows": null,
      "height": null,
      "justify_content": null,
      "justify_items": null,
      "left": null,
      "margin": null,
      "max_height": null,
      "max_width": null,
      "min_height": null,
      "min_width": null,
      "object_fit": null,
      "object_position": null,
      "order": null,
      "overflow": null,
      "overflow_x": null,
      "overflow_y": null,
      "padding": null,
      "right": null,
      "top": null,
      "visibility": null,
      "width": null
     }
    },
    "69845713217e4f00a492169a50f93d17": {
     "model_module": "@jupyter-widgets/base",
     "model_module_version": "1.2.0",
     "model_name": "LayoutModel",
     "state": {
      "_model_module": "@jupyter-widgets/base",
      "_model_module_version": "1.2.0",
      "_model_name": "LayoutModel",
      "_view_count": null,
      "_view_module": "@jupyter-widgets/base",
      "_view_module_version": "1.2.0",
      "_view_name": "LayoutView",
      "align_content": null,
      "align_items": null,
      "align_self": null,
      "border": null,
      "bottom": null,
      "display": null,
      "flex": null,
      "flex_flow": null,
      "grid_area": null,
      "grid_auto_columns": null,
      "grid_auto_flow": null,
      "grid_auto_rows": null,
      "grid_column": null,
      "grid_gap": null,
      "grid_row": null,
      "grid_template_areas": null,
      "grid_template_columns": null,
      "grid_template_rows": null,
      "height": null,
      "justify_content": null,
      "justify_items": null,
      "left": null,
      "margin": null,
      "max_height": null,
      "max_width": null,
      "min_height": null,
      "min_width": null,
      "object_fit": null,
      "object_position": null,
      "order": null,
      "overflow": null,
      "overflow_x": null,
      "overflow_y": null,
      "padding": null,
      "right": null,
      "top": null,
      "visibility": null,
      "width": null
     }
    },
    "6c089caa658c414aaf5ac3a948d2d39d": {
     "model_module": "@jupyter-widgets/controls",
     "model_module_version": "1.5.0",
     "model_name": "HTMLModel",
     "state": {
      "_dom_classes": [],
      "_model_module": "@jupyter-widgets/controls",
      "_model_module_version": "1.5.0",
      "_model_name": "HTMLModel",
      "_view_count": null,
      "_view_module": "@jupyter-widgets/controls",
      "_view_module_version": "1.5.0",
      "_view_name": "HTMLView",
      "description": "",
      "description_tooltip": null,
      "layout": "IPY_MODEL_3e2b80b2eea1498199e7de4186d2827b",
      "placeholder": "​",
      "style": "IPY_MODEL_fd0e1d94557a436fa711b3ab0cd6455b",
      "value": "Generating test split: 100%"
     }
    },
    "6cc12d3c2eb344c6a80bc21b624b934f": {
     "model_module": "@jupyter-widgets/controls",
     "model_module_version": "1.5.0",
     "model_name": "DescriptionStyleModel",
     "state": {
      "_model_module": "@jupyter-widgets/controls",
      "_model_module_version": "1.5.0",
      "_model_name": "DescriptionStyleModel",
      "_view_count": null,
      "_view_module": "@jupyter-widgets/base",
      "_view_module_version": "1.2.0",
      "_view_name": "StyleView",
      "description_width": ""
     }
    },
    "6f32e31fe01045f2ae823118677b6542": {
     "model_module": "@jupyter-widgets/controls",
     "model_module_version": "1.5.0",
     "model_name": "ProgressStyleModel",
     "state": {
      "_model_module": "@jupyter-widgets/controls",
      "_model_module_version": "1.5.0",
      "_model_name": "ProgressStyleModel",
      "_view_count": null,
      "_view_module": "@jupyter-widgets/base",
      "_view_module_version": "1.2.0",
      "_view_name": "StyleView",
      "bar_color": null,
      "description_width": ""
     }
    },
    "704117dfdaca45fb8d31bd22e895db9f": {
     "model_module": "@jupyter-widgets/controls",
     "model_module_version": "1.5.0",
     "model_name": "HBoxModel",
     "state": {
      "_dom_classes": [],
      "_model_module": "@jupyter-widgets/controls",
      "_model_module_version": "1.5.0",
      "_model_name": "HBoxModel",
      "_view_count": null,
      "_view_module": "@jupyter-widgets/controls",
      "_view_module_version": "1.5.0",
      "_view_name": "HBoxView",
      "box_style": "",
      "children": [
       "IPY_MODEL_962ea6eed5874d1dbe14f2a711d5276a",
       "IPY_MODEL_1c698a3bfb234fa5880332036cde89df",
       "IPY_MODEL_c58cb098f5874c6b909aec192b3ee4d0"
      ],
      "layout": "IPY_MODEL_11048739e8634fb4a39ebf2f5aa7b12f"
     }
    },
    "716094be222a4eecabb63d7f739911d1": {
     "model_module": "@jupyter-widgets/controls",
     "model_module_version": "1.5.0",
     "model_name": "FloatProgressModel",
     "state": {
      "_dom_classes": [],
      "_model_module": "@jupyter-widgets/controls",
      "_model_module_version": "1.5.0",
      "_model_name": "FloatProgressModel",
      "_view_count": null,
      "_view_module": "@jupyter-widgets/controls",
      "_view_module_version": "1.5.0",
      "_view_name": "ProgressView",
      "bar_style": "success",
      "description": "",
      "description_tooltip": null,
      "layout": "IPY_MODEL_22ad7aa0993342c9be66b471b9a8dc9a",
      "max": 4314,
      "min": 0,
      "orientation": "horizontal",
      "style": "IPY_MODEL_a0a3332f6d214063ab6168503c3d3415",
      "value": 4314
     }
    },
    "7189b6a3f1704ae7ba1e32529a44b4a5": {
     "model_module": "@jupyter-widgets/controls",
     "model_module_version": "1.5.0",
     "model_name": "DescriptionStyleModel",
     "state": {
      "_model_module": "@jupyter-widgets/controls",
      "_model_module_version": "1.5.0",
      "_model_name": "DescriptionStyleModel",
      "_view_count": null,
      "_view_module": "@jupyter-widgets/base",
      "_view_module_version": "1.2.0",
      "_view_name": "StyleView",
      "description_width": ""
     }
    },
    "72b5745d4268408c94a3efc2fa2e68c9": {
     "model_module": "@jupyter-widgets/controls",
     "model_module_version": "1.5.0",
     "model_name": "HBoxModel",
     "state": {
      "_dom_classes": [],
      "_model_module": "@jupyter-widgets/controls",
      "_model_module_version": "1.5.0",
      "_model_name": "HBoxModel",
      "_view_count": null,
      "_view_module": "@jupyter-widgets/controls",
      "_view_module_version": "1.5.0",
      "_view_name": "HBoxView",
      "box_style": "",
      "children": [
       "IPY_MODEL_091944e7ce1f41a39cb283f0223d8540",
       "IPY_MODEL_44c4d11355414acaa723f5fb7508d4c3",
       "IPY_MODEL_066493c589294d619a61e5ffe4cf81be"
      ],
      "layout": "IPY_MODEL_0f98b078e44d4cee85380609e58f8631"
     }
    },
    "733d2a6830554d8e870ce2402ffd8262": {
     "model_module": "@jupyter-widgets/controls",
     "model_module_version": "1.5.0",
     "model_name": "DescriptionStyleModel",
     "state": {
      "_model_module": "@jupyter-widgets/controls",
      "_model_module_version": "1.5.0",
      "_model_name": "DescriptionStyleModel",
      "_view_count": null,
      "_view_module": "@jupyter-widgets/base",
      "_view_module_version": "1.2.0",
      "_view_name": "StyleView",
      "description_width": ""
     }
    },
    "73656ef7bd6e44bebcd89dd5ab74d8db": {
     "model_module": "@jupyter-widgets/controls",
     "model_module_version": "1.5.0",
     "model_name": "HTMLModel",
     "state": {
      "_dom_classes": [],
      "_model_module": "@jupyter-widgets/controls",
      "_model_module_version": "1.5.0",
      "_model_name": "HTMLModel",
      "_view_count": null,
      "_view_module": "@jupyter-widgets/controls",
      "_view_module_version": "1.5.0",
      "_view_name": "HTMLView",
      "description": "",
      "description_tooltip": null,
      "layout": "IPY_MODEL_d953baf213324bd6a731cdc8a9e0d4df",
      "placeholder": "​",
      "style": "IPY_MODEL_96a59d6d27af46c99ea487b4bda641c4",
      "value": "special_tokens_map.json: 100%"
     }
    },
    "7519f75ac4c841d38186fe2c555f829c": {
     "model_module": "@jupyter-widgets/controls",
     "model_module_version": "1.5.0",
     "model_name": "FloatProgressModel",
     "state": {
      "_dom_classes": [],
      "_model_module": "@jupyter-widgets/controls",
      "_model_module_version": "1.5.0",
      "_model_name": "FloatProgressModel",
      "_view_count": null,
      "_view_module": "@jupyter-widgets/controls",
      "_view_module_version": "1.5.0",
      "_view_name": "ProgressView",
      "bar_style": "success",
      "description": "",
      "description_tooltip": null,
      "layout": "IPY_MODEL_539f492a38be44978df135342e5affd4",
      "max": 28,
      "min": 0,
      "orientation": "horizontal",
      "style": "IPY_MODEL_d9c0f80b1b9a43ef9d5c34fa7f9f74f7",
      "value": 28
     }
    },
    "75ab693a0db5444fa2b0cec561859fc2": {
     "model_module": "@jupyter-widgets/controls",
     "model_module_version": "1.5.0",
     "model_name": "FloatProgressModel",
     "state": {
      "_dom_classes": [],
      "_model_module": "@jupyter-widgets/controls",
      "_model_module_version": "1.5.0",
      "_model_name": "FloatProgressModel",
      "_view_count": null,
      "_view_module": "@jupyter-widgets/controls",
      "_view_module_version": "1.5.0",
      "_view_name": "ProgressView",
      "bar_style": "success",
      "description": "",
      "description_tooltip": null,
      "layout": "IPY_MODEL_ab9967ad160843bba1cd90a7a8b610bc",
      "max": 1421616707,
      "min": 0,
      "orientation": "horizontal",
      "style": "IPY_MODEL_a4f7cfa7f2b94fbd97cb5bd8ccca3c28",
      "value": 1421616707
     }
    },
    "7636e2f2c3a84e3789229fdce6bdfdf5": {
     "model_module": "@jupyter-widgets/base",
     "model_module_version": "1.2.0",
     "model_name": "LayoutModel",
     "state": {
      "_model_module": "@jupyter-widgets/base",
      "_model_module_version": "1.2.0",
      "_model_name": "LayoutModel",
      "_view_count": null,
      "_view_module": "@jupyter-widgets/base",
      "_view_module_version": "1.2.0",
      "_view_name": "LayoutView",
      "align_content": null,
      "align_items": null,
      "align_self": null,
      "border": null,
      "bottom": null,
      "display": null,
      "flex": null,
      "flex_flow": null,
      "grid_area": null,
      "grid_auto_columns": null,
      "grid_auto_flow": null,
      "grid_auto_rows": null,
      "grid_column": null,
      "grid_gap": null,
      "grid_row": null,
      "grid_template_areas": null,
      "grid_template_columns": null,
      "grid_template_rows": null,
      "height": null,
      "justify_content": null,
      "justify_items": null,
      "left": null,
      "margin": null,
      "max_height": null,
      "max_width": null,
      "min_height": null,
      "min_width": null,
      "object_fit": null,
      "object_position": null,
      "order": null,
      "overflow": null,
      "overflow_x": null,
      "overflow_y": null,
      "padding": null,
      "right": null,
      "top": null,
      "visibility": null,
      "width": null
     }
    },
    "771fe2c037f24e2286788e68296eccd6": {
     "model_module": "@jupyter-widgets/base",
     "model_module_version": "1.2.0",
     "model_name": "LayoutModel",
     "state": {
      "_model_module": "@jupyter-widgets/base",
      "_model_module_version": "1.2.0",
      "_model_name": "LayoutModel",
      "_view_count": null,
      "_view_module": "@jupyter-widgets/base",
      "_view_module_version": "1.2.0",
      "_view_name": "LayoutView",
      "align_content": null,
      "align_items": null,
      "align_self": null,
      "border": null,
      "bottom": null,
      "display": null,
      "flex": null,
      "flex_flow": null,
      "grid_area": null,
      "grid_auto_columns": null,
      "grid_auto_flow": null,
      "grid_auto_rows": null,
      "grid_column": null,
      "grid_gap": null,
      "grid_row": null,
      "grid_template_areas": null,
      "grid_template_columns": null,
      "grid_template_rows": null,
      "height": null,
      "justify_content": null,
      "justify_items": null,
      "left": null,
      "margin": null,
      "max_height": null,
      "max_width": null,
      "min_height": null,
      "min_width": null,
      "object_fit": null,
      "object_position": null,
      "order": null,
      "overflow": null,
      "overflow_x": null,
      "overflow_y": null,
      "padding": null,
      "right": null,
      "top": null,
      "visibility": null,
      "width": null
     }
    },
    "7db701826a9745f490fe95aa456e7a5f": {
     "model_module": "@jupyter-widgets/controls",
     "model_module_version": "1.5.0",
     "model_name": "DescriptionStyleModel",
     "state": {
      "_model_module": "@jupyter-widgets/controls",
      "_model_module_version": "1.5.0",
      "_model_name": "DescriptionStyleModel",
      "_view_count": null,
      "_view_module": "@jupyter-widgets/base",
      "_view_module_version": "1.2.0",
      "_view_name": "StyleView",
      "description_width": ""
     }
    },
    "7e2a0e163c85484794db88398a72243a": {
     "model_module": "@jupyter-widgets/controls",
     "model_module_version": "1.5.0",
     "model_name": "HBoxModel",
     "state": {
      "_dom_classes": [],
      "_model_module": "@jupyter-widgets/controls",
      "_model_module_version": "1.5.0",
      "_model_name": "HBoxModel",
      "_view_count": null,
      "_view_module": "@jupyter-widgets/controls",
      "_view_module_version": "1.5.0",
      "_view_name": "HBoxView",
      "box_style": "",
      "children": [
       "IPY_MODEL_220cda60fc0d4a3f838a5ebda3fbdd63",
       "IPY_MODEL_6632917ced624f9eb4afe049f545930e",
       "IPY_MODEL_2c169129dd594ac0b5d2c6ee83e7799a"
      ],
      "layout": "IPY_MODEL_09b391afaddc4c34907efd5f0cdbb91a"
     }
    },
    "7e4cc7c7ad834befbb1f5fb728e19480": {
     "model_module": "@jupyter-widgets/controls",
     "model_module_version": "1.5.0",
     "model_name": "DescriptionStyleModel",
     "state": {
      "_model_module": "@jupyter-widgets/controls",
      "_model_module_version": "1.5.0",
      "_model_name": "DescriptionStyleModel",
      "_view_count": null,
      "_view_module": "@jupyter-widgets/base",
      "_view_module_version": "1.2.0",
      "_view_name": "StyleView",
      "description_width": ""
     }
    },
    "80bf4aff054649439d8506bf37153dfc": {
     "model_module": "@jupyter-widgets/controls",
     "model_module_version": "1.5.0",
     "model_name": "HTMLModel",
     "state": {
      "_dom_classes": [],
      "_model_module": "@jupyter-widgets/controls",
      "_model_module_version": "1.5.0",
      "_model_name": "HTMLModel",
      "_view_count": null,
      "_view_module": "@jupyter-widgets/controls",
      "_view_module_version": "1.5.0",
      "_view_name": "HTMLView",
      "description": "",
      "description_tooltip": null,
      "layout": "IPY_MODEL_69845713217e4f00a492169a50f93d17",
      "placeholder": "​",
      "style": "IPY_MODEL_83937decaecd4b1ea459dcfedf3acb92",
      "value": "config.json: 100%"
     }
    },
    "8202ad771b92415cb57abdc5159caee9": {
     "model_module": "@jupyter-widgets/controls",
     "model_module_version": "1.5.0",
     "model_name": "DescriptionStyleModel",
     "state": {
      "_model_module": "@jupyter-widgets/controls",
      "_model_module_version": "1.5.0",
      "_model_name": "DescriptionStyleModel",
      "_view_count": null,
      "_view_module": "@jupyter-widgets/base",
      "_view_module_version": "1.2.0",
      "_view_name": "StyleView",
      "description_width": ""
     }
    },
    "83937decaecd4b1ea459dcfedf3acb92": {
     "model_module": "@jupyter-widgets/controls",
     "model_module_version": "1.5.0",
     "model_name": "DescriptionStyleModel",
     "state": {
      "_model_module": "@jupyter-widgets/controls",
      "_model_module_version": "1.5.0",
      "_model_name": "DescriptionStyleModel",
      "_view_count": null,
      "_view_module": "@jupyter-widgets/base",
      "_view_module_version": "1.2.0",
      "_view_name": "StyleView",
      "description_width": ""
     }
    },
    "83f66fe4500846d79f88ea846a5898e7": {
     "model_module": "@jupyter-widgets/controls",
     "model_module_version": "1.5.0",
     "model_name": "ProgressStyleModel",
     "state": {
      "_model_module": "@jupyter-widgets/controls",
      "_model_module_version": "1.5.0",
      "_model_name": "ProgressStyleModel",
      "_view_count": null,
      "_view_module": "@jupyter-widgets/base",
      "_view_module_version": "1.2.0",
      "_view_name": "StyleView",
      "bar_color": null,
      "description_width": ""
     }
    },
    "8556ddffecbc4fb2ab907c1f101cca92": {
     "model_module": "@jupyter-widgets/controls",
     "model_module_version": "1.5.0",
     "model_name": "HTMLModel",
     "state": {
      "_dom_classes": [],
      "_model_module": "@jupyter-widgets/controls",
      "_model_module_version": "1.5.0",
      "_model_name": "HTMLModel",
      "_view_count": null,
      "_view_module": "@jupyter-widgets/controls",
      "_view_module_version": "1.5.0",
      "_view_name": "HTMLView",
      "description": "",
      "description_tooltip": null,
      "layout": "IPY_MODEL_0c8593a7530841fb990d97fbb5e92332",
      "placeholder": "​",
      "style": "IPY_MODEL_102b18b8c1174778b89ac2534f1ecd9d",
      "value": " 466k/466k [00:00&lt;00:00, 28.0MB/s]"
     }
    },
    "873e1fda0e0c4033a6566d0af304f7cd": {
     "model_module": "@jupyter-widgets/base",
     "model_module_version": "1.2.0",
     "model_name": "LayoutModel",
     "state": {
      "_model_module": "@jupyter-widgets/base",
      "_model_module_version": "1.2.0",
      "_model_name": "LayoutModel",
      "_view_count": null,
      "_view_module": "@jupyter-widgets/base",
      "_view_module_version": "1.2.0",
      "_view_name": "LayoutView",
      "align_content": null,
      "align_items": null,
      "align_self": null,
      "border": null,
      "bottom": null,
      "display": null,
      "flex": null,
      "flex_flow": null,
      "grid_area": null,
      "grid_auto_columns": null,
      "grid_auto_flow": null,
      "grid_auto_rows": null,
      "grid_column": null,
      "grid_gap": null,
      "grid_row": null,
      "grid_template_areas": null,
      "grid_template_columns": null,
      "grid_template_rows": null,
      "height": null,
      "justify_content": null,
      "justify_items": null,
      "left": null,
      "margin": null,
      "max_height": null,
      "max_width": null,
      "min_height": null,
      "min_width": null,
      "object_fit": null,
      "object_position": null,
      "order": null,
      "overflow": null,
      "overflow_x": null,
      "overflow_y": null,
      "padding": null,
      "right": null,
      "top": null,
      "visibility": null,
      "width": null
     }
    },
    "8887cc26baa34e2094eeddfc632d98f1": {
     "model_module": "@jupyter-widgets/base",
     "model_module_version": "1.2.0",
     "model_name": "LayoutModel",
     "state": {
      "_model_module": "@jupyter-widgets/base",
      "_model_module_version": "1.2.0",
      "_model_name": "LayoutModel",
      "_view_count": null,
      "_view_module": "@jupyter-widgets/base",
      "_view_module_version": "1.2.0",
      "_view_name": "LayoutView",
      "align_content": null,
      "align_items": null,
      "align_self": null,
      "border": null,
      "bottom": null,
      "display": null,
      "flex": null,
      "flex_flow": null,
      "grid_area": null,
      "grid_auto_columns": null,
      "grid_auto_flow": null,
      "grid_auto_rows": null,
      "grid_column": null,
      "grid_gap": null,
      "grid_row": null,
      "grid_template_areas": null,
      "grid_template_columns": null,
      "grid_template_rows": null,
      "height": null,
      "justify_content": null,
      "justify_items": null,
      "left": null,
      "margin": null,
      "max_height": null,
      "max_width": null,
      "min_height": null,
      "min_width": null,
      "object_fit": null,
      "object_position": null,
      "order": null,
      "overflow": null,
      "overflow_x": null,
      "overflow_y": null,
      "padding": null,
      "right": null,
      "top": null,
      "visibility": null,
      "width": null
     }
    },
    "8921132b93914b828b166a67464d4a76": {
     "model_module": "@jupyter-widgets/controls",
     "model_module_version": "1.5.0",
     "model_name": "FloatProgressModel",
     "state": {
      "_dom_classes": [],
      "_model_module": "@jupyter-widgets/controls",
      "_model_module_version": "1.5.0",
      "_model_name": "FloatProgressModel",
      "_view_count": null,
      "_view_module": "@jupyter-widgets/controls",
      "_view_module_version": "1.5.0",
      "_view_name": "ProgressView",
      "bar_style": "success",
      "description": "",
      "description_tooltip": null,
      "layout": "IPY_MODEL_361e12c21e7346b5b6d289a3da88352e",
      "max": 466062,
      "min": 0,
      "orientation": "horizontal",
      "style": "IPY_MODEL_2feafb95310a4eabab43d27af9df5b68",
      "value": 466062
     }
    },
    "89441c396da540bcbaf89ba978c9092d": {
     "model_module": "@jupyter-widgets/base",
     "model_module_version": "1.2.0",
     "model_name": "LayoutModel",
     "state": {
      "_model_module": "@jupyter-widgets/base",
      "_model_module_version": "1.2.0",
      "_model_name": "LayoutModel",
      "_view_count": null,
      "_view_module": "@jupyter-widgets/base",
      "_view_module_version": "1.2.0",
      "_view_name": "LayoutView",
      "align_content": null,
      "align_items": null,
      "align_self": null,
      "border": null,
      "bottom": null,
      "display": null,
      "flex": null,
      "flex_flow": null,
      "grid_area": null,
      "grid_auto_columns": null,
      "grid_auto_flow": null,
      "grid_auto_rows": null,
      "grid_column": null,
      "grid_gap": null,
      "grid_row": null,
      "grid_template_areas": null,
      "grid_template_columns": null,
      "grid_template_rows": null,
      "height": null,
      "justify_content": null,
      "justify_items": null,
      "left": null,
      "margin": null,
      "max_height": null,
      "max_width": null,
      "min_height": null,
      "min_width": null,
      "object_fit": null,
      "object_position": null,
      "order": null,
      "overflow": null,
      "overflow_x": null,
      "overflow_y": null,
      "padding": null,
      "right": null,
      "top": null,
      "visibility": null,
      "width": null
     }
    },
    "8ae923ecd0b740a79c427f8d2214c872": {
     "model_module": "@jupyter-widgets/base",
     "model_module_version": "1.2.0",
     "model_name": "LayoutModel",
     "state": {
      "_model_module": "@jupyter-widgets/base",
      "_model_module_version": "1.2.0",
      "_model_name": "LayoutModel",
      "_view_count": null,
      "_view_module": "@jupyter-widgets/base",
      "_view_module_version": "1.2.0",
      "_view_name": "LayoutView",
      "align_content": null,
      "align_items": null,
      "align_self": null,
      "border": null,
      "bottom": null,
      "display": null,
      "flex": null,
      "flex_flow": null,
      "grid_area": null,
      "grid_auto_columns": null,
      "grid_auto_flow": null,
      "grid_auto_rows": null,
      "grid_column": null,
      "grid_gap": null,
      "grid_row": null,
      "grid_template_areas": null,
      "grid_template_columns": null,
      "grid_template_rows": null,
      "height": null,
      "justify_content": null,
      "justify_items": null,
      "left": null,
      "margin": null,
      "max_height": null,
      "max_width": null,
      "min_height": null,
      "min_width": null,
      "object_fit": null,
      "object_position": null,
      "order": null,
      "overflow": null,
      "overflow_x": null,
      "overflow_y": null,
      "padding": null,
      "right": null,
      "top": null,
      "visibility": null,
      "width": null
     }
    },
    "8d9ba5631e364abb98022c10c28fe272": {
     "model_module": "@jupyter-widgets/base",
     "model_module_version": "1.2.0",
     "model_name": "LayoutModel",
     "state": {
      "_model_module": "@jupyter-widgets/base",
      "_model_module_version": "1.2.0",
      "_model_name": "LayoutModel",
      "_view_count": null,
      "_view_module": "@jupyter-widgets/base",
      "_view_module_version": "1.2.0",
      "_view_name": "LayoutView",
      "align_content": null,
      "align_items": null,
      "align_self": null,
      "border": null,
      "bottom": null,
      "display": null,
      "flex": null,
      "flex_flow": null,
      "grid_area": null,
      "grid_auto_columns": null,
      "grid_auto_flow": null,
      "grid_auto_rows": null,
      "grid_column": null,
      "grid_gap": null,
      "grid_row": null,
      "grid_template_areas": null,
      "grid_template_columns": null,
      "grid_template_rows": null,
      "height": null,
      "justify_content": null,
      "justify_items": null,
      "left": null,
      "margin": null,
      "max_height": null,
      "max_width": null,
      "min_height": null,
      "min_width": null,
      "object_fit": null,
      "object_position": null,
      "order": null,
      "overflow": null,
      "overflow_x": null,
      "overflow_y": null,
      "padding": null,
      "right": null,
      "top": null,
      "visibility": null,
      "width": null
     }
    },
    "8e6558e879ec49ad939ea21cc941aac3": {
     "model_module": "@jupyter-widgets/controls",
     "model_module_version": "1.5.0",
     "model_name": "ProgressStyleModel",
     "state": {
      "_model_module": "@jupyter-widgets/controls",
      "_model_module_version": "1.5.0",
      "_model_name": "ProgressStyleModel",
      "_view_count": null,
      "_view_module": "@jupyter-widgets/base",
      "_view_module_version": "1.2.0",
      "_view_name": "StyleView",
      "bar_color": null,
      "description_width": ""
     }
    },
    "8f6dd13afce64a7787d585ec90a85fc6": {
     "model_module": "@jupyter-widgets/base",
     "model_module_version": "1.2.0",
     "model_name": "LayoutModel",
     "state": {
      "_model_module": "@jupyter-widgets/base",
      "_model_module_version": "1.2.0",
      "_model_name": "LayoutModel",
      "_view_count": null,
      "_view_module": "@jupyter-widgets/base",
      "_view_module_version": "1.2.0",
      "_view_name": "LayoutView",
      "align_content": null,
      "align_items": null,
      "align_self": null,
      "border": null,
      "bottom": null,
      "display": null,
      "flex": null,
      "flex_flow": null,
      "grid_area": null,
      "grid_auto_columns": null,
      "grid_auto_flow": null,
      "grid_auto_rows": null,
      "grid_column": null,
      "grid_gap": null,
      "grid_row": null,
      "grid_template_areas": null,
      "grid_template_columns": null,
      "grid_template_rows": null,
      "height": null,
      "justify_content": null,
      "justify_items": null,
      "left": null,
      "margin": null,
      "max_height": null,
      "max_width": null,
      "min_height": null,
      "min_width": null,
      "object_fit": null,
      "object_position": null,
      "order": null,
      "overflow": null,
      "overflow_x": null,
      "overflow_y": null,
      "padding": null,
      "right": null,
      "top": null,
      "visibility": null,
      "width": null
     }
    },
    "8fb2e73d875a4e71a82b7e0e8e5a6733": {
     "model_module": "@jupyter-widgets/base",
     "model_module_version": "1.2.0",
     "model_name": "LayoutModel",
     "state": {
      "_model_module": "@jupyter-widgets/base",
      "_model_module_version": "1.2.0",
      "_model_name": "LayoutModel",
      "_view_count": null,
      "_view_module": "@jupyter-widgets/base",
      "_view_module_version": "1.2.0",
      "_view_name": "LayoutView",
      "align_content": null,
      "align_items": null,
      "align_self": null,
      "border": null,
      "bottom": null,
      "display": null,
      "flex": null,
      "flex_flow": null,
      "grid_area": null,
      "grid_auto_columns": null,
      "grid_auto_flow": null,
      "grid_auto_rows": null,
      "grid_column": null,
      "grid_gap": null,
      "grid_row": null,
      "grid_template_areas": null,
      "grid_template_columns": null,
      "grid_template_rows": null,
      "height": null,
      "justify_content": null,
      "justify_items": null,
      "left": null,
      "margin": null,
      "max_height": null,
      "max_width": null,
      "min_height": null,
      "min_width": null,
      "object_fit": null,
      "object_position": null,
      "order": null,
      "overflow": null,
      "overflow_x": null,
      "overflow_y": null,
      "padding": null,
      "right": null,
      "top": null,
      "visibility": null,
      "width": null
     }
    },
    "9484543c6d9945db912b85457d470a3a": {
     "model_module": "@jupyter-widgets/controls",
     "model_module_version": "1.5.0",
     "model_name": "DescriptionStyleModel",
     "state": {
      "_model_module": "@jupyter-widgets/controls",
      "_model_module_version": "1.5.0",
      "_model_name": "DescriptionStyleModel",
      "_view_count": null,
      "_view_module": "@jupyter-widgets/base",
      "_view_module_version": "1.2.0",
      "_view_name": "StyleView",
      "description_width": ""
     }
    },
    "94fba9fd5769423ab7f7e494334271e3": {
     "model_module": "@jupyter-widgets/controls",
     "model_module_version": "1.5.0",
     "model_name": "HTMLModel",
     "state": {
      "_dom_classes": [],
      "_model_module": "@jupyter-widgets/controls",
      "_model_module_version": "1.5.0",
      "_model_name": "HTMLModel",
      "_view_count": null,
      "_view_module": "@jupyter-widgets/controls",
      "_view_module_version": "1.5.0",
      "_view_name": "HTMLView",
      "description": "",
      "description_tooltip": null,
      "layout": "IPY_MODEL_8887cc26baa34e2094eeddfc632d98f1",
      "placeholder": "​",
      "style": "IPY_MODEL_cc8f922c4ebe43c398acb72528658059",
      "value": " 7.59k/7.59k [00:00&lt;00:00, 512kB/s]"
     }
    },
    "962ea6eed5874d1dbe14f2a711d5276a": {
     "model_module": "@jupyter-widgets/controls",
     "model_module_version": "1.5.0",
     "model_name": "HTMLModel",
     "state": {
      "_dom_classes": [],
      "_model_module": "@jupyter-widgets/controls",
      "_model_module_version": "1.5.0",
      "_model_name": "HTMLModel",
      "_view_count": null,
      "_view_module": "@jupyter-widgets/controls",
      "_view_module_version": "1.5.0",
      "_view_name": "HTMLView",
      "description": "",
      "description_tooltip": null,
      "layout": "IPY_MODEL_9b816e3ed49f49268a58b4776992b844",
      "placeholder": "​",
      "style": "IPY_MODEL_1c79d1a188b94fd7a1c0ff3b94fedd1f",
      "value": "vocab.txt: 100%"
     }
    },
    "966e42fa315e41dcb663939d77d8ff6e": {
     "model_module": "@jupyter-widgets/controls",
     "model_module_version": "1.5.0",
     "model_name": "FloatProgressModel",
     "state": {
      "_dom_classes": [],
      "_model_module": "@jupyter-widgets/controls",
      "_model_module_version": "1.5.0",
      "_model_name": "FloatProgressModel",
      "_view_count": null,
      "_view_module": "@jupyter-widgets/controls",
      "_view_module_version": "1.5.0",
      "_view_name": "ProgressView",
      "bar_style": "success",
      "description": "",
      "description_tooltip": null,
      "layout": "IPY_MODEL_edb447561e1c4a049f7da7fe57c08676",
      "max": 687,
      "min": 0,
      "orientation": "horizontal",
      "style": "IPY_MODEL_647b9e91e69548f1afdd1d75dd4da1b0",
      "value": 687
     }
    },
    "96a59d6d27af46c99ea487b4bda641c4": {
     "model_module": "@jupyter-widgets/controls",
     "model_module_version": "1.5.0",
     "model_name": "DescriptionStyleModel",
     "state": {
      "_model_module": "@jupyter-widgets/controls",
      "_model_module_version": "1.5.0",
      "_model_name": "DescriptionStyleModel",
      "_view_count": null,
      "_view_module": "@jupyter-widgets/base",
      "_view_module_version": "1.2.0",
      "_view_name": "StyleView",
      "description_width": ""
     }
    },
    "97884e25d6654f56866f84f8d9b304b2": {
     "model_module": "@jupyter-widgets/controls",
     "model_module_version": "1.5.0",
     "model_name": "HTMLModel",
     "state": {
      "_dom_classes": [],
      "_model_module": "@jupyter-widgets/controls",
      "_model_module_version": "1.5.0",
      "_model_name": "HTMLModel",
      "_view_count": null,
      "_view_module": "@jupyter-widgets/controls",
      "_view_module_version": "1.5.0",
      "_view_name": "HTMLView",
      "description": "",
      "description_tooltip": null,
      "layout": "IPY_MODEL_1c5d4e1eccfc43bd85dc091d2bf234f3",
      "placeholder": "​",
      "style": "IPY_MODEL_28fb4346ed99480d8bcb707e55b82d72",
      "value": " 1000/1000 [00:07&lt;00:00, 133.44 examples/s]"
     }
    },
    "97ceeff4d6e54ceb91999d3ca443df5e": {
     "model_module": "@jupyter-widgets/controls",
     "model_module_version": "1.5.0",
     "model_name": "HTMLModel",
     "state": {
      "_dom_classes": [],
      "_model_module": "@jupyter-widgets/controls",
      "_model_module_version": "1.5.0",
      "_model_name": "HTMLModel",
      "_view_count": null,
      "_view_module": "@jupyter-widgets/controls",
      "_view_module_version": "1.5.0",
      "_view_name": "HTMLView",
      "description": "",
      "description_tooltip": null,
      "layout": "IPY_MODEL_43227ebe073d4e9e8b5c6ef433676371",
      "placeholder": "​",
      "style": "IPY_MODEL_5ffe0aec7400423ab65d84d058bdb719",
      "value": " 256/256 [00:00&lt;00:00, 14.0kB/s]"
     }
    },
    "98ddb94b43314a5c9cb666958be6a07d": {
     "model_module": "@jupyter-widgets/base",
     "model_module_version": "1.2.0",
     "model_name": "LayoutModel",
     "state": {
      "_model_module": "@jupyter-widgets/base",
      "_model_module_version": "1.2.0",
      "_model_name": "LayoutModel",
      "_view_count": null,
      "_view_module": "@jupyter-widgets/base",
      "_view_module_version": "1.2.0",
      "_view_name": "LayoutView",
      "align_content": null,
      "align_items": null,
      "align_self": null,
      "border": null,
      "bottom": null,
      "display": null,
      "flex": null,
      "flex_flow": null,
      "grid_area": null,
      "grid_auto_columns": null,
      "grid_auto_flow": null,
      "grid_auto_rows": null,
      "grid_column": null,
      "grid_gap": null,
      "grid_row": null,
      "grid_template_areas": null,
      "grid_template_columns": null,
      "grid_template_rows": null,
      "height": null,
      "justify_content": null,
      "justify_items": null,
      "left": null,
      "margin": null,
      "max_height": null,
      "max_width": null,
      "min_height": null,
      "min_width": null,
      "object_fit": null,
      "object_position": null,
      "order": null,
      "overflow": null,
      "overflow_x": null,
      "overflow_y": null,
      "padding": null,
      "right": null,
      "top": null,
      "visibility": null,
      "width": null
     }
    },
    "9a2087314e5d463c90ab3849d63d6ad3": {
     "model_module": "@jupyter-widgets/controls",
     "model_module_version": "1.5.0",
     "model_name": "ProgressStyleModel",
     "state": {
      "_model_module": "@jupyter-widgets/controls",
      "_model_module_version": "1.5.0",
      "_model_name": "ProgressStyleModel",
      "_view_count": null,
      "_view_module": "@jupyter-widgets/base",
      "_view_module_version": "1.2.0",
      "_view_name": "StyleView",
      "bar_color": null,
      "description_width": ""
     }
    },
    "9b816e3ed49f49268a58b4776992b844": {
     "model_module": "@jupyter-widgets/base",
     "model_module_version": "1.2.0",
     "model_name": "LayoutModel",
     "state": {
      "_model_module": "@jupyter-widgets/base",
      "_model_module_version": "1.2.0",
      "_model_name": "LayoutModel",
      "_view_count": null,
      "_view_module": "@jupyter-widgets/base",
      "_view_module_version": "1.2.0",
      "_view_name": "LayoutView",
      "align_content": null,
      "align_items": null,
      "align_self": null,
      "border": null,
      "bottom": null,
      "display": null,
      "flex": null,
      "flex_flow": null,
      "grid_area": null,
      "grid_auto_columns": null,
      "grid_auto_flow": null,
      "grid_auto_rows": null,
      "grid_column": null,
      "grid_gap": null,
      "grid_row": null,
      "grid_template_areas": null,
      "grid_template_columns": null,
      "grid_template_rows": null,
      "height": null,
      "justify_content": null,
      "justify_items": null,
      "left": null,
      "margin": null,
      "max_height": null,
      "max_width": null,
      "min_height": null,
      "min_width": null,
      "object_fit": null,
      "object_position": null,
      "order": null,
      "overflow": null,
      "overflow_x": null,
      "overflow_y": null,
      "padding": null,
      "right": null,
      "top": null,
      "visibility": null,
      "width": null
     }
    },
    "9c87195fd12244d6a6a466f09abf0690": {
     "model_module": "@jupyter-widgets/controls",
     "model_module_version": "1.5.0",
     "model_name": "DescriptionStyleModel",
     "state": {
      "_model_module": "@jupyter-widgets/controls",
      "_model_module_version": "1.5.0",
      "_model_name": "DescriptionStyleModel",
      "_view_count": null,
      "_view_module": "@jupyter-widgets/base",
      "_view_module_version": "1.2.0",
      "_view_name": "StyleView",
      "description_width": ""
     }
    },
    "9cc873b0972347f4b4248fd26d032b3c": {
     "model_module": "@jupyter-widgets/controls",
     "model_module_version": "1.5.0",
     "model_name": "HBoxModel",
     "state": {
      "_dom_classes": [],
      "_model_module": "@jupyter-widgets/controls",
      "_model_module_version": "1.5.0",
      "_model_name": "HBoxModel",
      "_view_count": null,
      "_view_module": "@jupyter-widgets/controls",
      "_view_module_version": "1.5.0",
      "_view_name": "HBoxView",
      "box_style": "",
      "children": [
       "IPY_MODEL_e5c567b4a85849f1ad3da01114726c9a",
       "IPY_MODEL_c2559a6de0de47b69aa222aa34750d59",
       "IPY_MODEL_c42ad7b3831d4ba9acf4fbc07d5d99c1"
      ],
      "layout": "IPY_MODEL_4b5c56fb9d1848b2af3cbe801cce51d9"
     }
    },
    "9d387038fe4f405d827335542061fdd3": {
     "model_module": "@jupyter-widgets/base",
     "model_module_version": "1.2.0",
     "model_name": "LayoutModel",
     "state": {
      "_model_module": "@jupyter-widgets/base",
      "_model_module_version": "1.2.0",
      "_model_name": "LayoutModel",
      "_view_count": null,
      "_view_module": "@jupyter-widgets/base",
      "_view_module_version": "1.2.0",
      "_view_name": "LayoutView",
      "align_content": null,
      "align_items": null,
      "align_self": null,
      "border": null,
      "bottom": null,
      "display": null,
      "flex": null,
      "flex_flow": null,
      "grid_area": null,
      "grid_auto_columns": null,
      "grid_auto_flow": null,
      "grid_auto_rows": null,
      "grid_column": null,
      "grid_gap": null,
      "grid_row": null,
      "grid_template_areas": null,
      "grid_template_columns": null,
      "grid_template_rows": null,
      "height": null,
      "justify_content": null,
      "justify_items": null,
      "left": null,
      "margin": null,
      "max_height": null,
      "max_width": null,
      "min_height": null,
      "min_width": null,
      "object_fit": null,
      "object_position": null,
      "order": null,
      "overflow": null,
      "overflow_x": null,
      "overflow_y": null,
      "padding": null,
      "right": null,
      "top": null,
      "visibility": null,
      "width": null
     }
    },
    "9e4ebff63d2b439fa6c6ec00bd560c02": {
     "model_module": "@jupyter-widgets/base",
     "model_module_version": "1.2.0",
     "model_name": "LayoutModel",
     "state": {
      "_model_module": "@jupyter-widgets/base",
      "_model_module_version": "1.2.0",
      "_model_name": "LayoutModel",
      "_view_count": null,
      "_view_module": "@jupyter-widgets/base",
      "_view_module_version": "1.2.0",
      "_view_name": "LayoutView",
      "align_content": null,
      "align_items": null,
      "align_self": null,
      "border": null,
      "bottom": null,
      "display": null,
      "flex": null,
      "flex_flow": null,
      "grid_area": null,
      "grid_auto_columns": null,
      "grid_auto_flow": null,
      "grid_auto_rows": null,
      "grid_column": null,
      "grid_gap": null,
      "grid_row": null,
      "grid_template_areas": null,
      "grid_template_columns": null,
      "grid_template_rows": null,
      "height": null,
      "justify_content": null,
      "justify_items": null,
      "left": null,
      "margin": null,
      "max_height": null,
      "max_width": null,
      "min_height": null,
      "min_width": null,
      "object_fit": null,
      "object_position": null,
      "order": null,
      "overflow": null,
      "overflow_x": null,
      "overflow_y": null,
      "padding": null,
      "right": null,
      "top": null,
      "visibility": null,
      "width": null
     }
    },
    "a0a3332f6d214063ab6168503c3d3415": {
     "model_module": "@jupyter-widgets/controls",
     "model_module_version": "1.5.0",
     "model_name": "ProgressStyleModel",
     "state": {
      "_model_module": "@jupyter-widgets/controls",
      "_model_module_version": "1.5.0",
      "_model_name": "ProgressStyleModel",
      "_view_count": null,
      "_view_module": "@jupyter-widgets/base",
      "_view_module_version": "1.2.0",
      "_view_name": "StyleView",
      "bar_color": null,
      "description_width": ""
     }
    },
    "a0b01ff9d9594480a50d387c490f924c": {
     "model_module": "@jupyter-widgets/controls",
     "model_module_version": "1.5.0",
     "model_name": "DescriptionStyleModel",
     "state": {
      "_model_module": "@jupyter-widgets/controls",
      "_model_module_version": "1.5.0",
      "_model_name": "DescriptionStyleModel",
      "_view_count": null,
      "_view_module": "@jupyter-widgets/base",
      "_view_module_version": "1.2.0",
      "_view_name": "StyleView",
      "description_width": ""
     }
    },
    "a2108aa85146422d86e1510d7721cd41": {
     "model_module": "@jupyter-widgets/base",
     "model_module_version": "1.2.0",
     "model_name": "LayoutModel",
     "state": {
      "_model_module": "@jupyter-widgets/base",
      "_model_module_version": "1.2.0",
      "_model_name": "LayoutModel",
      "_view_count": null,
      "_view_module": "@jupyter-widgets/base",
      "_view_module_version": "1.2.0",
      "_view_name": "LayoutView",
      "align_content": null,
      "align_items": null,
      "align_self": null,
      "border": null,
      "bottom": null,
      "display": null,
      "flex": null,
      "flex_flow": null,
      "grid_area": null,
      "grid_auto_columns": null,
      "grid_auto_flow": null,
      "grid_auto_rows": null,
      "grid_column": null,
      "grid_gap": null,
      "grid_row": null,
      "grid_template_areas": null,
      "grid_template_columns": null,
      "grid_template_rows": null,
      "height": null,
      "justify_content": null,
      "justify_items": null,
      "left": null,
      "margin": null,
      "max_height": null,
      "max_width": null,
      "min_height": null,
      "min_width": null,
      "object_fit": null,
      "object_position": null,
      "order": null,
      "overflow": null,
      "overflow_x": null,
      "overflow_y": null,
      "padding": null,
      "right": null,
      "top": null,
      "visibility": null,
      "width": null
     }
    },
    "a2de76f6cd3b4cd499a08b4051712c67": {
     "model_module": "@jupyter-widgets/base",
     "model_module_version": "1.2.0",
     "model_name": "LayoutModel",
     "state": {
      "_model_module": "@jupyter-widgets/base",
      "_model_module_version": "1.2.0",
      "_model_name": "LayoutModel",
      "_view_count": null,
      "_view_module": "@jupyter-widgets/base",
      "_view_module_version": "1.2.0",
      "_view_name": "LayoutView",
      "align_content": null,
      "align_items": null,
      "align_self": null,
      "border": null,
      "bottom": null,
      "display": null,
      "flex": null,
      "flex_flow": null,
      "grid_area": null,
      "grid_auto_columns": null,
      "grid_auto_flow": null,
      "grid_auto_rows": null,
      "grid_column": null,
      "grid_gap": null,
      "grid_row": null,
      "grid_template_areas": null,
      "grid_template_columns": null,
      "grid_template_rows": null,
      "height": null,
      "justify_content": null,
      "justify_items": null,
      "left": null,
      "margin": null,
      "max_height": null,
      "max_width": null,
      "min_height": null,
      "min_width": null,
      "object_fit": null,
      "object_position": null,
      "order": null,
      "overflow": null,
      "overflow_x": null,
      "overflow_y": null,
      "padding": null,
      "right": null,
      "top": null,
      "visibility": null,
      "width": null
     }
    },
    "a316c2dc80eb42c8b55560b237478eda": {
     "model_module": "@jupyter-widgets/controls",
     "model_module_version": "1.5.0",
     "model_name": "HBoxModel",
     "state": {
      "_dom_classes": [],
      "_model_module": "@jupyter-widgets/controls",
      "_model_module_version": "1.5.0",
      "_model_name": "HBoxModel",
      "_view_count": null,
      "_view_module": "@jupyter-widgets/controls",
      "_view_module_version": "1.5.0",
      "_view_name": "HBoxView",
      "box_style": "",
      "children": [
       "IPY_MODEL_da153d17247b47a2b83d2a4d3063aaf0",
       "IPY_MODEL_4fac09d7ab0b46d7897ebd80a91d3870",
       "IPY_MODEL_97884e25d6654f56866f84f8d9b304b2"
      ],
      "layout": "IPY_MODEL_fe1c2b1c773e44b4b7c00cf5881aac9e"
     }
    },
    "a3cb5a0de7af44b4bfd5f51a36ed8ea6": {
     "model_module": "@jupyter-widgets/controls",
     "model_module_version": "1.5.0",
     "model_name": "HTMLModel",
     "state": {
      "_dom_classes": [],
      "_model_module": "@jupyter-widgets/controls",
      "_model_module_version": "1.5.0",
      "_model_name": "HTMLModel",
      "_view_count": null,
      "_view_module": "@jupyter-widgets/controls",
      "_view_module_version": "1.5.0",
      "_view_name": "HTMLView",
      "description": "",
      "description_tooltip": null,
      "layout": "IPY_MODEL_e651afea30c945ecba49ee07b4bb2499",
      "placeholder": "​",
      "style": "IPY_MODEL_b1e43e0dccf24ae9be31ee30dc8bed05",
      "value": " 1000/1000 [00:06&lt;00:00, 162.00 examples/s]"
     }
    },
    "a4da2f64e2e84842ad18e20d77fdf45a": {
     "model_module": "@jupyter-widgets/base",
     "model_module_version": "1.2.0",
     "model_name": "LayoutModel",
     "state": {
      "_model_module": "@jupyter-widgets/base",
      "_model_module_version": "1.2.0",
      "_model_name": "LayoutModel",
      "_view_count": null,
      "_view_module": "@jupyter-widgets/base",
      "_view_module_version": "1.2.0",
      "_view_name": "LayoutView",
      "align_content": null,
      "align_items": null,
      "align_self": null,
      "border": null,
      "bottom": null,
      "display": null,
      "flex": null,
      "flex_flow": null,
      "grid_area": null,
      "grid_auto_columns": null,
      "grid_auto_flow": null,
      "grid_auto_rows": null,
      "grid_column": null,
      "grid_gap": null,
      "grid_row": null,
      "grid_template_areas": null,
      "grid_template_columns": null,
      "grid_template_rows": null,
      "height": null,
      "justify_content": null,
      "justify_items": null,
      "left": null,
      "margin": null,
      "max_height": null,
      "max_width": null,
      "min_height": null,
      "min_width": null,
      "object_fit": null,
      "object_position": null,
      "order": null,
      "overflow": null,
      "overflow_x": null,
      "overflow_y": null,
      "padding": null,
      "right": null,
      "top": null,
      "visibility": null,
      "width": null
     }
    },
    "a4f7cfa7f2b94fbd97cb5bd8ccca3c28": {
     "model_module": "@jupyter-widgets/controls",
     "model_module_version": "1.5.0",
     "model_name": "ProgressStyleModel",
     "state": {
      "_model_module": "@jupyter-widgets/controls",
      "_model_module_version": "1.5.0",
      "_model_name": "ProgressStyleModel",
      "_view_count": null,
      "_view_module": "@jupyter-widgets/base",
      "_view_module_version": "1.2.0",
      "_view_name": "StyleView",
      "bar_color": null,
      "description_width": ""
     }
    },
    "a75325b318f2421eac20039b24f38eca": {
     "model_module": "@jupyter-widgets/controls",
     "model_module_version": "1.5.0",
     "model_name": "HTMLModel",
     "state": {
      "_dom_classes": [],
      "_model_module": "@jupyter-widgets/controls",
      "_model_module_version": "1.5.0",
      "_model_name": "HTMLModel",
      "_view_count": null,
      "_view_module": "@jupyter-widgets/controls",
      "_view_module_version": "1.5.0",
      "_view_name": "HTMLView",
      "description": "",
      "description_tooltip": null,
      "layout": "IPY_MODEL_cd76dd807709482f8f04af9da72e5ba6",
      "placeholder": "​",
      "style": "IPY_MODEL_18284efdbd7848a8b420dc7e16b78d76",
      "value": "tokenizer.json: 100%"
     }
    },
    "a7c77ff578b94893a7bceee2a3c891fd": {
     "model_module": "@jupyter-widgets/base",
     "model_module_version": "1.2.0",
     "model_name": "LayoutModel",
     "state": {
      "_model_module": "@jupyter-widgets/base",
      "_model_module_version": "1.2.0",
      "_model_name": "LayoutModel",
      "_view_count": null,
      "_view_module": "@jupyter-widgets/base",
      "_view_module_version": "1.2.0",
      "_view_name": "LayoutView",
      "align_content": null,
      "align_items": null,
      "align_self": null,
      "border": null,
      "bottom": null,
      "display": null,
      "flex": null,
      "flex_flow": null,
      "grid_area": null,
      "grid_auto_columns": null,
      "grid_auto_flow": null,
      "grid_auto_rows": null,
      "grid_column": null,
      "grid_gap": null,
      "grid_row": null,
      "grid_template_areas": null,
      "grid_template_columns": null,
      "grid_template_rows": null,
      "height": null,
      "justify_content": null,
      "justify_items": null,
      "left": null,
      "margin": null,
      "max_height": null,
      "max_width": null,
      "min_height": null,
      "min_width": null,
      "object_fit": null,
      "object_position": null,
      "order": null,
      "overflow": null,
      "overflow_x": null,
      "overflow_y": null,
      "padding": null,
      "right": null,
      "top": null,
      "visibility": null,
      "width": null
     }
    },
    "a7ca60d17fe5454fa57f73f98ed13f43": {
     "model_module": "@jupyter-widgets/controls",
     "model_module_version": "1.5.0",
     "model_name": "HTMLModel",
     "state": {
      "_dom_classes": [],
      "_model_module": "@jupyter-widgets/controls",
      "_model_module_version": "1.5.0",
      "_model_name": "HTMLModel",
      "_view_count": null,
      "_view_module": "@jupyter-widgets/controls",
      "_view_module_version": "1.5.0",
      "_view_name": "HTMLView",
      "description": "",
      "description_tooltip": null,
      "layout": "IPY_MODEL_b58626301ef2491bac03490151c30869",
      "placeholder": "​",
      "style": "IPY_MODEL_b49cb5237fc5465ba08cef20c0ddc592",
      "value": " 4.31k/4.31k [00:00&lt;00:00, 234kB/s]"
     }
    },
    "a8634214cf364c57a7749275322fa0fa": {
     "model_module": "@jupyter-widgets/controls",
     "model_module_version": "1.5.0",
     "model_name": "HBoxModel",
     "state": {
      "_dom_classes": [],
      "_model_module": "@jupyter-widgets/controls",
      "_model_module_version": "1.5.0",
      "_model_name": "HBoxModel",
      "_view_count": null,
      "_view_module": "@jupyter-widgets/controls",
      "_view_module_version": "1.5.0",
      "_view_name": "HBoxView",
      "box_style": "",
      "children": [
       "IPY_MODEL_c811d65eeb1c4f29bf7e784fe885ef55",
       "IPY_MODEL_6222ec2c088244279e07627c4d5d64eb",
       "IPY_MODEL_a3cb5a0de7af44b4bfd5f51a36ed8ea6"
      ],
      "layout": "IPY_MODEL_0a1177eef58f4b1297ac6d5ccd4f389d"
     }
    },
    "a91997b3040e40dfb681979daa90e4dd": {
     "model_module": "@jupyter-widgets/base",
     "model_module_version": "1.2.0",
     "model_name": "LayoutModel",
     "state": {
      "_model_module": "@jupyter-widgets/base",
      "_model_module_version": "1.2.0",
      "_model_name": "LayoutModel",
      "_view_count": null,
      "_view_module": "@jupyter-widgets/base",
      "_view_module_version": "1.2.0",
      "_view_name": "LayoutView",
      "align_content": null,
      "align_items": null,
      "align_self": null,
      "border": null,
      "bottom": null,
      "display": null,
      "flex": null,
      "flex_flow": null,
      "grid_area": null,
      "grid_auto_columns": null,
      "grid_auto_flow": null,
      "grid_auto_rows": null,
      "grid_column": null,
      "grid_gap": null,
      "grid_row": null,
      "grid_template_areas": null,
      "grid_template_columns": null,
      "grid_template_rows": null,
      "height": null,
      "justify_content": null,
      "justify_items": null,
      "left": null,
      "margin": null,
      "max_height": null,
      "max_width": null,
      "min_height": null,
      "min_width": null,
      "object_fit": null,
      "object_position": null,
      "order": null,
      "overflow": null,
      "overflow_x": null,
      "overflow_y": null,
      "padding": null,
      "right": null,
      "top": null,
      "visibility": null,
      "width": null
     }
    },
    "aab35f9a078a4c2b99bc0db2c64f7880": {
     "model_module": "@jupyter-widgets/base",
     "model_module_version": "1.2.0",
     "model_name": "LayoutModel",
     "state": {
      "_model_module": "@jupyter-widgets/base",
      "_model_module_version": "1.2.0",
      "_model_name": "LayoutModel",
      "_view_count": null,
      "_view_module": "@jupyter-widgets/base",
      "_view_module_version": "1.2.0",
      "_view_name": "LayoutView",
      "align_content": null,
      "align_items": null,
      "align_self": null,
      "border": null,
      "bottom": null,
      "display": null,
      "flex": null,
      "flex_flow": null,
      "grid_area": null,
      "grid_auto_columns": null,
      "grid_auto_flow": null,
      "grid_auto_rows": null,
      "grid_column": null,
      "grid_gap": null,
      "grid_row": null,
      "grid_template_areas": null,
      "grid_template_columns": null,
      "grid_template_rows": null,
      "height": null,
      "justify_content": null,
      "justify_items": null,
      "left": null,
      "margin": null,
      "max_height": null,
      "max_width": null,
      "min_height": null,
      "min_width": null,
      "object_fit": null,
      "object_position": null,
      "order": null,
      "overflow": null,
      "overflow_x": null,
      "overflow_y": null,
      "padding": null,
      "right": null,
      "top": null,
      "visibility": null,
      "width": null
     }
    },
    "ab9967ad160843bba1cd90a7a8b610bc": {
     "model_module": "@jupyter-widgets/base",
     "model_module_version": "1.2.0",
     "model_name": "LayoutModel",
     "state": {
      "_model_module": "@jupyter-widgets/base",
      "_model_module_version": "1.2.0",
      "_model_name": "LayoutModel",
      "_view_count": null,
      "_view_module": "@jupyter-widgets/base",
      "_view_module_version": "1.2.0",
      "_view_name": "LayoutView",
      "align_content": null,
      "align_items": null,
      "align_self": null,
      "border": null,
      "bottom": null,
      "display": null,
      "flex": null,
      "flex_flow": null,
      "grid_area": null,
      "grid_auto_columns": null,
      "grid_auto_flow": null,
      "grid_auto_rows": null,
      "grid_column": null,
      "grid_gap": null,
      "grid_row": null,
      "grid_template_areas": null,
      "grid_template_columns": null,
      "grid_template_rows": null,
      "height": null,
      "justify_content": null,
      "justify_items": null,
      "left": null,
      "margin": null,
      "max_height": null,
      "max_width": null,
      "min_height": null,
      "min_width": null,
      "object_fit": null,
      "object_position": null,
      "order": null,
      "overflow": null,
      "overflow_x": null,
      "overflow_y": null,
      "padding": null,
      "right": null,
      "top": null,
      "visibility": null,
      "width": null
     }
    },
    "ad6ad5859f604d368ed61f4a137e888b": {
     "model_module": "@jupyter-widgets/base",
     "model_module_version": "1.2.0",
     "model_name": "LayoutModel",
     "state": {
      "_model_module": "@jupyter-widgets/base",
      "_model_module_version": "1.2.0",
      "_model_name": "LayoutModel",
      "_view_count": null,
      "_view_module": "@jupyter-widgets/base",
      "_view_module_version": "1.2.0",
      "_view_name": "LayoutView",
      "align_content": null,
      "align_items": null,
      "align_self": null,
      "border": null,
      "bottom": null,
      "display": null,
      "flex": null,
      "flex_flow": null,
      "grid_area": null,
      "grid_auto_columns": null,
      "grid_auto_flow": null,
      "grid_auto_rows": null,
      "grid_column": null,
      "grid_gap": null,
      "grid_row": null,
      "grid_template_areas": null,
      "grid_template_columns": null,
      "grid_template_rows": null,
      "height": null,
      "justify_content": null,
      "justify_items": null,
      "left": null,
      "margin": null,
      "max_height": null,
      "max_width": null,
      "min_height": null,
      "min_width": null,
      "object_fit": null,
      "object_position": null,
      "order": null,
      "overflow": null,
      "overflow_x": null,
      "overflow_y": null,
      "padding": null,
      "right": null,
      "top": null,
      "visibility": null,
      "width": null
     }
    },
    "ae07d59c574949e3a401e82f7d8302c8": {
     "model_module": "@jupyter-widgets/controls",
     "model_module_version": "1.5.0",
     "model_name": "ProgressStyleModel",
     "state": {
      "_model_module": "@jupyter-widgets/controls",
      "_model_module_version": "1.5.0",
      "_model_name": "ProgressStyleModel",
      "_view_count": null,
      "_view_module": "@jupyter-widgets/base",
      "_view_module_version": "1.2.0",
      "_view_name": "StyleView",
      "bar_color": null,
      "description_width": ""
     }
    },
    "ae9d3a0394ed4e9ca9e17abda4f3f7bb": {
     "model_module": "@jupyter-widgets/controls",
     "model_module_version": "1.5.0",
     "model_name": "DescriptionStyleModel",
     "state": {
      "_model_module": "@jupyter-widgets/controls",
      "_model_module_version": "1.5.0",
      "_model_name": "DescriptionStyleModel",
      "_view_count": null,
      "_view_module": "@jupyter-widgets/base",
      "_view_module_version": "1.2.0",
      "_view_name": "StyleView",
      "description_width": ""
     }
    },
    "b1e43e0dccf24ae9be31ee30dc8bed05": {
     "model_module": "@jupyter-widgets/controls",
     "model_module_version": "1.5.0",
     "model_name": "DescriptionStyleModel",
     "state": {
      "_model_module": "@jupyter-widgets/controls",
      "_model_module_version": "1.5.0",
      "_model_name": "DescriptionStyleModel",
      "_view_count": null,
      "_view_module": "@jupyter-widgets/base",
      "_view_module_version": "1.2.0",
      "_view_name": "StyleView",
      "description_width": ""
     }
    },
    "b3d4fddd949b4d5aac119f1072972545": {
     "model_module": "@jupyter-widgets/base",
     "model_module_version": "1.2.0",
     "model_name": "LayoutModel",
     "state": {
      "_model_module": "@jupyter-widgets/base",
      "_model_module_version": "1.2.0",
      "_model_name": "LayoutModel",
      "_view_count": null,
      "_view_module": "@jupyter-widgets/base",
      "_view_module_version": "1.2.0",
      "_view_name": "LayoutView",
      "align_content": null,
      "align_items": null,
      "align_self": null,
      "border": null,
      "bottom": null,
      "display": null,
      "flex": null,
      "flex_flow": null,
      "grid_area": null,
      "grid_auto_columns": null,
      "grid_auto_flow": null,
      "grid_auto_rows": null,
      "grid_column": null,
      "grid_gap": null,
      "grid_row": null,
      "grid_template_areas": null,
      "grid_template_columns": null,
      "grid_template_rows": null,
      "height": null,
      "justify_content": null,
      "justify_items": null,
      "left": null,
      "margin": null,
      "max_height": null,
      "max_width": null,
      "min_height": null,
      "min_width": null,
      "object_fit": null,
      "object_position": null,
      "order": null,
      "overflow": null,
      "overflow_x": null,
      "overflow_y": null,
      "padding": null,
      "right": null,
      "top": null,
      "visibility": null,
      "width": null
     }
    },
    "b439db7003734a9aace2d096bafa8e4a": {
     "model_module": "@jupyter-widgets/controls",
     "model_module_version": "1.5.0",
     "model_name": "DescriptionStyleModel",
     "state": {
      "_model_module": "@jupyter-widgets/controls",
      "_model_module_version": "1.5.0",
      "_model_name": "DescriptionStyleModel",
      "_view_count": null,
      "_view_module": "@jupyter-widgets/base",
      "_view_module_version": "1.2.0",
      "_view_name": "StyleView",
      "description_width": ""
     }
    },
    "b49cb5237fc5465ba08cef20c0ddc592": {
     "model_module": "@jupyter-widgets/controls",
     "model_module_version": "1.5.0",
     "model_name": "DescriptionStyleModel",
     "state": {
      "_model_module": "@jupyter-widgets/controls",
      "_model_module_version": "1.5.0",
      "_model_name": "DescriptionStyleModel",
      "_view_count": null,
      "_view_module": "@jupyter-widgets/base",
      "_view_module_version": "1.2.0",
      "_view_name": "StyleView",
      "description_width": ""
     }
    },
    "b5431481d895482fb9b367659d6f372a": {
     "model_module": "@jupyter-widgets/base",
     "model_module_version": "1.2.0",
     "model_name": "LayoutModel",
     "state": {
      "_model_module": "@jupyter-widgets/base",
      "_model_module_version": "1.2.0",
      "_model_name": "LayoutModel",
      "_view_count": null,
      "_view_module": "@jupyter-widgets/base",
      "_view_module_version": "1.2.0",
      "_view_name": "LayoutView",
      "align_content": null,
      "align_items": null,
      "align_self": null,
      "border": null,
      "bottom": null,
      "display": null,
      "flex": null,
      "flex_flow": null,
      "grid_area": null,
      "grid_auto_columns": null,
      "grid_auto_flow": null,
      "grid_auto_rows": null,
      "grid_column": null,
      "grid_gap": null,
      "grid_row": null,
      "grid_template_areas": null,
      "grid_template_columns": null,
      "grid_template_rows": null,
      "height": null,
      "justify_content": null,
      "justify_items": null,
      "left": null,
      "margin": null,
      "max_height": null,
      "max_width": null,
      "min_height": null,
      "min_width": null,
      "object_fit": null,
      "object_position": null,
      "order": null,
      "overflow": null,
      "overflow_x": null,
      "overflow_y": null,
      "padding": null,
      "right": null,
      "top": null,
      "visibility": null,
      "width": null
     }
    },
    "b58626301ef2491bac03490151c30869": {
     "model_module": "@jupyter-widgets/base",
     "model_module_version": "1.2.0",
     "model_name": "LayoutModel",
     "state": {
      "_model_module": "@jupyter-widgets/base",
      "_model_module_version": "1.2.0",
      "_model_name": "LayoutModel",
      "_view_count": null,
      "_view_module": "@jupyter-widgets/base",
      "_view_module_version": "1.2.0",
      "_view_name": "LayoutView",
      "align_content": null,
      "align_items": null,
      "align_self": null,
      "border": null,
      "bottom": null,
      "display": null,
      "flex": null,
      "flex_flow": null,
      "grid_area": null,
      "grid_auto_columns": null,
      "grid_auto_flow": null,
      "grid_auto_rows": null,
      "grid_column": null,
      "grid_gap": null,
      "grid_row": null,
      "grid_template_areas": null,
      "grid_template_columns": null,
      "grid_template_rows": null,
      "height": null,
      "justify_content": null,
      "justify_items": null,
      "left": null,
      "margin": null,
      "max_height": null,
      "max_width": null,
      "min_height": null,
      "min_width": null,
      "object_fit": null,
      "object_position": null,
      "order": null,
      "overflow": null,
      "overflow_x": null,
      "overflow_y": null,
      "padding": null,
      "right": null,
      "top": null,
      "visibility": null,
      "width": null
     }
    },
    "b774f7657d08438187b388085bd0596a": {
     "model_module": "@jupyter-widgets/controls",
     "model_module_version": "1.5.0",
     "model_name": "DescriptionStyleModel",
     "state": {
      "_model_module": "@jupyter-widgets/controls",
      "_model_module_version": "1.5.0",
      "_model_name": "DescriptionStyleModel",
      "_view_count": null,
      "_view_module": "@jupyter-widgets/base",
      "_view_module_version": "1.2.0",
      "_view_name": "StyleView",
      "description_width": ""
     }
    },
    "b7a294ab7e224be3b9f646fce65de565": {
     "model_module": "@jupyter-widgets/base",
     "model_module_version": "1.2.0",
     "model_name": "LayoutModel",
     "state": {
      "_model_module": "@jupyter-widgets/base",
      "_model_module_version": "1.2.0",
      "_model_name": "LayoutModel",
      "_view_count": null,
      "_view_module": "@jupyter-widgets/base",
      "_view_module_version": "1.2.0",
      "_view_name": "LayoutView",
      "align_content": null,
      "align_items": null,
      "align_self": null,
      "border": null,
      "bottom": null,
      "display": null,
      "flex": null,
      "flex_flow": null,
      "grid_area": null,
      "grid_auto_columns": null,
      "grid_auto_flow": null,
      "grid_auto_rows": null,
      "grid_column": null,
      "grid_gap": null,
      "grid_row": null,
      "grid_template_areas": null,
      "grid_template_columns": null,
      "grid_template_rows": null,
      "height": null,
      "justify_content": null,
      "justify_items": null,
      "left": null,
      "margin": null,
      "max_height": null,
      "max_width": null,
      "min_height": null,
      "min_width": null,
      "object_fit": null,
      "object_position": null,
      "order": null,
      "overflow": null,
      "overflow_x": null,
      "overflow_y": null,
      "padding": null,
      "right": null,
      "top": null,
      "visibility": null,
      "width": null
     }
    },
    "b96ff5f163c74328a6389f772671b3e5": {
     "model_module": "@jupyter-widgets/base",
     "model_module_version": "1.2.0",
     "model_name": "LayoutModel",
     "state": {
      "_model_module": "@jupyter-widgets/base",
      "_model_module_version": "1.2.0",
      "_model_name": "LayoutModel",
      "_view_count": null,
      "_view_module": "@jupyter-widgets/base",
      "_view_module_version": "1.2.0",
      "_view_name": "LayoutView",
      "align_content": null,
      "align_items": null,
      "align_self": null,
      "border": null,
      "bottom": null,
      "display": null,
      "flex": null,
      "flex_flow": null,
      "grid_area": null,
      "grid_auto_columns": null,
      "grid_auto_flow": null,
      "grid_auto_rows": null,
      "grid_column": null,
      "grid_gap": null,
      "grid_row": null,
      "grid_template_areas": null,
      "grid_template_columns": null,
      "grid_template_rows": null,
      "height": null,
      "justify_content": null,
      "justify_items": null,
      "left": null,
      "margin": null,
      "max_height": null,
      "max_width": null,
      "min_height": null,
      "min_width": null,
      "object_fit": null,
      "object_position": null,
      "order": null,
      "overflow": null,
      "overflow_x": null,
      "overflow_y": null,
      "padding": null,
      "right": null,
      "top": null,
      "visibility": null,
      "width": null
     }
    },
    "be2430fcc92a40338c34d8faffc09815": {
     "model_module": "@jupyter-widgets/controls",
     "model_module_version": "1.5.0",
     "model_name": "HBoxModel",
     "state": {
      "_dom_classes": [],
      "_model_module": "@jupyter-widgets/controls",
      "_model_module_version": "1.5.0",
      "_model_name": "HBoxModel",
      "_view_count": null,
      "_view_module": "@jupyter-widgets/controls",
      "_view_module_version": "1.5.0",
      "_view_name": "HBoxView",
      "box_style": "",
      "children": [
       "IPY_MODEL_3544a54772c340ceb75741e7ca6959e3",
       "IPY_MODEL_c6839264cc85464297196c1e17e8ea2c",
       "IPY_MODEL_2106137fde3d468da962009ecae3364b"
      ],
      "layout": "IPY_MODEL_d92d0c09336c4503887bb321dc900241"
     }
    },
    "bf86ecb8744147e79d31f368ad9800d9": {
     "model_module": "@jupyter-widgets/base",
     "model_module_version": "1.2.0",
     "model_name": "LayoutModel",
     "state": {
      "_model_module": "@jupyter-widgets/base",
      "_model_module_version": "1.2.0",
      "_model_name": "LayoutModel",
      "_view_count": null,
      "_view_module": "@jupyter-widgets/base",
      "_view_module_version": "1.2.0",
      "_view_name": "LayoutView",
      "align_content": null,
      "align_items": null,
      "align_self": null,
      "border": null,
      "bottom": null,
      "display": null,
      "flex": null,
      "flex_flow": null,
      "grid_area": null,
      "grid_auto_columns": null,
      "grid_auto_flow": null,
      "grid_auto_rows": null,
      "grid_column": null,
      "grid_gap": null,
      "grid_row": null,
      "grid_template_areas": null,
      "grid_template_columns": null,
      "grid_template_rows": null,
      "height": null,
      "justify_content": null,
      "justify_items": null,
      "left": null,
      "margin": null,
      "max_height": null,
      "max_width": null,
      "min_height": null,
      "min_width": null,
      "object_fit": null,
      "object_position": null,
      "order": null,
      "overflow": null,
      "overflow_x": null,
      "overflow_y": null,
      "padding": null,
      "right": null,
      "top": null,
      "visibility": null,
      "width": null
     }
    },
    "bfb01b8abd594aad846a2cbe769af530": {
     "model_module": "@jupyter-widgets/base",
     "model_module_version": "1.2.0",
     "model_name": "LayoutModel",
     "state": {
      "_model_module": "@jupyter-widgets/base",
      "_model_module_version": "1.2.0",
      "_model_name": "LayoutModel",
      "_view_count": null,
      "_view_module": "@jupyter-widgets/base",
      "_view_module_version": "1.2.0",
      "_view_name": "LayoutView",
      "align_content": null,
      "align_items": null,
      "align_self": null,
      "border": null,
      "bottom": null,
      "display": null,
      "flex": null,
      "flex_flow": null,
      "grid_area": null,
      "grid_auto_columns": null,
      "grid_auto_flow": null,
      "grid_auto_rows": null,
      "grid_column": null,
      "grid_gap": null,
      "grid_row": null,
      "grid_template_areas": null,
      "grid_template_columns": null,
      "grid_template_rows": null,
      "height": null,
      "justify_content": null,
      "justify_items": null,
      "left": null,
      "margin": null,
      "max_height": null,
      "max_width": null,
      "min_height": null,
      "min_width": null,
      "object_fit": null,
      "object_position": null,
      "order": null,
      "overflow": null,
      "overflow_x": null,
      "overflow_y": null,
      "padding": null,
      "right": null,
      "top": null,
      "visibility": null,
      "width": null
     }
    },
    "c04a55d072d6491d90d39713d025711f": {
     "model_module": "@jupyter-widgets/controls",
     "model_module_version": "1.5.0",
     "model_name": "DescriptionStyleModel",
     "state": {
      "_model_module": "@jupyter-widgets/controls",
      "_model_module_version": "1.5.0",
      "_model_name": "DescriptionStyleModel",
      "_view_count": null,
      "_view_module": "@jupyter-widgets/base",
      "_view_module_version": "1.2.0",
      "_view_name": "StyleView",
      "description_width": ""
     }
    },
    "c23207db59de4a79841de513f0a6d504": {
     "model_module": "@jupyter-widgets/controls",
     "model_module_version": "1.5.0",
     "model_name": "ProgressStyleModel",
     "state": {
      "_model_module": "@jupyter-widgets/controls",
      "_model_module_version": "1.5.0",
      "_model_name": "ProgressStyleModel",
      "_view_count": null,
      "_view_module": "@jupyter-widgets/base",
      "_view_module_version": "1.2.0",
      "_view_name": "StyleView",
      "bar_color": null,
      "description_width": ""
     }
    },
    "c2559a6de0de47b69aa222aa34750d59": {
     "model_module": "@jupyter-widgets/controls",
     "model_module_version": "1.5.0",
     "model_name": "FloatProgressModel",
     "state": {
      "_dom_classes": [],
      "_model_module": "@jupyter-widgets/controls",
      "_model_module_version": "1.5.0",
      "_model_name": "FloatProgressModel",
      "_view_count": null,
      "_view_module": "@jupyter-widgets/controls",
      "_view_module_version": "1.5.0",
      "_view_name": "ProgressView",
      "bar_style": "success",
      "description": "",
      "description_tooltip": null,
      "layout": "IPY_MODEL_142ce17fee694268ab980187edd5c686",
      "max": 570,
      "min": 0,
      "orientation": "horizontal",
      "style": "IPY_MODEL_f4729ede56d34ac7a44a8e3a85146cc1",
      "value": 570
     }
    },
    "c2b368ae063845a3b2b582f693f2d814": {
     "model_module": "@jupyter-widgets/base",
     "model_module_version": "1.2.0",
     "model_name": "LayoutModel",
     "state": {
      "_model_module": "@jupyter-widgets/base",
      "_model_module_version": "1.2.0",
      "_model_name": "LayoutModel",
      "_view_count": null,
      "_view_module": "@jupyter-widgets/base",
      "_view_module_version": "1.2.0",
      "_view_name": "LayoutView",
      "align_content": null,
      "align_items": null,
      "align_self": null,
      "border": null,
      "bottom": null,
      "display": null,
      "flex": null,
      "flex_flow": null,
      "grid_area": null,
      "grid_auto_columns": null,
      "grid_auto_flow": null,
      "grid_auto_rows": null,
      "grid_column": null,
      "grid_gap": null,
      "grid_row": null,
      "grid_template_areas": null,
      "grid_template_columns": null,
      "grid_template_rows": null,
      "height": null,
      "justify_content": null,
      "justify_items": null,
      "left": null,
      "margin": null,
      "max_height": null,
      "max_width": null,
      "min_height": null,
      "min_width": null,
      "object_fit": null,
      "object_position": null,
      "order": null,
      "overflow": null,
      "overflow_x": null,
      "overflow_y": null,
      "padding": null,
      "right": null,
      "top": null,
      "visibility": null,
      "width": null
     }
    },
    "c310635f54b1457d80eb4e1f27350e67": {
     "model_module": "@jupyter-widgets/controls",
     "model_module_version": "1.5.0",
     "model_name": "ProgressStyleModel",
     "state": {
      "_model_module": "@jupyter-widgets/controls",
      "_model_module_version": "1.5.0",
      "_model_name": "ProgressStyleModel",
      "_view_count": null,
      "_view_module": "@jupyter-widgets/base",
      "_view_module_version": "1.2.0",
      "_view_name": "StyleView",
      "bar_color": null,
      "description_width": ""
     }
    },
    "c33cf43114e4430bbe411ca5cf5f07fd": {
     "model_module": "@jupyter-widgets/base",
     "model_module_version": "1.2.0",
     "model_name": "LayoutModel",
     "state": {
      "_model_module": "@jupyter-widgets/base",
      "_model_module_version": "1.2.0",
      "_model_name": "LayoutModel",
      "_view_count": null,
      "_view_module": "@jupyter-widgets/base",
      "_view_module_version": "1.2.0",
      "_view_name": "LayoutView",
      "align_content": null,
      "align_items": null,
      "align_self": null,
      "border": null,
      "bottom": null,
      "display": null,
      "flex": null,
      "flex_flow": null,
      "grid_area": null,
      "grid_auto_columns": null,
      "grid_auto_flow": null,
      "grid_auto_rows": null,
      "grid_column": null,
      "grid_gap": null,
      "grid_row": null,
      "grid_template_areas": null,
      "grid_template_columns": null,
      "grid_template_rows": null,
      "height": null,
      "justify_content": null,
      "justify_items": null,
      "left": null,
      "margin": null,
      "max_height": null,
      "max_width": null,
      "min_height": null,
      "min_width": null,
      "object_fit": null,
      "object_position": null,
      "order": null,
      "overflow": null,
      "overflow_x": null,
      "overflow_y": null,
      "padding": null,
      "right": null,
      "top": null,
      "visibility": null,
      "width": null
     }
    },
    "c3f677da2a8d4c0a965849abcd851df5": {
     "model_module": "@jupyter-widgets/base",
     "model_module_version": "1.2.0",
     "model_name": "LayoutModel",
     "state": {
      "_model_module": "@jupyter-widgets/base",
      "_model_module_version": "1.2.0",
      "_model_name": "LayoutModel",
      "_view_count": null,
      "_view_module": "@jupyter-widgets/base",
      "_view_module_version": "1.2.0",
      "_view_name": "LayoutView",
      "align_content": null,
      "align_items": null,
      "align_self": null,
      "border": null,
      "bottom": null,
      "display": null,
      "flex": null,
      "flex_flow": null,
      "grid_area": null,
      "grid_auto_columns": null,
      "grid_auto_flow": null,
      "grid_auto_rows": null,
      "grid_column": null,
      "grid_gap": null,
      "grid_row": null,
      "grid_template_areas": null,
      "grid_template_columns": null,
      "grid_template_rows": null,
      "height": null,
      "justify_content": null,
      "justify_items": null,
      "left": null,
      "margin": null,
      "max_height": null,
      "max_width": null,
      "min_height": null,
      "min_width": null,
      "object_fit": null,
      "object_position": null,
      "order": null,
      "overflow": null,
      "overflow_x": null,
      "overflow_y": null,
      "padding": null,
      "right": null,
      "top": null,
      "visibility": null,
      "width": null
     }
    },
    "c42ad7b3831d4ba9acf4fbc07d5d99c1": {
     "model_module": "@jupyter-widgets/controls",
     "model_module_version": "1.5.0",
     "model_name": "HTMLModel",
     "state": {
      "_dom_classes": [],
      "_model_module": "@jupyter-widgets/controls",
      "_model_module_version": "1.5.0",
      "_model_name": "HTMLModel",
      "_view_count": null,
      "_view_module": "@jupyter-widgets/controls",
      "_view_module_version": "1.5.0",
      "_view_name": "HTMLView",
      "description": "",
      "description_tooltip": null,
      "layout": "IPY_MODEL_9d387038fe4f405d827335542061fdd3",
      "placeholder": "​",
      "style": "IPY_MODEL_b439db7003734a9aace2d096bafa8e4a",
      "value": " 570/570 [00:00&lt;00:00, 33.6kB/s]"
     }
    },
    "c4c4f84aa78344bdbd3b0246c1613cfa": {
     "model_module": "@jupyter-widgets/base",
     "model_module_version": "1.2.0",
     "model_name": "LayoutModel",
     "state": {
      "_model_module": "@jupyter-widgets/base",
      "_model_module_version": "1.2.0",
      "_model_name": "LayoutModel",
      "_view_count": null,
      "_view_module": "@jupyter-widgets/base",
      "_view_module_version": "1.2.0",
      "_view_name": "LayoutView",
      "align_content": null,
      "align_items": null,
      "align_self": null,
      "border": null,
      "bottom": null,
      "display": null,
      "flex": null,
      "flex_flow": null,
      "grid_area": null,
      "grid_auto_columns": null,
      "grid_auto_flow": null,
      "grid_auto_rows": null,
      "grid_column": null,
      "grid_gap": null,
      "grid_row": null,
      "grid_template_areas": null,
      "grid_template_columns": null,
      "grid_template_rows": null,
      "height": null,
      "justify_content": null,
      "justify_items": null,
      "left": null,
      "margin": null,
      "max_height": null,
      "max_width": null,
      "min_height": null,
      "min_width": null,
      "object_fit": null,
      "object_position": null,
      "order": null,
      "overflow": null,
      "overflow_x": null,
      "overflow_y": null,
      "padding": null,
      "right": null,
      "top": null,
      "visibility": null,
      "width": null
     }
    },
    "c58cb098f5874c6b909aec192b3ee4d0": {
     "model_module": "@jupyter-widgets/controls",
     "model_module_version": "1.5.0",
     "model_name": "HTMLModel",
     "state": {
      "_dom_classes": [],
      "_model_module": "@jupyter-widgets/controls",
      "_model_module_version": "1.5.0",
      "_model_name": "HTMLModel",
      "_view_count": null,
      "_view_module": "@jupyter-widgets/controls",
      "_view_module_version": "1.5.0",
      "_view_name": "HTMLView",
      "description": "",
      "description_tooltip": null,
      "layout": "IPY_MODEL_23c104bed0ad4bf98d4ee899f002eb10",
      "placeholder": "​",
      "style": "IPY_MODEL_7db701826a9745f490fe95aa456e7a5f",
      "value": " 232k/232k [00:00&lt;00:00, 9.58MB/s]"
     }
    },
    "c5c35d8266ac4530a189b66d549843d3": {
     "model_module": "@jupyter-widgets/controls",
     "model_module_version": "1.5.0",
     "model_name": "FloatProgressModel",
     "state": {
      "_dom_classes": [],
      "_model_module": "@jupyter-widgets/controls",
      "_model_module_version": "1.5.0",
      "_model_name": "FloatProgressModel",
      "_view_count": null,
      "_view_module": "@jupyter-widgets/controls",
      "_view_module_version": "1.5.0",
      "_view_name": "ProgressView",
      "bar_style": "success",
      "description": "",
      "description_tooltip": null,
      "layout": "IPY_MODEL_c4c4f84aa78344bdbd3b0246c1613cfa",
      "max": 25000,
      "min": 0,
      "orientation": "horizontal",
      "style": "IPY_MODEL_0a6a4adeb1f54970862a345dd7ecf857",
      "value": 25000
     }
    },
    "c66a6674be7248c5a12c6df3f712dd88": {
     "model_module": "@jupyter-widgets/controls",
     "model_module_version": "1.5.0",
     "model_name": "ProgressStyleModel",
     "state": {
      "_model_module": "@jupyter-widgets/controls",
      "_model_module_version": "1.5.0",
      "_model_name": "ProgressStyleModel",
      "_view_count": null,
      "_view_module": "@jupyter-widgets/base",
      "_view_module_version": "1.2.0",
      "_view_name": "StyleView",
      "bar_color": null,
      "description_width": ""
     }
    },
    "c6839264cc85464297196c1e17e8ea2c": {
     "model_module": "@jupyter-widgets/controls",
     "model_module_version": "1.5.0",
     "model_name": "FloatProgressModel",
     "state": {
      "_dom_classes": [],
      "_model_module": "@jupyter-widgets/controls",
      "_model_module_version": "1.5.0",
      "_model_name": "FloatProgressModel",
      "_view_count": null,
      "_view_module": "@jupyter-widgets/controls",
      "_view_module_version": "1.5.0",
      "_view_name": "ProgressView",
      "bar_style": "success",
      "description": "",
      "description_tooltip": null,
      "layout": "IPY_MODEL_c3f677da2a8d4c0a965849abcd851df5",
      "max": 84125825,
      "min": 0,
      "orientation": "horizontal",
      "style": "IPY_MODEL_8e6558e879ec49ad939ea21cc941aac3",
      "value": 84125825
     }
    },
    "c6b5885e9e0e48578d2085f393e19606": {
     "model_module": "@jupyter-widgets/base",
     "model_module_version": "1.2.0",
     "model_name": "LayoutModel",
     "state": {
      "_model_module": "@jupyter-widgets/base",
      "_model_module_version": "1.2.0",
      "_model_name": "LayoutModel",
      "_view_count": null,
      "_view_module": "@jupyter-widgets/base",
      "_view_module_version": "1.2.0",
      "_view_name": "LayoutView",
      "align_content": null,
      "align_items": null,
      "align_self": null,
      "border": null,
      "bottom": null,
      "display": null,
      "flex": null,
      "flex_flow": null,
      "grid_area": null,
      "grid_auto_columns": null,
      "grid_auto_flow": null,
      "grid_auto_rows": null,
      "grid_column": null,
      "grid_gap": null,
      "grid_row": null,
      "grid_template_areas": null,
      "grid_template_columns": null,
      "grid_template_rows": null,
      "height": null,
      "justify_content": null,
      "justify_items": null,
      "left": null,
      "margin": null,
      "max_height": null,
      "max_width": null,
      "min_height": null,
      "min_width": null,
      "object_fit": null,
      "object_position": null,
      "order": null,
      "overflow": null,
      "overflow_x": null,
      "overflow_y": null,
      "padding": null,
      "right": null,
      "top": null,
      "visibility": null,
      "width": null
     }
    },
    "c6ffe6a4d449420788a2e2a16a7a5821": {
     "model_module": "@jupyter-widgets/controls",
     "model_module_version": "1.5.0",
     "model_name": "ProgressStyleModel",
     "state": {
      "_model_module": "@jupyter-widgets/controls",
      "_model_module_version": "1.5.0",
      "_model_name": "ProgressStyleModel",
      "_view_count": null,
      "_view_module": "@jupyter-widgets/base",
      "_view_module_version": "1.2.0",
      "_view_name": "StyleView",
      "bar_color": null,
      "description_width": ""
     }
    },
    "c752eefa359f4d91a2f2508667698b42": {
     "model_module": "@jupyter-widgets/base",
     "model_module_version": "1.2.0",
     "model_name": "LayoutModel",
     "state": {
      "_model_module": "@jupyter-widgets/base",
      "_model_module_version": "1.2.0",
      "_model_name": "LayoutModel",
      "_view_count": null,
      "_view_module": "@jupyter-widgets/base",
      "_view_module_version": "1.2.0",
      "_view_name": "LayoutView",
      "align_content": null,
      "align_items": null,
      "align_self": null,
      "border": null,
      "bottom": null,
      "display": null,
      "flex": null,
      "flex_flow": null,
      "grid_area": null,
      "grid_auto_columns": null,
      "grid_auto_flow": null,
      "grid_auto_rows": null,
      "grid_column": null,
      "grid_gap": null,
      "grid_row": null,
      "grid_template_areas": null,
      "grid_template_columns": null,
      "grid_template_rows": null,
      "height": null,
      "justify_content": null,
      "justify_items": null,
      "left": null,
      "margin": null,
      "max_height": null,
      "max_width": null,
      "min_height": null,
      "min_width": null,
      "object_fit": null,
      "object_position": null,
      "order": null,
      "overflow": null,
      "overflow_x": null,
      "overflow_y": null,
      "padding": null,
      "right": null,
      "top": null,
      "visibility": null,
      "width": null
     }
    },
    "c811d65eeb1c4f29bf7e784fe885ef55": {
     "model_module": "@jupyter-widgets/controls",
     "model_module_version": "1.5.0",
     "model_name": "HTMLModel",
     "state": {
      "_dom_classes": [],
      "_model_module": "@jupyter-widgets/controls",
      "_model_module_version": "1.5.0",
      "_model_name": "HTMLModel",
      "_view_count": null,
      "_view_module": "@jupyter-widgets/controls",
      "_view_module_version": "1.5.0",
      "_view_name": "HTMLView",
      "description": "",
      "description_tooltip": null,
      "layout": "IPY_MODEL_bfb01b8abd594aad846a2cbe769af530",
      "placeholder": "​",
      "style": "IPY_MODEL_051656786fee447eb816d548b52c558f",
      "value": "Map: 100%"
     }
    },
    "ca0821c092ea4a51ad7ee90e8162e60b": {
     "model_module": "@jupyter-widgets/controls",
     "model_module_version": "1.5.0",
     "model_name": "HBoxModel",
     "state": {
      "_dom_classes": [],
      "_model_module": "@jupyter-widgets/controls",
      "_model_module_version": "1.5.0",
      "_model_name": "HBoxModel",
      "_view_count": null,
      "_view_module": "@jupyter-widgets/controls",
      "_view_module_version": "1.5.0",
      "_view_name": "HBoxView",
      "box_style": "",
      "children": [
       "IPY_MODEL_f10191bcfde840fab430b3c7ad6ec035",
       "IPY_MODEL_57fa6a5c95774df2a425e8049a33ecf8",
       "IPY_MODEL_df8f741e976f42aab61565b36119cdcf"
      ],
      "layout": "IPY_MODEL_9e4ebff63d2b439fa6c6ec00bd560c02"
     }
    },
    "cc8f922c4ebe43c398acb72528658059": {
     "model_module": "@jupyter-widgets/controls",
     "model_module_version": "1.5.0",
     "model_name": "DescriptionStyleModel",
     "state": {
      "_model_module": "@jupyter-widgets/controls",
      "_model_module_version": "1.5.0",
      "_model_name": "DescriptionStyleModel",
      "_view_count": null,
      "_view_module": "@jupyter-widgets/base",
      "_view_module_version": "1.2.0",
      "_view_name": "StyleView",
      "description_width": ""
     }
    },
    "cd76dd807709482f8f04af9da72e5ba6": {
     "model_module": "@jupyter-widgets/base",
     "model_module_version": "1.2.0",
     "model_name": "LayoutModel",
     "state": {
      "_model_module": "@jupyter-widgets/base",
      "_model_module_version": "1.2.0",
      "_model_name": "LayoutModel",
      "_view_count": null,
      "_view_module": "@jupyter-widgets/base",
      "_view_module_version": "1.2.0",
      "_view_name": "LayoutView",
      "align_content": null,
      "align_items": null,
      "align_self": null,
      "border": null,
      "bottom": null,
      "display": null,
      "flex": null,
      "flex_flow": null,
      "grid_area": null,
      "grid_auto_columns": null,
      "grid_auto_flow": null,
      "grid_auto_rows": null,
      "grid_column": null,
      "grid_gap": null,
      "grid_row": null,
      "grid_template_areas": null,
      "grid_template_columns": null,
      "grid_template_rows": null,
      "height": null,
      "justify_content": null,
      "justify_items": null,
      "left": null,
      "margin": null,
      "max_height": null,
      "max_width": null,
      "min_height": null,
      "min_width": null,
      "object_fit": null,
      "object_position": null,
      "order": null,
      "overflow": null,
      "overflow_x": null,
      "overflow_y": null,
      "padding": null,
      "right": null,
      "top": null,
      "visibility": null,
      "width": null
     }
    },
    "d3389101e64a4c68b2033355d0c8450b": {
     "model_module": "@jupyter-widgets/controls",
     "model_module_version": "1.5.0",
     "model_name": "HTMLModel",
     "state": {
      "_dom_classes": [],
      "_model_module": "@jupyter-widgets/controls",
      "_model_module_version": "1.5.0",
      "_model_name": "HTMLModel",
      "_view_count": null,
      "_view_module": "@jupyter-widgets/controls",
      "_view_module_version": "1.5.0",
      "_view_name": "HTMLView",
      "description": "",
      "description_tooltip": null,
      "layout": "IPY_MODEL_20bf368c0c154d2ba16d70367d71680f",
      "placeholder": "​",
      "style": "IPY_MODEL_f5b016aca3fe4231a2af8b82a362239e",
      "value": " 440M/440M [00:01&lt;00:00, 229MB/s]"
     }
    },
    "d68004b5499c499aaa0c061b6481ef3e": {
     "model_module": "@jupyter-widgets/base",
     "model_module_version": "1.2.0",
     "model_name": "LayoutModel",
     "state": {
      "_model_module": "@jupyter-widgets/base",
      "_model_module_version": "1.2.0",
      "_model_name": "LayoutModel",
      "_view_count": null,
      "_view_module": "@jupyter-widgets/base",
      "_view_module_version": "1.2.0",
      "_view_name": "LayoutView",
      "align_content": null,
      "align_items": null,
      "align_self": null,
      "border": null,
      "bottom": null,
      "display": null,
      "flex": null,
      "flex_flow": null,
      "grid_area": null,
      "grid_auto_columns": null,
      "grid_auto_flow": null,
      "grid_auto_rows": null,
      "grid_column": null,
      "grid_gap": null,
      "grid_row": null,
      "grid_template_areas": null,
      "grid_template_columns": null,
      "grid_template_rows": null,
      "height": null,
      "justify_content": null,
      "justify_items": null,
      "left": null,
      "margin": null,
      "max_height": null,
      "max_width": null,
      "min_height": null,
      "min_width": null,
      "object_fit": null,
      "object_position": null,
      "order": null,
      "overflow": null,
      "overflow_x": null,
      "overflow_y": null,
      "padding": null,
      "right": null,
      "top": null,
      "visibility": null,
      "width": null
     }
    },
    "d6eceb3b0e5c43659dbf4515408a85bf": {
     "model_module": "@jupyter-widgets/controls",
     "model_module_version": "1.5.0",
     "model_name": "HTMLModel",
     "state": {
      "_dom_classes": [],
      "_model_module": "@jupyter-widgets/controls",
      "_model_module_version": "1.5.0",
      "_model_name": "HTMLModel",
      "_view_count": null,
      "_view_module": "@jupyter-widgets/controls",
      "_view_module_version": "1.5.0",
      "_view_name": "HTMLView",
      "description": "",
      "description_tooltip": null,
      "layout": "IPY_MODEL_8f6dd13afce64a7787d585ec90a85fc6",
      "placeholder": "​",
      "style": "IPY_MODEL_6cc12d3c2eb344c6a80bc21b624b934f",
      "value": " 50000/50000 [00:09&lt;00:00, 9344.87 examples/s]"
     }
    },
    "d92d0c09336c4503887bb321dc900241": {
     "model_module": "@jupyter-widgets/base",
     "model_module_version": "1.2.0",
     "model_name": "LayoutModel",
     "state": {
      "_model_module": "@jupyter-widgets/base",
      "_model_module_version": "1.2.0",
      "_model_name": "LayoutModel",
      "_view_count": null,
      "_view_module": "@jupyter-widgets/base",
      "_view_module_version": "1.2.0",
      "_view_name": "LayoutView",
      "align_content": null,
      "align_items": null,
      "align_self": null,
      "border": null,
      "bottom": null,
      "display": null,
      "flex": null,
      "flex_flow": null,
      "grid_area": null,
      "grid_auto_columns": null,
      "grid_auto_flow": null,
      "grid_auto_rows": null,
      "grid_column": null,
      "grid_gap": null,
      "grid_row": null,
      "grid_template_areas": null,
      "grid_template_columns": null,
      "grid_template_rows": null,
      "height": null,
      "justify_content": null,
      "justify_items": null,
      "left": null,
      "margin": null,
      "max_height": null,
      "max_width": null,
      "min_height": null,
      "min_width": null,
      "object_fit": null,
      "object_position": null,
      "order": null,
      "overflow": null,
      "overflow_x": null,
      "overflow_y": null,
      "padding": null,
      "right": null,
      "top": null,
      "visibility": null,
      "width": null
     }
    },
    "d953baf213324bd6a731cdc8a9e0d4df": {
     "model_module": "@jupyter-widgets/base",
     "model_module_version": "1.2.0",
     "model_name": "LayoutModel",
     "state": {
      "_model_module": "@jupyter-widgets/base",
      "_model_module_version": "1.2.0",
      "_model_name": "LayoutModel",
      "_view_count": null,
      "_view_module": "@jupyter-widgets/base",
      "_view_module_version": "1.2.0",
      "_view_name": "LayoutView",
      "align_content": null,
      "align_items": null,
      "align_self": null,
      "border": null,
      "bottom": null,
      "display": null,
      "flex": null,
      "flex_flow": null,
      "grid_area": null,
      "grid_auto_columns": null,
      "grid_auto_flow": null,
      "grid_auto_rows": null,
      "grid_column": null,
      "grid_gap": null,
      "grid_row": null,
      "grid_template_areas": null,
      "grid_template_columns": null,
      "grid_template_rows": null,
      "height": null,
      "justify_content": null,
      "justify_items": null,
      "left": null,
      "margin": null,
      "max_height": null,
      "max_width": null,
      "min_height": null,
      "min_width": null,
      "object_fit": null,
      "object_position": null,
      "order": null,
      "overflow": null,
      "overflow_x": null,
      "overflow_y": null,
      "padding": null,
      "right": null,
      "top": null,
      "visibility": null,
      "width": null
     }
    },
    "d9c0f80b1b9a43ef9d5c34fa7f9f74f7": {
     "model_module": "@jupyter-widgets/controls",
     "model_module_version": "1.5.0",
     "model_name": "ProgressStyleModel",
     "state": {
      "_model_module": "@jupyter-widgets/controls",
      "_model_module_version": "1.5.0",
      "_model_name": "ProgressStyleModel",
      "_view_count": null,
      "_view_module": "@jupyter-widgets/base",
      "_view_module_version": "1.2.0",
      "_view_name": "StyleView",
      "bar_color": null,
      "description_width": ""
     }
    },
    "da153d17247b47a2b83d2a4d3063aaf0": {
     "model_module": "@jupyter-widgets/controls",
     "model_module_version": "1.5.0",
     "model_name": "HTMLModel",
     "state": {
      "_dom_classes": [],
      "_model_module": "@jupyter-widgets/controls",
      "_model_module_version": "1.5.0",
      "_model_name": "HTMLModel",
      "_view_count": null,
      "_view_module": "@jupyter-widgets/controls",
      "_view_module_version": "1.5.0",
      "_view_name": "HTMLView",
      "description": "",
      "description_tooltip": null,
      "layout": "IPY_MODEL_0a8b9185fcb8431cb92361ad717af95f",
      "placeholder": "​",
      "style": "IPY_MODEL_e651b9b7a3ab439cb40b323849ba4a79",
      "value": "Map: 100%"
     }
    },
    "da8db023bcb44269a349e4dde96b156d": {
     "model_module": "@jupyter-widgets/controls",
     "model_module_version": "1.5.0",
     "model_name": "DescriptionStyleModel",
     "state": {
      "_model_module": "@jupyter-widgets/controls",
      "_model_module_version": "1.5.0",
      "_model_name": "DescriptionStyleModel",
      "_view_count": null,
      "_view_module": "@jupyter-widgets/base",
      "_view_module_version": "1.2.0",
      "_view_name": "StyleView",
      "description_width": ""
     }
    },
    "df5f77de95234a14a99f19a617e2c494": {
     "model_module": "@jupyter-widgets/controls",
     "model_module_version": "1.5.0",
     "model_name": "FloatProgressModel",
     "state": {
      "_dom_classes": [],
      "_model_module": "@jupyter-widgets/controls",
      "_model_module_version": "1.5.0",
      "_model_name": "FloatProgressModel",
      "_view_count": null,
      "_view_module": "@jupyter-widgets/controls",
      "_view_module_version": "1.5.0",
      "_view_name": "ProgressView",
      "bar_style": "success",
      "description": "",
      "description_tooltip": null,
      "layout": "IPY_MODEL_225eecce28e24905b358445ab42a3977",
      "max": 25000,
      "min": 0,
      "orientation": "horizontal",
      "style": "IPY_MODEL_e9ae47065ae44c7aaad30f03891c6a24",
      "value": 25000
     }
    },
    "df8f741e976f42aab61565b36119cdcf": {
     "model_module": "@jupyter-widgets/controls",
     "model_module_version": "1.5.0",
     "model_name": "HTMLModel",
     "state": {
      "_dom_classes": [],
      "_model_module": "@jupyter-widgets/controls",
      "_model_module_version": "1.5.0",
      "_model_name": "HTMLModel",
      "_view_count": null,
      "_view_module": "@jupyter-widgets/controls",
      "_view_module_version": "1.5.0",
      "_view_name": "HTMLView",
      "description": "",
      "description_tooltip": null,
      "layout": "IPY_MODEL_12938c1d10844468ad836563ae74c916",
      "placeholder": "​",
      "style": "IPY_MODEL_624b62692e43413bb2ee269133bb10c3",
      "value": " 2.17k/2.17k [00:00&lt;00:00, 124kB/s]"
     }
    },
    "dfcdc4aadb894ed8adc44da8619c6a6d": {
     "model_module": "@jupyter-widgets/controls",
     "model_module_version": "1.5.0",
     "model_name": "HTMLModel",
     "state": {
      "_dom_classes": [],
      "_model_module": "@jupyter-widgets/controls",
      "_model_module_version": "1.5.0",
      "_model_name": "HTMLModel",
      "_view_count": null,
      "_view_module": "@jupyter-widgets/controls",
      "_view_module_version": "1.5.0",
      "_view_name": "HTMLView",
      "description": "",
      "description_tooltip": null,
      "layout": "IPY_MODEL_c6b5885e9e0e48578d2085f393e19606",
      "placeholder": "​",
      "style": "IPY_MODEL_9c87195fd12244d6a6a466f09abf0690",
      "value": "Generating unsupervised split: 100%"
     }
    },
    "e275b56a379b4179ac3ff5680b41c027": {
     "model_module": "@jupyter-widgets/controls",
     "model_module_version": "1.5.0",
     "model_name": "HTMLModel",
     "state": {
      "_dom_classes": [],
      "_model_module": "@jupyter-widgets/controls",
      "_model_module_version": "1.5.0",
      "_model_name": "HTMLModel",
      "_view_count": null,
      "_view_module": "@jupyter-widgets/controls",
      "_view_module_version": "1.5.0",
      "_view_name": "HTMLView",
      "description": "",
      "description_tooltip": null,
      "layout": "IPY_MODEL_a2108aa85146422d86e1510d7721cd41",
      "placeholder": "​",
      "style": "IPY_MODEL_c04a55d072d6491d90d39713d025711f",
      "value": " 25000/25000 [00:08&lt;00:00, 9233.43 examples/s]"
     }
    },
    "e2b085f869f04e48a535ade900c2838b": {
     "model_module": "@jupyter-widgets/base",
     "model_module_version": "1.2.0",
     "model_name": "LayoutModel",
     "state": {
      "_model_module": "@jupyter-widgets/base",
      "_model_module_version": "1.2.0",
      "_model_name": "LayoutModel",
      "_view_count": null,
      "_view_module": "@jupyter-widgets/base",
      "_view_module_version": "1.2.0",
      "_view_name": "LayoutView",
      "align_content": null,
      "align_items": null,
      "align_self": null,
      "border": null,
      "bottom": null,
      "display": null,
      "flex": null,
      "flex_flow": null,
      "grid_area": null,
      "grid_auto_columns": null,
      "grid_auto_flow": null,
      "grid_auto_rows": null,
      "grid_column": null,
      "grid_gap": null,
      "grid_row": null,
      "grid_template_areas": null,
      "grid_template_columns": null,
      "grid_template_rows": null,
      "height": null,
      "justify_content": null,
      "justify_items": null,
      "left": null,
      "margin": null,
      "max_height": null,
      "max_width": null,
      "min_height": null,
      "min_width": null,
      "object_fit": null,
      "object_position": null,
      "order": null,
      "overflow": null,
      "overflow_x": null,
      "overflow_y": null,
      "padding": null,
      "right": null,
      "top": null,
      "visibility": null,
      "width": null
     }
    },
    "e3c315432a2e46c88f52fdd617683504": {
     "model_module": "@jupyter-widgets/base",
     "model_module_version": "1.2.0",
     "model_name": "LayoutModel",
     "state": {
      "_model_module": "@jupyter-widgets/base",
      "_model_module_version": "1.2.0",
      "_model_name": "LayoutModel",
      "_view_count": null,
      "_view_module": "@jupyter-widgets/base",
      "_view_module_version": "1.2.0",
      "_view_name": "LayoutView",
      "align_content": null,
      "align_items": null,
      "align_self": null,
      "border": null,
      "bottom": null,
      "display": null,
      "flex": null,
      "flex_flow": null,
      "grid_area": null,
      "grid_auto_columns": null,
      "grid_auto_flow": null,
      "grid_auto_rows": null,
      "grid_column": null,
      "grid_gap": null,
      "grid_row": null,
      "grid_template_areas": null,
      "grid_template_columns": null,
      "grid_template_rows": null,
      "height": null,
      "justify_content": null,
      "justify_items": null,
      "left": null,
      "margin": null,
      "max_height": null,
      "max_width": null,
      "min_height": null,
      "min_width": null,
      "object_fit": null,
      "object_position": null,
      "order": null,
      "overflow": null,
      "overflow_x": null,
      "overflow_y": null,
      "padding": null,
      "right": null,
      "top": null,
      "visibility": null,
      "width": null
     }
    },
    "e3e4f284bde9498190c83eb69da18f89": {
     "model_module": "@jupyter-widgets/controls",
     "model_module_version": "1.5.0",
     "model_name": "DescriptionStyleModel",
     "state": {
      "_model_module": "@jupyter-widgets/controls",
      "_model_module_version": "1.5.0",
      "_model_name": "DescriptionStyleModel",
      "_view_count": null,
      "_view_module": "@jupyter-widgets/base",
      "_view_module_version": "1.2.0",
      "_view_name": "StyleView",
      "description_width": ""
     }
    },
    "e5c567b4a85849f1ad3da01114726c9a": {
     "model_module": "@jupyter-widgets/controls",
     "model_module_version": "1.5.0",
     "model_name": "HTMLModel",
     "state": {
      "_dom_classes": [],
      "_model_module": "@jupyter-widgets/controls",
      "_model_module_version": "1.5.0",
      "_model_name": "HTMLModel",
      "_view_count": null,
      "_view_module": "@jupyter-widgets/controls",
      "_view_module_version": "1.5.0",
      "_view_name": "HTMLView",
      "description": "",
      "description_tooltip": null,
      "layout": "IPY_MODEL_a7c77ff578b94893a7bceee2a3c891fd",
      "placeholder": "​",
      "style": "IPY_MODEL_3d2efb76e4b54ab995b6bb7dc6d3e103",
      "value": "config.json: 100%"
     }
    },
    "e651afea30c945ecba49ee07b4bb2499": {
     "model_module": "@jupyter-widgets/base",
     "model_module_version": "1.2.0",
     "model_name": "LayoutModel",
     "state": {
      "_model_module": "@jupyter-widgets/base",
      "_model_module_version": "1.2.0",
      "_model_name": "LayoutModel",
      "_view_count": null,
      "_view_module": "@jupyter-widgets/base",
      "_view_module_version": "1.2.0",
      "_view_name": "LayoutView",
      "align_content": null,
      "align_items": null,
      "align_self": null,
      "border": null,
      "bottom": null,
      "display": null,
      "flex": null,
      "flex_flow": null,
      "grid_area": null,
      "grid_auto_columns": null,
      "grid_auto_flow": null,
      "grid_auto_rows": null,
      "grid_column": null,
      "grid_gap": null,
      "grid_row": null,
      "grid_template_areas": null,
      "grid_template_columns": null,
      "grid_template_rows": null,
      "height": null,
      "justify_content": null,
      "justify_items": null,
      "left": null,
      "margin": null,
      "max_height": null,
      "max_width": null,
      "min_height": null,
      "min_width": null,
      "object_fit": null,
      "object_position": null,
      "order": null,
      "overflow": null,
      "overflow_x": null,
      "overflow_y": null,
      "padding": null,
      "right": null,
      "top": null,
      "visibility": null,
      "width": null
     }
    },
    "e651b9b7a3ab439cb40b323849ba4a79": {
     "model_module": "@jupyter-widgets/controls",
     "model_module_version": "1.5.0",
     "model_name": "DescriptionStyleModel",
     "state": {
      "_model_module": "@jupyter-widgets/controls",
      "_model_module_version": "1.5.0",
      "_model_name": "DescriptionStyleModel",
      "_view_count": null,
      "_view_module": "@jupyter-widgets/base",
      "_view_module_version": "1.2.0",
      "_view_name": "StyleView",
      "description_width": ""
     }
    },
    "e6afd7c1f2944bf7a2f30476203161c5": {
     "model_module": "@jupyter-widgets/controls",
     "model_module_version": "1.5.0",
     "model_name": "DescriptionStyleModel",
     "state": {
      "_model_module": "@jupyter-widgets/controls",
      "_model_module_version": "1.5.0",
      "_model_name": "DescriptionStyleModel",
      "_view_count": null,
      "_view_module": "@jupyter-widgets/base",
      "_view_module_version": "1.2.0",
      "_view_name": "StyleView",
      "description_width": ""
     }
    },
    "e6fd319d13c447f0b983fbb3791b2967": {
     "model_module": "@jupyter-widgets/controls",
     "model_module_version": "1.5.0",
     "model_name": "HBoxModel",
     "state": {
      "_dom_classes": [],
      "_model_module": "@jupyter-widgets/controls",
      "_model_module_version": "1.5.0",
      "_model_name": "HBoxModel",
      "_view_count": null,
      "_view_module": "@jupyter-widgets/controls",
      "_view_module_version": "1.5.0",
      "_view_name": "HBoxView",
      "box_style": "",
      "children": [
       "IPY_MODEL_f61e49d1b75141eaaf82f12a4f59b3e3",
       "IPY_MODEL_3dbaaa194a544af5a4ec6d92539aafec",
       "IPY_MODEL_62a6a91483c844e7b16ff49def9ea893"
      ],
      "layout": "IPY_MODEL_771fe2c037f24e2286788e68296eccd6"
     }
    },
    "e742b37772064d06ad950792ae338794": {
     "model_module": "@jupyter-widgets/base",
     "model_module_version": "1.2.0",
     "model_name": "LayoutModel",
     "state": {
      "_model_module": "@jupyter-widgets/base",
      "_model_module_version": "1.2.0",
      "_model_name": "LayoutModel",
      "_view_count": null,
      "_view_module": "@jupyter-widgets/base",
      "_view_module_version": "1.2.0",
      "_view_name": "LayoutView",
      "align_content": null,
      "align_items": null,
      "align_self": null,
      "border": null,
      "bottom": null,
      "display": null,
      "flex": null,
      "flex_flow": null,
      "grid_area": null,
      "grid_auto_columns": null,
      "grid_auto_flow": null,
      "grid_auto_rows": null,
      "grid_column": null,
      "grid_gap": null,
      "grid_row": null,
      "grid_template_areas": null,
      "grid_template_columns": null,
      "grid_template_rows": null,
      "height": null,
      "justify_content": null,
      "justify_items": null,
      "left": null,
      "margin": null,
      "max_height": null,
      "max_width": null,
      "min_height": null,
      "min_width": null,
      "object_fit": null,
      "object_position": null,
      "order": null,
      "overflow": null,
      "overflow_x": null,
      "overflow_y": null,
      "padding": null,
      "right": null,
      "top": null,
      "visibility": null,
      "width": null
     }
    },
    "e7a5218ca2ee48899fc991221e225807": {
     "model_module": "@jupyter-widgets/base",
     "model_module_version": "1.2.0",
     "model_name": "LayoutModel",
     "state": {
      "_model_module": "@jupyter-widgets/base",
      "_model_module_version": "1.2.0",
      "_model_name": "LayoutModel",
      "_view_count": null,
      "_view_module": "@jupyter-widgets/base",
      "_view_module_version": "1.2.0",
      "_view_name": "LayoutView",
      "align_content": null,
      "align_items": null,
      "align_self": null,
      "border": null,
      "bottom": null,
      "display": null,
      "flex": null,
      "flex_flow": null,
      "grid_area": null,
      "grid_auto_columns": null,
      "grid_auto_flow": null,
      "grid_auto_rows": null,
      "grid_column": null,
      "grid_gap": null,
      "grid_row": null,
      "grid_template_areas": null,
      "grid_template_columns": null,
      "grid_template_rows": null,
      "height": null,
      "justify_content": null,
      "justify_items": null,
      "left": null,
      "margin": null,
      "max_height": null,
      "max_width": null,
      "min_height": null,
      "min_width": null,
      "object_fit": null,
      "object_position": null,
      "order": null,
      "overflow": null,
      "overflow_x": null,
      "overflow_y": null,
      "padding": null,
      "right": null,
      "top": null,
      "visibility": null,
      "width": null
     }
    },
    "e9ae47065ae44c7aaad30f03891c6a24": {
     "model_module": "@jupyter-widgets/controls",
     "model_module_version": "1.5.0",
     "model_name": "ProgressStyleModel",
     "state": {
      "_model_module": "@jupyter-widgets/controls",
      "_model_module_version": "1.5.0",
      "_model_name": "ProgressStyleModel",
      "_view_count": null,
      "_view_module": "@jupyter-widgets/base",
      "_view_module_version": "1.2.0",
      "_view_name": "StyleView",
      "bar_color": null,
      "description_width": ""
     }
    },
    "eaf59b568faa45f9b59f61bcfaea6aba": {
     "model_module": "@jupyter-widgets/controls",
     "model_module_version": "1.5.0",
     "model_name": "DescriptionStyleModel",
     "state": {
      "_model_module": "@jupyter-widgets/controls",
      "_model_module_version": "1.5.0",
      "_model_name": "DescriptionStyleModel",
      "_view_count": null,
      "_view_module": "@jupyter-widgets/base",
      "_view_module_version": "1.2.0",
      "_view_name": "StyleView",
      "description_width": ""
     }
    },
    "ebed0cbd20f34c0cb9748250c4447505": {
     "model_module": "@jupyter-widgets/base",
     "model_module_version": "1.2.0",
     "model_name": "LayoutModel",
     "state": {
      "_model_module": "@jupyter-widgets/base",
      "_model_module_version": "1.2.0",
      "_model_name": "LayoutModel",
      "_view_count": null,
      "_view_module": "@jupyter-widgets/base",
      "_view_module_version": "1.2.0",
      "_view_name": "LayoutView",
      "align_content": null,
      "align_items": null,
      "align_self": null,
      "border": null,
      "bottom": null,
      "display": null,
      "flex": null,
      "flex_flow": null,
      "grid_area": null,
      "grid_auto_columns": null,
      "grid_auto_flow": null,
      "grid_auto_rows": null,
      "grid_column": null,
      "grid_gap": null,
      "grid_row": null,
      "grid_template_areas": null,
      "grid_template_columns": null,
      "grid_template_rows": null,
      "height": null,
      "justify_content": null,
      "justify_items": null,
      "left": null,
      "margin": null,
      "max_height": null,
      "max_width": null,
      "min_height": null,
      "min_width": null,
      "object_fit": null,
      "object_position": null,
      "order": null,
      "overflow": null,
      "overflow_x": null,
      "overflow_y": null,
      "padding": null,
      "right": null,
      "top": null,
      "visibility": null,
      "width": null
     }
    },
    "ec15bc5952c84e988873669078736ed3": {
     "model_module": "@jupyter-widgets/base",
     "model_module_version": "1.2.0",
     "model_name": "LayoutModel",
     "state": {
      "_model_module": "@jupyter-widgets/base",
      "_model_module_version": "1.2.0",
      "_model_name": "LayoutModel",
      "_view_count": null,
      "_view_module": "@jupyter-widgets/base",
      "_view_module_version": "1.2.0",
      "_view_name": "LayoutView",
      "align_content": null,
      "align_items": null,
      "align_self": null,
      "border": null,
      "bottom": null,
      "display": null,
      "flex": null,
      "flex_flow": null,
      "grid_area": null,
      "grid_auto_columns": null,
      "grid_auto_flow": null,
      "grid_auto_rows": null,
      "grid_column": null,
      "grid_gap": null,
      "grid_row": null,
      "grid_template_areas": null,
      "grid_template_columns": null,
      "grid_template_rows": null,
      "height": null,
      "justify_content": null,
      "justify_items": null,
      "left": null,
      "margin": null,
      "max_height": null,
      "max_width": null,
      "min_height": null,
      "min_width": null,
      "object_fit": null,
      "object_position": null,
      "order": null,
      "overflow": null,
      "overflow_x": null,
      "overflow_y": null,
      "padding": null,
      "right": null,
      "top": null,
      "visibility": null,
      "width": null
     }
    },
    "edb447561e1c4a049f7da7fe57c08676": {
     "model_module": "@jupyter-widgets/base",
     "model_module_version": "1.2.0",
     "model_name": "LayoutModel",
     "state": {
      "_model_module": "@jupyter-widgets/base",
      "_model_module_version": "1.2.0",
      "_model_name": "LayoutModel",
      "_view_count": null,
      "_view_module": "@jupyter-widgets/base",
      "_view_module_version": "1.2.0",
      "_view_name": "LayoutView",
      "align_content": null,
      "align_items": null,
      "align_self": null,
      "border": null,
      "bottom": null,
      "display": null,
      "flex": null,
      "flex_flow": null,
      "grid_area": null,
      "grid_auto_columns": null,
      "grid_auto_flow": null,
      "grid_auto_rows": null,
      "grid_column": null,
      "grid_gap": null,
      "grid_row": null,
      "grid_template_areas": null,
      "grid_template_columns": null,
      "grid_template_rows": null,
      "height": null,
      "justify_content": null,
      "justify_items": null,
      "left": null,
      "margin": null,
      "max_height": null,
      "max_width": null,
      "min_height": null,
      "min_width": null,
      "object_fit": null,
      "object_position": null,
      "order": null,
      "overflow": null,
      "overflow_x": null,
      "overflow_y": null,
      "padding": null,
      "right": null,
      "top": null,
      "visibility": null,
      "width": null
     }
    },
    "f10191bcfde840fab430b3c7ad6ec035": {
     "model_module": "@jupyter-widgets/controls",
     "model_module_version": "1.5.0",
     "model_name": "HTMLModel",
     "state": {
      "_dom_classes": [],
      "_model_module": "@jupyter-widgets/controls",
      "_model_module_version": "1.5.0",
      "_model_name": "HTMLModel",
      "_view_count": null,
      "_view_module": "@jupyter-widgets/controls",
      "_view_module_version": "1.5.0",
      "_view_name": "HTMLView",
      "description": "",
      "description_tooltip": null,
      "layout": "IPY_MODEL_4a874d006e944f75a507e3a0138f2d7c",
      "placeholder": "​",
      "style": "IPY_MODEL_19c1a067d2924db4afa49a07aa05dd7a",
      "value": "Downloading metadata: 100%"
     }
    },
    "f22b5c2292f5437daa13251da0dab9ec": {
     "model_module": "@jupyter-widgets/controls",
     "model_module_version": "1.5.0",
     "model_name": "FloatProgressModel",
     "state": {
      "_dom_classes": [],
      "_model_module": "@jupyter-widgets/controls",
      "_model_module_version": "1.5.0",
      "_model_name": "FloatProgressModel",
      "_view_count": null,
      "_view_module": "@jupyter-widgets/controls",
      "_view_module_version": "1.5.0",
      "_view_name": "ProgressView",
      "bar_style": "success",
      "description": "",
      "description_tooltip": null,
      "layout": "IPY_MODEL_bf86ecb8744147e79d31f368ad9800d9",
      "max": 150,
      "min": 0,
      "orientation": "horizontal",
      "style": "IPY_MODEL_ae07d59c574949e3a401e82f7d8302c8",
      "value": 150
     }
    },
    "f3cf07458fc14b6c8e49c69369c9645a": {
     "model_module": "@jupyter-widgets/controls",
     "model_module_version": "1.5.0",
     "model_name": "HTMLModel",
     "state": {
      "_dom_classes": [],
      "_model_module": "@jupyter-widgets/controls",
      "_model_module_version": "1.5.0",
      "_model_name": "HTMLModel",
      "_view_count": null,
      "_view_module": "@jupyter-widgets/controls",
      "_view_module_version": "1.5.0",
      "_view_name": "HTMLView",
      "description": "",
      "description_tooltip": null,
      "layout": "IPY_MODEL_b5431481d895482fb9b367659d6f372a",
      "placeholder": "​",
      "style": "IPY_MODEL_eaf59b568faa45f9b59f61bcfaea6aba",
      "value": "Downloading readme: 100%"
     }
    },
    "f43c6c64f63a4984b38e71bbdac72cb2": {
     "model_module": "@jupyter-widgets/controls",
     "model_module_version": "1.5.0",
     "model_name": "HTMLModel",
     "state": {
      "_dom_classes": [],
      "_model_module": "@jupyter-widgets/controls",
      "_model_module_version": "1.5.0",
      "_model_name": "HTMLModel",
      "_view_count": null,
      "_view_module": "@jupyter-widgets/controls",
      "_view_module_version": "1.5.0",
      "_view_name": "HTMLView",
      "description": "",
      "description_tooltip": null,
      "layout": "IPY_MODEL_98ddb94b43314a5c9cb666958be6a07d",
      "placeholder": "​",
      "style": "IPY_MODEL_b774f7657d08438187b388085bd0596a",
      "value": "model.safetensors: 100%"
     }
    },
    "f4729ede56d34ac7a44a8e3a85146cc1": {
     "model_module": "@jupyter-widgets/controls",
     "model_module_version": "1.5.0",
     "model_name": "ProgressStyleModel",
     "state": {
      "_model_module": "@jupyter-widgets/controls",
      "_model_module_version": "1.5.0",
      "_model_name": "ProgressStyleModel",
      "_view_count": null,
      "_view_module": "@jupyter-widgets/base",
      "_view_module_version": "1.2.0",
      "_view_name": "StyleView",
      "bar_color": null,
      "description_width": ""
     }
    },
    "f5b016aca3fe4231a2af8b82a362239e": {
     "model_module": "@jupyter-widgets/controls",
     "model_module_version": "1.5.0",
     "model_name": "DescriptionStyleModel",
     "state": {
      "_model_module": "@jupyter-widgets/controls",
      "_model_module_version": "1.5.0",
      "_model_name": "DescriptionStyleModel",
      "_view_count": null,
      "_view_module": "@jupyter-widgets/base",
      "_view_module_version": "1.2.0",
      "_view_name": "StyleView",
      "description_width": ""
     }
    },
    "f61e49d1b75141eaaf82f12a4f59b3e3": {
     "model_module": "@jupyter-widgets/controls",
     "model_module_version": "1.5.0",
     "model_name": "HTMLModel",
     "state": {
      "_dom_classes": [],
      "_model_module": "@jupyter-widgets/controls",
      "_model_module_version": "1.5.0",
      "_model_name": "HTMLModel",
      "_view_count": null,
      "_view_module": "@jupyter-widgets/controls",
      "_view_module_version": "1.5.0",
      "_view_name": "HTMLView",
      "description": "",
      "description_tooltip": null,
      "layout": "IPY_MODEL_89441c396da540bcbaf89ba978c9092d",
      "placeholder": "​",
      "style": "IPY_MODEL_e6afd7c1f2944bf7a2f30476203161c5",
      "value": "merges.txt: 100%"
     }
    },
    "f72078c423b84ff9a6ef526851e6b329": {
     "model_module": "@jupyter-widgets/base",
     "model_module_version": "1.2.0",
     "model_name": "LayoutModel",
     "state": {
      "_model_module": "@jupyter-widgets/base",
      "_model_module_version": "1.2.0",
      "_model_name": "LayoutModel",
      "_view_count": null,
      "_view_module": "@jupyter-widgets/base",
      "_view_module_version": "1.2.0",
      "_view_name": "LayoutView",
      "align_content": null,
      "align_items": null,
      "align_self": null,
      "border": null,
      "bottom": null,
      "display": null,
      "flex": null,
      "flex_flow": null,
      "grid_area": null,
      "grid_auto_columns": null,
      "grid_auto_flow": null,
      "grid_auto_rows": null,
      "grid_column": null,
      "grid_gap": null,
      "grid_row": null,
      "grid_template_areas": null,
      "grid_template_columns": null,
      "grid_template_rows": null,
      "height": null,
      "justify_content": null,
      "justify_items": null,
      "left": null,
      "margin": null,
      "max_height": null,
      "max_width": null,
      "min_height": null,
      "min_width": null,
      "object_fit": null,
      "object_position": null,
      "order": null,
      "overflow": null,
      "overflow_x": null,
      "overflow_y": null,
      "padding": null,
      "right": null,
      "top": null,
      "visibility": null,
      "width": null
     }
    },
    "fd0e1d94557a436fa711b3ab0cd6455b": {
     "model_module": "@jupyter-widgets/controls",
     "model_module_version": "1.5.0",
     "model_name": "DescriptionStyleModel",
     "state": {
      "_model_module": "@jupyter-widgets/controls",
      "_model_module_version": "1.5.0",
      "_model_name": "DescriptionStyleModel",
      "_view_count": null,
      "_view_module": "@jupyter-widgets/base",
      "_view_module_version": "1.2.0",
      "_view_name": "StyleView",
      "description_width": ""
     }
    },
    "fe1c2b1c773e44b4b7c00cf5881aac9e": {
     "model_module": "@jupyter-widgets/base",
     "model_module_version": "1.2.0",
     "model_name": "LayoutModel",
     "state": {
      "_model_module": "@jupyter-widgets/base",
      "_model_module_version": "1.2.0",
      "_model_name": "LayoutModel",
      "_view_count": null,
      "_view_module": "@jupyter-widgets/base",
      "_view_module_version": "1.2.0",
      "_view_name": "LayoutView",
      "align_content": null,
      "align_items": null,
      "align_self": null,
      "border": null,
      "bottom": null,
      "display": null,
      "flex": null,
      "flex_flow": null,
      "grid_area": null,
      "grid_auto_columns": null,
      "grid_auto_flow": null,
      "grid_auto_rows": null,
      "grid_column": null,
      "grid_gap": null,
      "grid_row": null,
      "grid_template_areas": null,
      "grid_template_columns": null,
      "grid_template_rows": null,
      "height": null,
      "justify_content": null,
      "justify_items": null,
      "left": null,
      "margin": null,
      "max_height": null,
      "max_width": null,
      "min_height": null,
      "min_width": null,
      "object_fit": null,
      "object_position": null,
      "order": null,
      "overflow": null,
      "overflow_x": null,
      "overflow_y": null,
      "padding": null,
      "right": null,
      "top": null,
      "visibility": null,
      "width": null
     }
    },
    "ff69550d6a1e4efcb036f6814da7296c": {
     "model_module": "@jupyter-widgets/controls",
     "model_module_version": "1.5.0",
     "model_name": "FloatProgressModel",
     "state": {
      "_dom_classes": [],
      "_model_module": "@jupyter-widgets/controls",
      "_model_module_version": "1.5.0",
      "_model_name": "FloatProgressModel",
      "_view_count": null,
      "_view_module": "@jupyter-widgets/controls",
      "_view_module_version": "1.5.0",
      "_view_name": "ProgressView",
      "bar_style": "success",
      "description": "",
      "description_tooltip": null,
      "layout": "IPY_MODEL_43a8d2bb6c304985b40affbc9882fafd",
      "max": 7590,
      "min": 0,
      "orientation": "horizontal",
      "style": "IPY_MODEL_48ce610b33104015af7ed625e95cfe5e",
      "value": 7590
     }
    },
    "ffcdddc17f7647ef8ddc6ebb4c8afcfe": {
     "model_module": "@jupyter-widgets/base",
     "model_module_version": "1.2.0",
     "model_name": "LayoutModel",
     "state": {
      "_model_module": "@jupyter-widgets/base",
      "_model_module_version": "1.2.0",
      "_model_name": "LayoutModel",
      "_view_count": null,
      "_view_module": "@jupyter-widgets/base",
      "_view_module_version": "1.2.0",
      "_view_name": "LayoutView",
      "align_content": null,
      "align_items": null,
      "align_self": null,
      "border": null,
      "bottom": null,
      "display": null,
      "flex": null,
      "flex_flow": null,
      "grid_area": null,
      "grid_auto_columns": null,
      "grid_auto_flow": null,
      "grid_auto_rows": null,
      "grid_column": null,
      "grid_gap": null,
      "grid_row": null,
      "grid_template_areas": null,
      "grid_template_columns": null,
      "grid_template_rows": null,
      "height": null,
      "justify_content": null,
      "justify_items": null,
      "left": null,
      "margin": null,
      "max_height": null,
      "max_width": null,
      "min_height": null,
      "min_width": null,
      "object_fit": null,
      "object_position": null,
      "order": null,
      "overflow": null,
      "overflow_x": null,
      "overflow_y": null,
      "padding": null,
      "right": null,
      "top": null,
      "visibility": null,
      "width": null
     }
    }
   }
  }
 },
 "nbformat": 4,
 "nbformat_minor": 0
}
